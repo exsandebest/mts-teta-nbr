{
 "cells": [
  {
   "cell_type": "markdown",
   "id": "62cabe1c-da79-4733-b2c3-076a5a681232",
   "metadata": {},
   "source": [
    "### TIFU KNN\n",
    "Один из самых эффективных алгоритмов для решения задачи next basket recommendation  \n",
    "Была использована его вариация  \n",
    "Примерный алгоритм следующий:\n",
    "* Каждую корзину кодируем как вектор, где на i-й позиции стоит количество i-го товара в этой корзине\n",
    "* Далее складываем все корзины каждого пользователя:\n",
    "    - Либо как взвешенное среднее по всем корзинам\n",
    "    - Либо как сумму векторов, умноженных на веса\n",
    "    - !Старые корзины имеют меньший коэффициент\n",
    "* По полученным векторам находим ближайших соседей каждого пользователя и:\n",
    "    - Либо берем итоговый вектор пользователя как взвешенное среднее по всем соседям и самому пользователю (чем дальше сосед, чем меньше коэффициент)\n",
    "    - Либо находим взвешенное среднее по всем соседям, а дальше итоговый вектор получаем как P = v_user * alpha + v_avg_neighbors * (1 - alpha)\n",
    "* Далее находим позиции в итоговом векторе каждого пользователя, где значения максимальны - это и есть рекомендации  \n",
    "  \n",
    "В оригинальном алгоритме корзины каждого пользователя разбиваются на группы, но так как в среднем покупок у пользователя не так много, этот шаг был убран"
   ]
  },
  {
   "cell_type": "code",
   "execution_count": 1,
   "id": "4e1c0058-a4ba-4062-8ff7-2b9d91dd3ad4",
   "metadata": {},
   "outputs": [
    {
     "name": "stdout",
     "output_type": "stream",
     "text": [
      "Populating the interactive namespace from numpy and matplotlib\n",
      "Wall time: 2.49 s\n"
     ]
    }
   ],
   "source": [
    "%%time\n",
    "%pylab inline\n",
    "import pandas as pd\n",
    "import numpy as np\n",
    "from sklearn.metrics import f1_score\n",
    "from sklearn.neighbors import NearestNeighbors\n",
    "from implicit.lmf import LogisticMatrixFactorization\n",
    "from scipy import sparse\n",
    "from tqdm import tqdm\n",
    "import pickle\n",
    "import gc\n",
    "tqdm.pandas()"
   ]
  },
  {
   "cell_type": "code",
   "execution_count": 2,
   "id": "3cb2d1df-30f4-47ec-a931-5a3717cbad54",
   "metadata": {},
   "outputs": [
    {
     "name": "stderr",
     "output_type": "stream",
     "text": [
      "100%|██████████████████████████████████████████████████████████████████████| 790449/790449 [00:01<00:00, 696393.10it/s]\n",
      "100%|██████████████████████████████████████████████████████████████████████| 790449/790449 [00:01<00:00, 661501.65it/s]\n"
     ]
    }
   ],
   "source": [
    "df = pd.read_csv(\"train.csv\")\n",
    "ss = pd.read_csv(\"sample_submission.csv\")\n",
    "\n",
    "df.rename(columns={\"order_completed_at\":\"time\"}, inplace=True) # rename \"order_completed_at\" column to \"time\"\n",
    "df[\"time\"] = pd.to_datetime(df[\"time\"], format=\"%Y-%m-%d %H:%M:%S\") # \"time\" column to datetime type\n",
    "\n",
    "# Split \"id\" column to \"user_id\" and \"cart\" columns\n",
    "ss[\"user_id\"] = ss.id.progress_apply(lambda x: x.split(\";\")[0]).astype(int)\n",
    "ss[\"cart\"] = ss.id.progress_apply(lambda x: x.split(\";\")[1]).astype(int)\n",
    "ss = ss[[\"user_id\", \"cart\", \"target\"]] "
   ]
  },
  {
   "cell_type": "code",
   "execution_count": 3,
   "id": "15d31718-b28f-4493-abc5-d26473aef896",
   "metadata": {},
   "outputs": [],
   "source": [
    "r = 0.8\n",
    "k_nearest = 20              \n",
    "alpha = 0.85    \n",
    "top_k = 15"
   ]
  },
  {
   "cell_type": "code",
   "execution_count": 4,
   "id": "51aecc87-8521-4234-beea-af75b53ceeee",
   "metadata": {},
   "outputs": [],
   "source": [
    "carts_count = 881\n",
    "users_count = 20000"
   ]
  },
  {
   "cell_type": "code",
   "execution_count": 5,
   "id": "c6a05bd4-6d8d-4c8d-baf7-a47a6400d2e8",
   "metadata": {},
   "outputs": [],
   "source": [
    "def duplicates_to_count(t):\n",
    "    map_table = t.groupby(\"time\")[\"user_id\"].first().to_frame().reset_index()\n",
    "    count_table = t.groupby(\"time\")[\"cart\"].value_counts().to_frame().rename(columns={\"cart\":\"count\"}).reset_index()\n",
    "    return pd.merge(count_table, map_table, on=\"time\", how=\"left\").reset_index()[[\"user_id\", \"time\", \"cart\", \"count\"]]\n",
    "\n",
    "def count_to_duplicates(t):\n",
    "    g = t.copy()\n",
    "    g[\"to_explode\"] = g[\"count\"].apply(lambda x: [i for i in range(x)])\n",
    "    g.explode(\"to_explode\").reset_index().drop(columns=[\"count\", \"to_explode\", \"index\"])\n",
    "    return g\n",
    "\n",
    "def to_required_df(df): # [user_id, cart, target] -> [id, target]\n",
    "    df[\"id\"] = df[\"user_id\"].astype(str) + \";\" + df[\"cart\"].astype(str)\n",
    "    df.drop(columns=[\"user_id\", \"cart\"], inplace=True)\n",
    "    df.rename(columns={\"predict\":\"target\"}, inplace=True)\n",
    "    return df[[\"id\", \"target\"]]\n",
    "\n",
    "def make_train_targets(t, level=1):\n",
    "    user_last_time = t.groupby([\"user_id\"])[\"time\"].last().to_frame().reset_index()\n",
    "    user_last_time[\"last_buy\"] = 1\n",
    "    \n",
    "    train = pd.merge(t, user_last_time, on=[\"time\", \"user_id\"], how=\"left\")\n",
    "    train = train[train[\"last_buy\"] != 1]\n",
    "    train.drop(columns=[\"last_buy\"], inplace=True)\n",
    "    \n",
    "    if level >= 2:\n",
    "        return make_train_targets(train, level-1)\n",
    "    \n",
    "    user_last_time.drop(columns=[\"last_buy\"], inplace=True)\n",
    "    \n",
    "    user_last_carts = pd.merge(user_last_time, df.drop(columns=[\"user_id\"]), on=\"time\", how=\"left\")\n",
    "    \n",
    "    skeleton = make_skeleton(train)\n",
    "    targets = pd.merge(skeleton, user_last_carts.drop(columns=[\"time\"]), on=[\"user_id\",\"cart\"], how=\"left\")\n",
    "    targets.fillna(0, inplace=True)\n",
    "    targets[\"count\"] = targets[\"count\"].apply(lambda x: x if x <= 1 else 1).astype(int)\n",
    "    targets.rename(columns={\"count\":\"target\"}, inplace=True)\n",
    "    return train, targets\n",
    "\n",
    "def make_skeleton(t):\n",
    "    return t.groupby(\"user_id\")[\"cart\"].unique().to_frame().reset_index().explode(\"cart\")\n",
    "\n",
    "def user_cart_pivot_table(t):\n",
    "    g = pd.pivot_table(t, columns=\"cart\", index=[\"user_id\", \"time\"], values=\"count\", aggfunc=np.sum, fill_value=0)\n",
    "    for cart in list(set(df[\"cart\"].unique()).difference(set(t[\"cart\"].unique()))):\n",
    "        g[cart] = 0\n",
    "    return g"
   ]
  },
  {
   "cell_type": "code",
   "execution_count": 6,
   "id": "416d8121-e779-4632-8fcb-265979b979d5",
   "metadata": {},
   "outputs": [],
   "source": [
    "df = duplicates_to_count(df)"
   ]
  },
  {
   "cell_type": "code",
   "execution_count": 7,
   "id": "0213b277-a11a-43a4-963a-f4493f400878",
   "metadata": {},
   "outputs": [],
   "source": [
    "train, targets = make_train_targets(df, level=1)"
   ]
  },
  {
   "cell_type": "code",
   "execution_count": 8,
   "id": "2820d3d3-2603-47f5-a7c2-eaff5a7e92f5",
   "metadata": {},
   "outputs": [],
   "source": [
    "main = user_cart_pivot_table(train) # or user_cart_pivot_table(df) in test case"
   ]
  },
  {
   "cell_type": "code",
   "execution_count": 9,
   "id": "3e9269c6-d4ca-4119-807a-a38b806da085",
   "metadata": {},
   "outputs": [],
   "source": [
    "main = main.reindex(sorted(main.columns), axis=1).reset_index()"
   ]
  },
  {
   "cell_type": "code",
   "execution_count": 10,
   "id": "4a8f3f49-b169-49c8-84f4-0574e3353780",
   "metadata": {},
   "outputs": [
    {
     "data": {
      "text/html": [
       "<div>\n",
       "<style scoped>\n",
       "    .dataframe tbody tr th:only-of-type {\n",
       "        vertical-align: middle;\n",
       "    }\n",
       "\n",
       "    .dataframe tbody tr th {\n",
       "        vertical-align: top;\n",
       "    }\n",
       "\n",
       "    .dataframe thead th {\n",
       "        text-align: right;\n",
       "    }\n",
       "</style>\n",
       "<table border=\"1\" class=\"dataframe\">\n",
       "  <thead>\n",
       "    <tr style=\"text-align: right;\">\n",
       "      <th>cart</th>\n",
       "      <th>user_id</th>\n",
       "      <th>time</th>\n",
       "      <th>0</th>\n",
       "      <th>1</th>\n",
       "      <th>2</th>\n",
       "      <th>3</th>\n",
       "      <th>4</th>\n",
       "      <th>5</th>\n",
       "      <th>6</th>\n",
       "      <th>7</th>\n",
       "      <th>...</th>\n",
       "      <th>871</th>\n",
       "      <th>872</th>\n",
       "      <th>873</th>\n",
       "      <th>874</th>\n",
       "      <th>875</th>\n",
       "      <th>876</th>\n",
       "      <th>877</th>\n",
       "      <th>878</th>\n",
       "      <th>879</th>\n",
       "      <th>880</th>\n",
       "    </tr>\n",
       "  </thead>\n",
       "  <tbody>\n",
       "    <tr>\n",
       "      <th>0</th>\n",
       "      <td>0</td>\n",
       "      <td>2020-07-19 09:59:17</td>\n",
       "      <td>0</td>\n",
       "      <td>0</td>\n",
       "      <td>0</td>\n",
       "      <td>0</td>\n",
       "      <td>0</td>\n",
       "      <td>0</td>\n",
       "      <td>0</td>\n",
       "      <td>0</td>\n",
       "      <td>...</td>\n",
       "      <td>0</td>\n",
       "      <td>0</td>\n",
       "      <td>0</td>\n",
       "      <td>0</td>\n",
       "      <td>0</td>\n",
       "      <td>0</td>\n",
       "      <td>0</td>\n",
       "      <td>0</td>\n",
       "      <td>0</td>\n",
       "      <td>0</td>\n",
       "    </tr>\n",
       "    <tr>\n",
       "      <th>1</th>\n",
       "      <td>0</td>\n",
       "      <td>2020-08-24 08:55:32</td>\n",
       "      <td>0</td>\n",
       "      <td>0</td>\n",
       "      <td>0</td>\n",
       "      <td>0</td>\n",
       "      <td>0</td>\n",
       "      <td>1</td>\n",
       "      <td>0</td>\n",
       "      <td>0</td>\n",
       "      <td>...</td>\n",
       "      <td>0</td>\n",
       "      <td>0</td>\n",
       "      <td>0</td>\n",
       "      <td>0</td>\n",
       "      <td>0</td>\n",
       "      <td>0</td>\n",
       "      <td>0</td>\n",
       "      <td>0</td>\n",
       "      <td>0</td>\n",
       "      <td>0</td>\n",
       "    </tr>\n",
       "    <tr>\n",
       "      <th>2</th>\n",
       "      <td>1</td>\n",
       "      <td>2019-05-08 16:09:41</td>\n",
       "      <td>0</td>\n",
       "      <td>0</td>\n",
       "      <td>0</td>\n",
       "      <td>0</td>\n",
       "      <td>0</td>\n",
       "      <td>0</td>\n",
       "      <td>0</td>\n",
       "      <td>0</td>\n",
       "      <td>...</td>\n",
       "      <td>0</td>\n",
       "      <td>0</td>\n",
       "      <td>0</td>\n",
       "      <td>0</td>\n",
       "      <td>0</td>\n",
       "      <td>0</td>\n",
       "      <td>0</td>\n",
       "      <td>0</td>\n",
       "      <td>0</td>\n",
       "      <td>0</td>\n",
       "    </tr>\n",
       "    <tr>\n",
       "      <th>3</th>\n",
       "      <td>1</td>\n",
       "      <td>2020-01-17 14:44:23</td>\n",
       "      <td>0</td>\n",
       "      <td>0</td>\n",
       "      <td>0</td>\n",
       "      <td>0</td>\n",
       "      <td>0</td>\n",
       "      <td>0</td>\n",
       "      <td>0</td>\n",
       "      <td>0</td>\n",
       "      <td>...</td>\n",
       "      <td>0</td>\n",
       "      <td>0</td>\n",
       "      <td>0</td>\n",
       "      <td>0</td>\n",
       "      <td>0</td>\n",
       "      <td>0</td>\n",
       "      <td>0</td>\n",
       "      <td>0</td>\n",
       "      <td>0</td>\n",
       "      <td>0</td>\n",
       "    </tr>\n",
       "    <tr>\n",
       "      <th>4</th>\n",
       "      <td>1</td>\n",
       "      <td>2020-02-06 22:46:55</td>\n",
       "      <td>0</td>\n",
       "      <td>0</td>\n",
       "      <td>0</td>\n",
       "      <td>0</td>\n",
       "      <td>0</td>\n",
       "      <td>0</td>\n",
       "      <td>0</td>\n",
       "      <td>0</td>\n",
       "      <td>...</td>\n",
       "      <td>0</td>\n",
       "      <td>0</td>\n",
       "      <td>0</td>\n",
       "      <td>0</td>\n",
       "      <td>0</td>\n",
       "      <td>0</td>\n",
       "      <td>0</td>\n",
       "      <td>0</td>\n",
       "      <td>0</td>\n",
       "      <td>0</td>\n",
       "    </tr>\n",
       "  </tbody>\n",
       "</table>\n",
       "<p>5 rows × 883 columns</p>\n",
       "</div>"
      ],
      "text/plain": [
       "cart  user_id                time  0  1  2  3  4  5  6  7  ...  871  872  873  \\\n",
       "0           0 2020-07-19 09:59:17  0  0  0  0  0  0  0  0  ...    0    0    0   \n",
       "1           0 2020-08-24 08:55:32  0  0  0  0  0  1  0  0  ...    0    0    0   \n",
       "2           1 2019-05-08 16:09:41  0  0  0  0  0  0  0  0  ...    0    0    0   \n",
       "3           1 2020-01-17 14:44:23  0  0  0  0  0  0  0  0  ...    0    0    0   \n",
       "4           1 2020-02-06 22:46:55  0  0  0  0  0  0  0  0  ...    0    0    0   \n",
       "\n",
       "cart  874  875  876  877  878  879  880  \n",
       "0       0    0    0    0    0    0    0  \n",
       "1       0    0    0    0    0    0    0  \n",
       "2       0    0    0    0    0    0    0  \n",
       "3       0    0    0    0    0    0    0  \n",
       "4       0    0    0    0    0    0    0  \n",
       "\n",
       "[5 rows x 883 columns]"
      ]
     },
     "execution_count": 10,
     "metadata": {},
     "output_type": "execute_result"
    }
   ],
   "source": [
    "main.head()"
   ]
  },
  {
   "cell_type": "code",
   "execution_count": 11,
   "id": "1564d1ec-edf0-4cfd-9067-fd3f7e96eae2",
   "metadata": {},
   "outputs": [
    {
     "name": "stderr",
     "output_type": "stream",
     "text": [
      "100%|█████████████████████████████████████████████████████████████████████| 188155/188155 [00:00<00:00, 1103416.98it/s]\n"
     ]
    }
   ],
   "source": [
    "users_all_carts = [[] for i in range(users_count)]\n",
    "main_array = main.to_numpy()\n",
    "for arr in tqdm(main_array):\n",
    "    users_all_carts[arr[0]].append(arr[2:])"
   ]
  },
  {
   "cell_type": "code",
   "execution_count": 12,
   "id": "b49a29c3-2d96-4a20-a969-e8916e81aec8",
   "metadata": {},
   "outputs": [],
   "source": [
    "def get_users_one_cart_as_avg(users, r):\n",
    "    users_as_avg_cart = [[] for i in range(users_count)]\n",
    "    for i in tqdm(range(len(users))):\n",
    "        cart = pd.Series(np.zeros(carts_count), dtype=float)\n",
    "        cur_weights = 0\n",
    "        if len(users[i]) > 0:\n",
    "            cart = pd.Series(users[i][0])\n",
    "        for j in range(1, len(users[i])):\n",
    "            weight = r**(len(users[i]) - j)\n",
    "            cart += pd.Series(users[i][j]) * weight\n",
    "            cur_weights += weight\n",
    "        if cur_weights == 0:\n",
    "            cur_weights = 1\n",
    "        cart /= cur_weights\n",
    "        users_as_avg_cart[i] = cart.tolist()\n",
    "    return users_as_avg_cart\n",
    "\n",
    "def get_users_one_cart_as_attenuation(users, r): #GOOD\n",
    "    users_as_attenuation_cart = [[] for i in range(users_count)]\n",
    "    for i in tqdm(range(len(users))):\n",
    "        cart = pd.Series(np.zeros(carts_count), dtype=float)\n",
    "        if len(users[i]) > 0:\n",
    "            cart = pd.Series(users[i][0])\n",
    "        for j in range(1, len(users[i])):\n",
    "            cart += pd.Series(users[i][j]) * r**(len(users[i]) - j)\n",
    "        users_as_attenuation_cart[i] = cart.tolist()\n",
    "    return users_as_attenuation_cart"
   ]
  },
  {
   "cell_type": "code",
   "execution_count": 13,
   "id": "f7b8e3d8-fbfd-41b0-bba8-4b183cd04fa4",
   "metadata": {},
   "outputs": [
    {
     "name": "stderr",
     "output_type": "stream",
     "text": [
      "100%|███████████████████████████████████████████████████████████████████████████| 20000/20000 [01:30<00:00, 219.90it/s]\n"
     ]
    }
   ],
   "source": [
    "users_as_vectors = get_users_one_cart_as_attenuation(users_all_carts, r) ### YOU CAN CHANGE THE FUNCTION"
   ]
  },
  {
   "cell_type": "markdown",
   "id": "f79ca2a4-8301-4822-b50d-cc67e9fdddf9",
   "metadata": {},
   "source": [
    "Ближайших соседей также можно искать несколькими способами, я выбрал два основных:\n",
    "* NearestNeighbors из sklearn\n",
    "* Матричное разложение из implicit"
   ]
  },
  {
   "cell_type": "code",
   "execution_count": 14,
   "id": "334949e9-3993-490b-8b89-a9ef4f3dd019",
   "metadata": {},
   "outputs": [],
   "source": [
    "def get_neighbors_nn(users_carts, k): #GOOD\n",
    "    model = NearestNeighbors()\n",
    "    model.fit(users_carts)\n",
    "    neighbors = model.kneighbors(users_carts, n_neighbors=k+1, return_distance=False)\n",
    "    return neighbors\n",
    "\n",
    "def get_neighbors_mf(users_carts, k):\n",
    "    model = LogisticMatrixFactorization(iterations=100)\n",
    "    model.fit(sparse.csr_matrix(users_carts).transpose())\n",
    "    neighbors = [ [] for i in range(users_count)]\n",
    "    for i in tqdm(range(users_count)):\n",
    "        nbrs = model.similar_users(i, k+1)\n",
    "        for tpl in nbrs:\n",
    "            neighbors[i].append(tpl[0]) \n",
    "    return neighbors"
   ]
  },
  {
   "cell_type": "code",
   "execution_count": 15,
   "id": "527dc820-e73d-482e-b899-033bb5135077",
   "metadata": {},
   "outputs": [
    {
     "name": "stderr",
     "output_type": "stream",
     "text": [
      "100%|████████████████████████████████████████████████████████████████████████████████| 100/100 [00:45<00:00,  2.18it/s]\n",
      "100%|██████████████████████████████████████████████████████████████████████████| 20000/20000 [00:08<00:00, 2398.05it/s]\n"
     ]
    }
   ],
   "source": [
    "neighbors = get_neighbors_mf(users_as_vectors, k_nearest) ### YOU CAN CHANGE THE FUNCTION"
   ]
  },
  {
   "cell_type": "code",
   "execution_count": 16,
   "id": "19a9bdfc-7cf3-4054-80dc-355b4786f8ba",
   "metadata": {},
   "outputs": [],
   "source": [
    "def combine_with_neighbors_avg(users_carts, neighbors, alpha):\n",
    "    avg_nbrs = [ [] for i in range(users_count) ]\n",
    "    for i in tqdm(range(users_count)):\n",
    "        avg = pd.Series(np.zeros(carts_count))\n",
    "        cur_weights = 0\n",
    "        for j in range(1, len(neighbors[i])):\n",
    "            avg += pd.Series(users_carts[neighbors[i][j]]) * j\n",
    "            cur_weights += j\n",
    "        avg /= (cur_weights if cur_weights != 0 else 1)\n",
    "        avg_nbrs[i] = avg\n",
    "    return [pd.Series(users_carts[i]) * alpha + pd.Series(avg_nbrs[i]) * (1-alpha) for i in range(users_count)]\n",
    "    \n",
    "def combine_with_neighbors_attenuation(users_carts, neighbors, alpha): #GOOD\n",
    "    users_p = [ [] for i in range(users_count)]\n",
    "    for i in tqdm(range(len(neighbors))):\n",
    "        users_p[i] = pd.Series(users_carts[neighbors[i][0]]) * alpha\n",
    "        for j in range(k_nearest):\n",
    "            users_p[i] = users_p[i] + alpha**(j+2) * pd.Series(users_carts[neighbors[i][j+1]])\n",
    "    return users_p"
   ]
  },
  {
   "cell_type": "code",
   "execution_count": 17,
   "id": "96c92bc6-d2f3-492f-b2b4-52c23efa123a",
   "metadata": {},
   "outputs": [
    {
     "name": "stderr",
     "output_type": "stream",
     "text": [
      "100%|███████████████████████████████████████████████████████████████████████████| 20000/20000 [02:38<00:00, 126.23it/s]\n"
     ]
    }
   ],
   "source": [
    "users_as_final_vectors = combine_with_neighbors_attenuation(users_as_vectors, neighbors, alpha) ### YOU CAN CHANGE THE FUNCTION"
   ]
  },
  {
   "cell_type": "code",
   "execution_count": 18,
   "id": "0c3a9698-202a-4e6d-81c8-ad0075a28172",
   "metadata": {},
   "outputs": [
    {
     "name": "stderr",
     "output_type": "stream",
     "text": [
      "100%|██████████████████████████████████████████████████████████████████████████| 20000/20000 [00:05<00:00, 3683.24it/s]\n"
     ]
    }
   ],
   "source": [
    "users_best_basket = []\n",
    "for i in tqdm(range(users_count)):\n",
    "    users_best_basket.append(users_as_final_vectors[i].sort_values(ascending=False).head(top_k).index.tolist())"
   ]
  },
  {
   "cell_type": "code",
   "execution_count": 19,
   "id": "0c6b163b-a86d-4c9e-9677-9d07c4d78eff",
   "metadata": {},
   "outputs": [
    {
     "data": {
      "text/plain": [
       "[[14, 82, 41, 432, 57, 382, 23, 402, 398, 20, 84, 383, 441, 379, 409],\n",
       " [55, 14, 798, 89, 169, 17, 398, 804, 57, 22, 420, 41, 384, 383, 376],\n",
       " [57, 55, 14, 425, 82, 23, 84, 409, 61, 383, 412, 398, 54, 22, 430],\n",
       " [57, 398, 61, 409, 19, 84, 430, 22, 17, 23, 382, 399, 55, 14, 16],\n",
       " [61, 57, 14, 22, 55, 398, 17, 425, 409, 100, 54, 84, 420, 23, 99]]"
      ]
     },
     "execution_count": 19,
     "metadata": {},
     "output_type": "execute_result"
    }
   ],
   "source": [
    "users_best_basket[:5]"
   ]
  },
  {
   "cell_type": "markdown",
   "id": "3dd8aa41-f009-4a15-ae90-b512f0960d41",
   "metadata": {},
   "source": [
    "Можно также добавлять к рекомендациям предметы, найденные статистически"
   ]
  },
  {
   "cell_type": "code",
   "execution_count": 20,
   "id": "6b44df88-27da-4e78-9aa6-131d41a38efa",
   "metadata": {},
   "outputs": [],
   "source": [
    "add_carts_from_apriori = False\n",
    "\n",
    "if add_carts_from_apriori:\n",
    "    ap = pd.read_csv(\"apriori_top_20.csv\")\n",
    "    ap_map = {}\n",
    "    for index, row in ap.iterrows():\n",
    "        ap_map[int(row[\"from\"])] = int(row[\"to\"])\n",
    "    \n",
    "    for i in tqdm(range(users_count)):\n",
    "        for key in ap_map.keys():\n",
    "            if key in users_best_basket[i] and ap_map[key] not in users_best_basket[i]:\n",
    "                users_best_basket[i].append(ap_map[key])"
   ]
  },
  {
   "cell_type": "code",
   "execution_count": 21,
   "id": "6c35fec7-561d-40af-af7f-f19890d5b10a",
   "metadata": {},
   "outputs": [],
   "source": [
    "recs = pd.DataFrame()\n",
    "recs[\"user_id\"] = [i for i in range(users_count)]\n",
    "recs[\"items\"] = users_best_basket"
   ]
  },
  {
   "cell_type": "code",
   "execution_count": 22,
   "id": "63705b6c-b474-46ea-b0d2-eaeb69bc60bb",
   "metadata": {},
   "outputs": [],
   "source": [
    "res = pd.merge(make_skeleton(train), recs, on=\"user_id\", how=\"left\") # or ss[[\"user_id\", \"cart\"]] instead of make_skeleton(train) in test"
   ]
  },
  {
   "cell_type": "code",
   "execution_count": 23,
   "id": "18540f19-ae2a-4c29-ab94-4a45cf8709bd",
   "metadata": {},
   "outputs": [
    {
     "data": {
      "text/html": [
       "<div>\n",
       "<style scoped>\n",
       "    .dataframe tbody tr th:only-of-type {\n",
       "        vertical-align: middle;\n",
       "    }\n",
       "\n",
       "    .dataframe tbody tr th {\n",
       "        vertical-align: top;\n",
       "    }\n",
       "\n",
       "    .dataframe thead th {\n",
       "        text-align: right;\n",
       "    }\n",
       "</style>\n",
       "<table border=\"1\" class=\"dataframe\">\n",
       "  <thead>\n",
       "    <tr style=\"text-align: right;\">\n",
       "      <th></th>\n",
       "      <th>user_id</th>\n",
       "      <th>cart</th>\n",
       "      <th>items</th>\n",
       "    </tr>\n",
       "  </thead>\n",
       "  <tbody>\n",
       "    <tr>\n",
       "      <th>0</th>\n",
       "      <td>0</td>\n",
       "      <td>14</td>\n",
       "      <td>[14, 82, 41, 432, 57, 382, 23, 402, 398, 20, 8...</td>\n",
       "    </tr>\n",
       "    <tr>\n",
       "      <th>1</th>\n",
       "      <td>0</td>\n",
       "      <td>20</td>\n",
       "      <td>[14, 82, 41, 432, 57, 382, 23, 402, 398, 20, 8...</td>\n",
       "    </tr>\n",
       "    <tr>\n",
       "      <th>2</th>\n",
       "      <td>0</td>\n",
       "      <td>57</td>\n",
       "      <td>[14, 82, 41, 432, 57, 382, 23, 402, 398, 20, 8...</td>\n",
       "    </tr>\n",
       "    <tr>\n",
       "      <th>3</th>\n",
       "      <td>0</td>\n",
       "      <td>82</td>\n",
       "      <td>[14, 82, 41, 432, 57, 382, 23, 402, 398, 20, 8...</td>\n",
       "    </tr>\n",
       "    <tr>\n",
       "      <th>4</th>\n",
       "      <td>0</td>\n",
       "      <td>379</td>\n",
       "      <td>[14, 82, 41, 432, 57, 382, 23, 402, 398, 20, 8...</td>\n",
       "    </tr>\n",
       "  </tbody>\n",
       "</table>\n",
       "</div>"
      ],
      "text/plain": [
       "   user_id cart                                              items\n",
       "0        0   14  [14, 82, 41, 432, 57, 382, 23, 402, 398, 20, 8...\n",
       "1        0   20  [14, 82, 41, 432, 57, 382, 23, 402, 398, 20, 8...\n",
       "2        0   57  [14, 82, 41, 432, 57, 382, 23, 402, 398, 20, 8...\n",
       "3        0   82  [14, 82, 41, 432, 57, 382, 23, 402, 398, 20, 8...\n",
       "4        0  379  [14, 82, 41, 432, 57, 382, 23, 402, 398, 20, 8..."
      ]
     },
     "execution_count": 23,
     "metadata": {},
     "output_type": "execute_result"
    }
   ],
   "source": [
    "res.head()"
   ]
  },
  {
   "cell_type": "code",
   "execution_count": 24,
   "id": "bda1324e-9a59-430d-9265-b2f790990fcf",
   "metadata": {},
   "outputs": [
    {
     "data": {
      "text/plain": [
       "user_id    0\n",
       "cart       0\n",
       "items      0\n",
       "dtype: int64"
      ]
     },
     "execution_count": 24,
     "metadata": {},
     "output_type": "execute_result"
    }
   ],
   "source": [
    "res.isna().sum()"
   ]
  },
  {
   "cell_type": "code",
   "execution_count": 25,
   "id": "112f560e-172f-4a93-92d7-a2ca2d4db087",
   "metadata": {},
   "outputs": [
    {
     "name": "stderr",
     "output_type": "stream",
     "text": [
      "100%|████████████████████████████████████████████████████████████████████| 1032983/1032983 [00:06<00:00, 148326.43it/s]\n"
     ]
    }
   ],
   "source": [
    "arr = []\n",
    "res_array = res.to_numpy()\n",
    "for row in tqdm(res_array):\n",
    "    if type(row[2]) == float:\n",
    "        arr.append(0)\n",
    "        continue\n",
    "    if row[1] in row[2]:\n",
    "        arr.append(1)\n",
    "    else:\n",
    "        arr.append(0)\n",
    "        \n",
    "assert sum(arr) != 0\n",
    "        \n",
    "res[\"predict\"] = arr"
   ]
  },
  {
   "cell_type": "code",
   "execution_count": 26,
   "id": "6f61e1cb-ca98-4003-8f8f-7e34e6091082",
   "metadata": {},
   "outputs": [],
   "source": [
    "res.drop(columns=[\"items\"], inplace=True)"
   ]
  },
  {
   "cell_type": "code",
   "execution_count": 27,
   "id": "7923ae98-2393-4295-813b-871a185b71b7",
   "metadata": {},
   "outputs": [],
   "source": [
    "#In test case skip next 2 steps"
   ]
  },
  {
   "cell_type": "code",
   "execution_count": 28,
   "id": "f978c3a1-6139-445a-ad27-b9681849dab0",
   "metadata": {},
   "outputs": [],
   "source": [
    "res = pd.merge(res, targets, on=[\"user_id\", \"cart\"], how=\"left\")"
   ]
  },
  {
   "cell_type": "code",
   "execution_count": 29,
   "id": "9ee273ee-b58c-4620-81f5-32b5c5235573",
   "metadata": {},
   "outputs": [
    {
     "data": {
      "text/plain": [
       "0.43724368708683037"
      ]
     },
     "execution_count": 29,
     "metadata": {},
     "output_type": "execute_result"
    }
   ],
   "source": [
    "f1_score(res[\"target\"], res[\"predict\"])"
   ]
  },
  {
   "cell_type": "markdown",
   "id": "0503b0ef-76bd-4ab6-b889-51c1879318e9",
   "metadata": {},
   "source": [
    "#### Мини исследование алгоритмов\n",
    "При фиксированных параметрах \n",
    "* r = 0.8\n",
    "* k_nearest = 20              \n",
    "* alpha = 0.85    \n",
    "* top_k = 15    \n",
    "\n",
    "Я менял варианты усреднения корзин пользователя, поиска ближайших соседей и объединения пользователя с соседями, получил следующие значения метрики\n",
    "* avg-nn-avg - 0.43583\n",
    "* avg-nn-att - 0.45276\n",
    "* avg-mf-avg - 0.43530\n",
    "* avg-mf-att - 0.43158\n",
    "* att-nn-avg - 0.44374\n",
    "* att-nn-att - 0.45488 - best\n",
    "* att-mf-avg - 0.44441\n",
    "* att-mf-att - 0.43928   \n",
    "\n",
    "** att - attenuation - затухание, при таком подходе мы берем коэффициент затухания от новых покупок к старым  \n",
    "Что можно сказать точно - для усреднения корзин пользователя лучше использовать get_users_one_cart_as_attenuation()"
   ]
  },
  {
   "cell_type": "code",
   "execution_count": null,
   "id": "785c3c80-8a1c-42a8-83f1-7379b7e25703",
   "metadata": {},
   "outputs": [],
   "source": [
    "# In test case"
   ]
  },
  {
   "cell_type": "code",
   "execution_count": null,
   "id": "d0196384-fcab-4210-9e34-b053c1a77de1",
   "metadata": {},
   "outputs": [],
   "source": [
    "res = to_required_df(res)"
   ]
  },
  {
   "cell_type": "code",
   "execution_count": null,
   "id": "f7a562b5-75be-49ae-9cb2-62f48fb39b28",
   "metadata": {},
   "outputs": [],
   "source": [
    "t = pd.read_csv(\"user_top_10_rec_baseline.csv\")"
   ]
  },
  {
   "cell_type": "code",
   "execution_count": null,
   "id": "199eb770-52b3-42d8-adf1-fbc936d76379",
   "metadata": {},
   "outputs": [],
   "source": [
    "L1 = t[\"target\"].tolist()\n",
    "L2 = res[\"target\"].tolist()"
   ]
  },
  {
   "cell_type": "code",
   "execution_count": null,
   "id": "59ffdba7-ecb8-43bf-920a-afd1c7e84141",
   "metadata": {},
   "outputs": [],
   "source": [
    "def diff(v1, v2):\n",
    "    assert len(v1) == len(v2)\n",
    "    k = 0\n",
    "    for i in range(len(v1)):\n",
    "        if v1[i] != v2[i]:\n",
    "            k+=1\n",
    "    return k/len(v1) * 100"
   ]
  },
  {
   "cell_type": "code",
   "execution_count": null,
   "id": "93e2b24c-1642-4232-afe6-83c1d4378cdf",
   "metadata": {},
   "outputs": [],
   "source": [
    "diff(L1, L2)"
   ]
  },
  {
   "cell_type": "code",
   "execution_count": null,
   "id": "191c7caa-d019-49ac-bc86-51c1f209fb14",
   "metadata": {},
   "outputs": [],
   "source": [
    "res.to_csv(\"TIFU_KNN_k-{}_r-{}_aplha-{}_topk-{}_diff-{}_train-{}.csv\".format(k_nearest, r, alpha, top_k, round(diff(L1, L2),2), 0.45488)\n",
    "           , index=False)"
   ]
  },
  {
   "cell_type": "code",
   "execution_count": null,
   "id": "15edd7f0-ac63-4022-b945-b7c4bb10a677",
   "metadata": {},
   "outputs": [],
   "source": []
  },
  {
   "cell_type": "code",
   "execution_count": null,
   "id": "35bf6bc2-f258-4744-a4b8-97d26271339e",
   "metadata": {},
   "outputs": [],
   "source": [
    "# r = 0.8\n",
    "# k_nearest = 20  Local scores: 0.45276, 0.45954, 0.45952 - mean=0.45727             \n",
    "# alpha = 0.85    Public score: 0.45760\n",
    "# top_k = 15"
   ]
  },
  {
   "cell_type": "code",
   "execution_count": null,
   "id": "68dfb20f-bad7-4861-b816-25ebe408620d",
   "metadata": {},
   "outputs": [],
   "source": [
    "# r = 0.85\n",
    "# k_nearest = 26    Local scores: 0.45541, 0.45957, 0.45913 - mean=0.45804 \n",
    "# alpha = 0.91      Public score: 0.45462\n",
    "# top_k = 14"
   ]
  },
  {
   "cell_type": "code",
   "execution_count": null,
   "id": "a4249c1c-db2a-4ba3-ad83-bba7112f00a3",
   "metadata": {},
   "outputs": [],
   "source": [
    "# r = 0.75\n",
    "# k_nearest = 30    Local score: 0.4589, 0.46037, 0.46049 - mean=0.45992\n",
    "# alpha = 0.95      Public score: 0.45338\n",
    "# top_k = 18"
   ]
  },
  {
   "cell_type": "code",
   "execution_count": null,
   "id": "a1a8e423-a5df-4132-b78f-01b1872695a8",
   "metadata": {},
   "outputs": [],
   "source": [
    "# r = 0.8\n",
    "# k_nearest = 5    Local score: 0.43417 (0.43007)\n",
    "# alpha = 0.75     Public score: 0.43433\n",
    "# top_k = 10"
   ]
  },
  {
   "cell_type": "code",
   "execution_count": null,
   "id": "62d70df8-d7e5-4235-bfb1-7b85d28b620d",
   "metadata": {},
   "outputs": [],
   "source": [
    "# r = 0.95\n",
    "# k_nearest = 6    Local score: 0.42619\n",
    "# alpha = 0.65     Public score: 0.42679\n",
    "# top_k = 9"
   ]
  },
  {
   "cell_type": "code",
   "execution_count": null,
   "id": "3b935b05-d966-4df4-ac50-575cf559fafe",
   "metadata": {},
   "outputs": [],
   "source": [
    "# r = 0.8\n",
    "# k_nearest = 20   Local score: 0.45276\n",
    "# alpha = 0.85    \n",
    "# top_k = 15"
   ]
  },
  {
   "cell_type": "code",
   "execution_count": null,
   "id": "136084b1-07d9-4847-8e60-bbd27aaba7ce",
   "metadata": {},
   "outputs": [],
   "source": [
    "# r = 0.73\n",
    "# k_nearest = 15   Local score: 0.44712                       \n",
    "# alpha = 0.79     Public score: \n",
    "# top_k = 15"
   ]
  },
  {
   "cell_type": "code",
   "execution_count": null,
   "id": "7cb50621-0dcc-462b-a5d0-9c88db4db73f",
   "metadata": {},
   "outputs": [],
   "source": [
    "# r = 0.9\n",
    "# k_nearest = 30  Local scores: 0.43557, 0.44458, 0.44311 - mean=0.44109\n",
    "# alpha = 0.75    \n",
    "# top_k = 10"
   ]
  }
 ],
 "metadata": {
  "kernelspec": {
   "display_name": "Python 3",
   "language": "python",
   "name": "python3"
  },
  "language_info": {
   "codemirror_mode": {
    "name": "ipython",
    "version": 3
   },
   "file_extension": ".py",
   "mimetype": "text/x-python",
   "name": "python",
   "nbconvert_exporter": "python",
   "pygments_lexer": "ipython3",
   "version": "3.8.10"
  }
 },
 "nbformat": 4,
 "nbformat_minor": 5
}
