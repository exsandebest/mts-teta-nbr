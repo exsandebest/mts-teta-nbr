{
 "cells": [
  {
   "cell_type": "code",
   "execution_count": null,
   "metadata": {},
   "outputs": [],
   "source": [
    "%%time\n",
    "%pylab inline\n",
    "import pandas as pd\n",
    "import numpy as np\n",
    "from sklearn.metrics import f1_score\n",
    "from sklearn.neighbors import NearestNeighbors\n",
    "from implicit.lmf import LogisticMatrixFactorization\n",
    "from scipy import sparse\n",
    "from tqdm import tqdm\n",
    "tqdm.pandas()\n",
    "\n",
    "r = 0.75\n",
    "k_nearest = 30\n",
    "alpha = 0.95 \n",
    "top_k = 18"
   ]
  }
 ],
 "metadata": {
  "kernelspec": {
   "display_name": "Python 3",
   "language": "python",
   "name": "python3"
  },
  "language_info": {
   "codemirror_mode": {
    "name": "ipython",
    "version": 3
   },
   "file_extension": ".py",
   "mimetype": "text/x-python",
   "name": "python",
   "nbconvert_exporter": "python",
   "pygments_lexer": "ipython3",
   "version": "3.8.5"
  }
 },
 "nbformat": 4,
 "nbformat_minor": 4
}
