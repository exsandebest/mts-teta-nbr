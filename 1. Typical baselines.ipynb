{
 "cells": [
  {
   "cell_type": "markdown",
   "id": "b812934e-4b17-4bdf-b683-8b3763ef87b6",
   "metadata": {},
   "source": [
    "## Typical baselines\n",
    "Проверим три основных идеи:\n",
    "* Порекомендуем пользователю его посленюю покупку\n",
    "    - Local score: 0.40049\n",
    "    - Public score: 0.39830\n",
    "* Для каждого пользователя найдем самые часто покупаемые товары и порекомендуем их\n",
    "    - Local score: 0.41843\n",
    "    - Public score: 0.42430\n",
    "* Каждому пользователю порекомендуем просто топ популярных товаров\n",
    "    - Local score: 0.39849\n",
    "    - Public score: 0.38834"
   ]
  },
  {
   "cell_type": "code",
   "execution_count": 1,
   "id": "2e71ee5a-7b00-4e37-9536-1f85a47fbd10",
   "metadata": {},
   "outputs": [
    {
     "name": "stdout",
     "output_type": "stream",
     "text": [
      "Populating the interactive namespace from numpy and matplotlib\n",
      "Wall time: 1.6 s\n"
     ]
    }
   ],
   "source": [
    "%%time\n",
    "%pylab inline\n",
    "import pandas as pd\n",
    "import numpy as np\n",
    "from tqdm import tqdm\n",
    "from sklearn.metrics import f1_score\n",
    "import pickle\n",
    "import gc\n",
    "tqdm.pandas()"
   ]
  },
  {
   "cell_type": "code",
   "execution_count": 2,
   "id": "af7f0036-af70-44b0-ad0e-d943ca6190a7",
   "metadata": {},
   "outputs": [],
   "source": [
    "df = pd.read_csv(\"train.csv\")\n",
    "ss = pd.read_csv(\"sample_submission.csv\")"
   ]
  },
  {
   "cell_type": "code",
   "execution_count": 3,
   "id": "af50289a-8b9a-4987-b75b-fc95c2d3a936",
   "metadata": {},
   "outputs": [],
   "source": [
    "df.rename(columns={\"order_completed_at\":\"time\"}, inplace=True) # rename \"order_completed_at\" column to \"time\"\n",
    "df[\"time\"] = pd.to_datetime(df[\"time\"], format=\"%Y-%m-%d %H:%M:%S\") # \"time\" column to datetime type"
   ]
  },
  {
   "cell_type": "code",
   "execution_count": 4,
   "id": "e8453dcd-7e48-4b60-a760-8339a74e3929",
   "metadata": {},
   "outputs": [
    {
     "name": "stderr",
     "output_type": "stream",
     "text": [
      "100%|█████████████████████████████████████████████████████████████████████| 790449/790449 [00:00<00:00, 1086835.28it/s]\n",
      "100%|██████████████████████████████████████████████████████████████████████| 790449/790449 [00:01<00:00, 694126.19it/s]\n"
     ]
    }
   ],
   "source": [
    "# Split \"id\" column to \"user_id\" and \"cart\" columns\n",
    "ss[\"user_id\"] = ss.id.progress_apply(lambda x: x.split(\";\")[0]).astype(int)\n",
    "ss[\"cart\"] = ss.id.progress_apply(lambda x: x.split(\";\")[1]).astype(int)\n",
    "ss = ss[[\"user_id\", \"cart\", \"target\"]] "
   ]
  },
  {
   "cell_type": "code",
   "execution_count": null,
   "id": "05814b1c-bac3-4785-b980-60d3d98e18c8",
   "metadata": {},
   "outputs": [],
   "source": []
  },
  {
   "cell_type": "code",
   "execution_count": 5,
   "id": "4e52946b-cefb-437e-85b4-4cc7308f2278",
   "metadata": {},
   "outputs": [],
   "source": [
    "def duplicates_to_count(t): #Заменяет повторяющиеся товары в корзине на одну запись с указанием количества\n",
    "    map_table = t.groupby(\"time\")[\"user_id\"].first().to_frame().reset_index()\n",
    "    count_table = t.groupby(\"time\")[\"cart\"].value_counts().to_frame().rename(columns={\"cart\":\"count\"}).reset_index()\n",
    "    return pd.merge(count_table, map_table, on=\"time\", how=\"left\").reset_index()[[\"user_id\", \"time\", \"cart\", \"count\"]]\n",
    "\n",
    "def count_to_duplicates(t): #Обратная операция\n",
    "    g = t.copy()\n",
    "    g[\"to_explode\"] = g[\"count\"].apply(lambda x: [i for i in range(x)])\n",
    "    g.explode(\"to_explode\").reset_index().drop(columns=[\"count\", \"to_explode\", \"index\"], inplace=True)\n",
    "    return g\n",
    "\n",
    "def to_required_df(df): # [user_id, cart, target] -> [id, target]\n",
    "    df[\"id\"] = df[\"user_id\"].astype(str) + \";\" + df[\"cart\"].astype(str)\n",
    "    df.drop(columns=[\"user_id\", \"cart\"], inplace=True)\n",
    "    df.rename(columns={\"predict\":\"target\"}, inplace=True)\n",
    "    return df[[\"id\", \"target\"]]\n",
    "\n",
    "def make_train_targets(t, level=1):# Создает train датасет и ответы для него, lvevel=1 - последняя покупка, level=2 - предпоследняя... \n",
    "    user_last_time = t.groupby([\"user_id\"])[\"time\"].last().to_frame().reset_index()\n",
    "    user_last_time[\"last_buy\"] = 1\n",
    "    \n",
    "    train = pd.merge(t, user_last_time, on=[\"time\", \"user_id\"], how=\"left\")\n",
    "    train = train[train[\"last_buy\"] != 1]\n",
    "    train.drop(columns=[\"last_buy\"], inplace=True)\n",
    "    \n",
    "    user_last_time.drop(columns=[\"last_buy\"], inplace=True)\n",
    "    \n",
    "    user_last_carts = pd.merge(user_last_time, df.drop(columns=[\"user_id\"]), on=\"time\", how=\"left\")\n",
    "    \n",
    "    skeleton = make_skeleton(train)\n",
    "    targets = pd.merge(skeleton, user_last_carts.drop(columns=[\"time\"]), on=[\"user_id\",\"cart\"], how=\"left\")\n",
    "    targets.fillna(0, inplace=True)\n",
    "    targets[\"count\"] = targets[\"count\"].progress_apply(lambda x: x if x <= 1 else 1).astype(int)\n",
    "    targets.rename(columns={\"count\":\"target\"}, inplace=True)\n",
    "    return train, targets\n",
    "\n",
    "def make_skeleton(t): # Создает все комбинации user_id и cart, которые пользователь когда-либо покупал\n",
    "    return t.groupby(\"user_id\")[\"cart\"].unique().to_frame().reset_index().explode(\"cart\")\n",
    "    "
   ]
  },
  {
   "cell_type": "code",
   "execution_count": 6,
   "id": "c54be70f-20c3-4421-b780-b87cbab16b18",
   "metadata": {},
   "outputs": [],
   "source": [
    "df = duplicates_to_count(df)"
   ]
  },
  {
   "cell_type": "code",
   "execution_count": 7,
   "id": "60704c8b-6a11-44ca-9d84-5dc768706b9e",
   "metadata": {},
   "outputs": [
    {
     "data": {
      "text/html": [
       "<div>\n",
       "<style scoped>\n",
       "    .dataframe tbody tr th:only-of-type {\n",
       "        vertical-align: middle;\n",
       "    }\n",
       "\n",
       "    .dataframe tbody tr th {\n",
       "        vertical-align: top;\n",
       "    }\n",
       "\n",
       "    .dataframe thead th {\n",
       "        text-align: right;\n",
       "    }\n",
       "</style>\n",
       "<table border=\"1\" class=\"dataframe\">\n",
       "  <thead>\n",
       "    <tr style=\"text-align: right;\">\n",
       "      <th></th>\n",
       "      <th>user_id</th>\n",
       "      <th>time</th>\n",
       "      <th>cart</th>\n",
       "      <th>count</th>\n",
       "    </tr>\n",
       "  </thead>\n",
       "  <tbody>\n",
       "    <tr>\n",
       "      <th>0</th>\n",
       "      <td>2</td>\n",
       "      <td>2015-03-22 09:25:46</td>\n",
       "      <td>14</td>\n",
       "      <td>1</td>\n",
       "    </tr>\n",
       "    <tr>\n",
       "      <th>1</th>\n",
       "      <td>2</td>\n",
       "      <td>2015-03-22 09:25:46</td>\n",
       "      <td>16</td>\n",
       "      <td>1</td>\n",
       "    </tr>\n",
       "    <tr>\n",
       "      <th>2</th>\n",
       "      <td>2</td>\n",
       "      <td>2015-03-22 09:25:46</td>\n",
       "      <td>23</td>\n",
       "      <td>1</td>\n",
       "    </tr>\n",
       "    <tr>\n",
       "      <th>3</th>\n",
       "      <td>2</td>\n",
       "      <td>2015-03-22 09:25:46</td>\n",
       "      <td>57</td>\n",
       "      <td>1</td>\n",
       "    </tr>\n",
       "    <tr>\n",
       "      <th>4</th>\n",
       "      <td>2</td>\n",
       "      <td>2015-03-22 09:25:46</td>\n",
       "      <td>82</td>\n",
       "      <td>1</td>\n",
       "    </tr>\n",
       "  </tbody>\n",
       "</table>\n",
       "</div>"
      ],
      "text/plain": [
       "   user_id                time  cart  count\n",
       "0        2 2015-03-22 09:25:46    14      1\n",
       "1        2 2015-03-22 09:25:46    16      1\n",
       "2        2 2015-03-22 09:25:46    23      1\n",
       "3        2 2015-03-22 09:25:46    57      1\n",
       "4        2 2015-03-22 09:25:46    82      1"
      ]
     },
     "execution_count": 7,
     "metadata": {},
     "output_type": "execute_result"
    }
   ],
   "source": [
    "df.head()"
   ]
  },
  {
   "cell_type": "markdown",
   "id": "a75caf48-1702-4661-835e-15eb72b18020",
   "metadata": {},
   "source": [
    "### User's last cart"
   ]
  },
  {
   "cell_type": "code",
   "execution_count": 8,
   "id": "53eb0d26-26ed-465b-9f4c-33a80d8205dd",
   "metadata": {},
   "outputs": [],
   "source": [
    "def user_last_cart_baseline(t, skeleton):\n",
    "    user_last_time = t.groupby([\"user_id\"])[\"time\"].last().to_frame().reset_index()\n",
    "    user_last_carts = pd.merge(user_last_time, df.drop(columns=[\"user_id\"]), on=\"time\", how=\"left\") \n",
    "    res = pd.merge(skeleton, user_last_carts.drop(columns=[\"time\"]), on=[\"user_id\",\"cart\"], how=\"left\")\\\n",
    "        .fillna(0).rename(columns={\"count\":\"predict\"})\n",
    "    res[\"predict\"] = res[\"predict\"].progress_apply(lambda x: x if x <= 1 else 1).astype(int)\n",
    "    return res"
   ]
  },
  {
   "cell_type": "code",
   "execution_count": 9,
   "id": "491a8c5d-08bc-4380-a752-ebb131127782",
   "metadata": {},
   "outputs": [
    {
     "name": "stderr",
     "output_type": "stream",
     "text": [
      "100%|███████████████████████████████████████████████████████████████████| 1032983/1032983 [00:00<00:00, 1194334.30it/s]\n"
     ]
    }
   ],
   "source": [
    "train, targets = make_train_targets(df)"
   ]
  },
  {
   "cell_type": "code",
   "execution_count": 10,
   "id": "0df8b570-2310-4b2c-8c90-258d05a097bf",
   "metadata": {},
   "outputs": [
    {
     "data": {
      "text/html": [
       "<div>\n",
       "<style scoped>\n",
       "    .dataframe tbody tr th:only-of-type {\n",
       "        vertical-align: middle;\n",
       "    }\n",
       "\n",
       "    .dataframe tbody tr th {\n",
       "        vertical-align: top;\n",
       "    }\n",
       "\n",
       "    .dataframe thead th {\n",
       "        text-align: right;\n",
       "    }\n",
       "</style>\n",
       "<table border=\"1\" class=\"dataframe\">\n",
       "  <thead>\n",
       "    <tr style=\"text-align: right;\">\n",
       "      <th></th>\n",
       "      <th>user_id</th>\n",
       "      <th>time</th>\n",
       "      <th>cart</th>\n",
       "      <th>count</th>\n",
       "    </tr>\n",
       "  </thead>\n",
       "  <tbody>\n",
       "    <tr>\n",
       "      <th>0</th>\n",
       "      <td>2</td>\n",
       "      <td>2015-03-22 09:25:46</td>\n",
       "      <td>14</td>\n",
       "      <td>1</td>\n",
       "    </tr>\n",
       "    <tr>\n",
       "      <th>1</th>\n",
       "      <td>2</td>\n",
       "      <td>2015-03-22 09:25:46</td>\n",
       "      <td>16</td>\n",
       "      <td>1</td>\n",
       "    </tr>\n",
       "    <tr>\n",
       "      <th>2</th>\n",
       "      <td>2</td>\n",
       "      <td>2015-03-22 09:25:46</td>\n",
       "      <td>23</td>\n",
       "      <td>1</td>\n",
       "    </tr>\n",
       "    <tr>\n",
       "      <th>3</th>\n",
       "      <td>2</td>\n",
       "      <td>2015-03-22 09:25:46</td>\n",
       "      <td>57</td>\n",
       "      <td>1</td>\n",
       "    </tr>\n",
       "    <tr>\n",
       "      <th>4</th>\n",
       "      <td>2</td>\n",
       "      <td>2015-03-22 09:25:46</td>\n",
       "      <td>82</td>\n",
       "      <td>1</td>\n",
       "    </tr>\n",
       "  </tbody>\n",
       "</table>\n",
       "</div>"
      ],
      "text/plain": [
       "   user_id                time  cart  count\n",
       "0        2 2015-03-22 09:25:46    14      1\n",
       "1        2 2015-03-22 09:25:46    16      1\n",
       "2        2 2015-03-22 09:25:46    23      1\n",
       "3        2 2015-03-22 09:25:46    57      1\n",
       "4        2 2015-03-22 09:25:46    82      1"
      ]
     },
     "execution_count": 10,
     "metadata": {},
     "output_type": "execute_result"
    }
   ],
   "source": [
    "train.head()"
   ]
  },
  {
   "cell_type": "code",
   "execution_count": 11,
   "id": "246477ac-b6a1-480a-86d7-cee99046b141",
   "metadata": {},
   "outputs": [
    {
     "data": {
      "text/html": [
       "<div>\n",
       "<style scoped>\n",
       "    .dataframe tbody tr th:only-of-type {\n",
       "        vertical-align: middle;\n",
       "    }\n",
       "\n",
       "    .dataframe tbody tr th {\n",
       "        vertical-align: top;\n",
       "    }\n",
       "\n",
       "    .dataframe thead th {\n",
       "        text-align: right;\n",
       "    }\n",
       "</style>\n",
       "<table border=\"1\" class=\"dataframe\">\n",
       "  <thead>\n",
       "    <tr style=\"text-align: right;\">\n",
       "      <th></th>\n",
       "      <th>user_id</th>\n",
       "      <th>cart</th>\n",
       "      <th>target</th>\n",
       "    </tr>\n",
       "  </thead>\n",
       "  <tbody>\n",
       "    <tr>\n",
       "      <th>0</th>\n",
       "      <td>0</td>\n",
       "      <td>14</td>\n",
       "      <td>0</td>\n",
       "    </tr>\n",
       "    <tr>\n",
       "      <th>1</th>\n",
       "      <td>0</td>\n",
       "      <td>20</td>\n",
       "      <td>0</td>\n",
       "    </tr>\n",
       "    <tr>\n",
       "      <th>2</th>\n",
       "      <td>0</td>\n",
       "      <td>57</td>\n",
       "      <td>1</td>\n",
       "    </tr>\n",
       "    <tr>\n",
       "      <th>3</th>\n",
       "      <td>0</td>\n",
       "      <td>82</td>\n",
       "      <td>0</td>\n",
       "    </tr>\n",
       "    <tr>\n",
       "      <th>4</th>\n",
       "      <td>0</td>\n",
       "      <td>379</td>\n",
       "      <td>0</td>\n",
       "    </tr>\n",
       "  </tbody>\n",
       "</table>\n",
       "</div>"
      ],
      "text/plain": [
       "   user_id  cart  target\n",
       "0        0    14       0\n",
       "1        0    20       0\n",
       "2        0    57       1\n",
       "3        0    82       0\n",
       "4        0   379       0"
      ]
     },
     "execution_count": 11,
     "metadata": {},
     "output_type": "execute_result"
    }
   ],
   "source": [
    "targets.head()"
   ]
  },
  {
   "cell_type": "code",
   "execution_count": 12,
   "id": "7f96d68b-4953-4b4f-a64a-fe491b38a454",
   "metadata": {},
   "outputs": [
    {
     "name": "stderr",
     "output_type": "stream",
     "text": [
      "100%|███████████████████████████████████████████████████████████████████| 1032983/1032983 [00:00<00:00, 1215581.46it/s]\n"
     ]
    }
   ],
   "source": [
    "train_res = user_last_cart_baseline(train, make_skeleton(train))"
   ]
  },
  {
   "cell_type": "code",
   "execution_count": 13,
   "id": "1e244753-3f49-43e0-8741-2c5d410364d7",
   "metadata": {},
   "outputs": [
    {
     "data": {
      "text/html": [
       "<div>\n",
       "<style scoped>\n",
       "    .dataframe tbody tr th:only-of-type {\n",
       "        vertical-align: middle;\n",
       "    }\n",
       "\n",
       "    .dataframe tbody tr th {\n",
       "        vertical-align: top;\n",
       "    }\n",
       "\n",
       "    .dataframe thead th {\n",
       "        text-align: right;\n",
       "    }\n",
       "</style>\n",
       "<table border=\"1\" class=\"dataframe\">\n",
       "  <thead>\n",
       "    <tr style=\"text-align: right;\">\n",
       "      <th></th>\n",
       "      <th>user_id</th>\n",
       "      <th>cart</th>\n",
       "      <th>predict</th>\n",
       "    </tr>\n",
       "  </thead>\n",
       "  <tbody>\n",
       "    <tr>\n",
       "      <th>0</th>\n",
       "      <td>0</td>\n",
       "      <td>14</td>\n",
       "      <td>1</td>\n",
       "    </tr>\n",
       "    <tr>\n",
       "      <th>1</th>\n",
       "      <td>0</td>\n",
       "      <td>20</td>\n",
       "      <td>0</td>\n",
       "    </tr>\n",
       "    <tr>\n",
       "      <th>2</th>\n",
       "      <td>0</td>\n",
       "      <td>57</td>\n",
       "      <td>1</td>\n",
       "    </tr>\n",
       "    <tr>\n",
       "      <th>3</th>\n",
       "      <td>0</td>\n",
       "      <td>82</td>\n",
       "      <td>1</td>\n",
       "    </tr>\n",
       "    <tr>\n",
       "      <th>4</th>\n",
       "      <td>0</td>\n",
       "      <td>379</td>\n",
       "      <td>1</td>\n",
       "    </tr>\n",
       "  </tbody>\n",
       "</table>\n",
       "</div>"
      ],
      "text/plain": [
       "   user_id  cart  predict\n",
       "0        0    14        1\n",
       "1        0    20        0\n",
       "2        0    57        1\n",
       "3        0    82        1\n",
       "4        0   379        1"
      ]
     },
     "execution_count": 13,
     "metadata": {},
     "output_type": "execute_result"
    }
   ],
   "source": [
    "train_res.head()"
   ]
  },
  {
   "cell_type": "code",
   "execution_count": 14,
   "id": "3aec1974-8a45-4a56-b36b-49389294f2fe",
   "metadata": {},
   "outputs": [],
   "source": [
    "train_res = pd.merge(train_res, targets, on=[\"user_id\", \"cart\"], how=\"left\")"
   ]
  },
  {
   "cell_type": "code",
   "execution_count": 15,
   "id": "a859c83c-b390-4e0e-af9c-99bd7d18b8e0",
   "metadata": {},
   "outputs": [
    {
     "data": {
      "text/plain": [
       "0.40049281930584185"
      ]
     },
     "execution_count": 15,
     "metadata": {},
     "output_type": "execute_result"
    }
   ],
   "source": [
    "f1_score(train_res[\"target\"], train_res[\"predict\"])"
   ]
  },
  {
   "cell_type": "code",
   "execution_count": null,
   "id": "77412c1c-8e19-4b24-b911-9657feb22fcb",
   "metadata": {},
   "outputs": [],
   "source": []
  },
  {
   "cell_type": "code",
   "execution_count": 16,
   "id": "2146d1a0-e42a-4790-a7cf-3a8dfe968529",
   "metadata": {},
   "outputs": [
    {
     "name": "stderr",
     "output_type": "stream",
     "text": [
      "100%|█████████████████████████████████████████████████████████████████████| 790449/790449 [00:00<00:00, 1155719.82it/s]\n"
     ]
    }
   ],
   "source": [
    "res = user_last_cart_baseline(df, ss[[\"user_id\",\"cart\"]])"
   ]
  },
  {
   "cell_type": "code",
   "execution_count": 17,
   "id": "673fba26-3635-4afe-8851-4e60615f4c3f",
   "metadata": {},
   "outputs": [
    {
     "data": {
      "text/html": [
       "<div>\n",
       "<style scoped>\n",
       "    .dataframe tbody tr th:only-of-type {\n",
       "        vertical-align: middle;\n",
       "    }\n",
       "\n",
       "    .dataframe tbody tr th {\n",
       "        vertical-align: top;\n",
       "    }\n",
       "\n",
       "    .dataframe thead th {\n",
       "        text-align: right;\n",
       "    }\n",
       "</style>\n",
       "<table border=\"1\" class=\"dataframe\">\n",
       "  <thead>\n",
       "    <tr style=\"text-align: right;\">\n",
       "      <th></th>\n",
       "      <th>user_id</th>\n",
       "      <th>cart</th>\n",
       "      <th>predict</th>\n",
       "    </tr>\n",
       "  </thead>\n",
       "  <tbody>\n",
       "    <tr>\n",
       "      <th>0</th>\n",
       "      <td>0</td>\n",
       "      <td>133</td>\n",
       "      <td>0</td>\n",
       "    </tr>\n",
       "    <tr>\n",
       "      <th>1</th>\n",
       "      <td>0</td>\n",
       "      <td>5</td>\n",
       "      <td>0</td>\n",
       "    </tr>\n",
       "    <tr>\n",
       "      <th>2</th>\n",
       "      <td>0</td>\n",
       "      <td>10</td>\n",
       "      <td>0</td>\n",
       "    </tr>\n",
       "    <tr>\n",
       "      <th>3</th>\n",
       "      <td>0</td>\n",
       "      <td>396</td>\n",
       "      <td>0</td>\n",
       "    </tr>\n",
       "    <tr>\n",
       "      <th>4</th>\n",
       "      <td>0</td>\n",
       "      <td>14</td>\n",
       "      <td>0</td>\n",
       "    </tr>\n",
       "  </tbody>\n",
       "</table>\n",
       "</div>"
      ],
      "text/plain": [
       "   user_id  cart  predict\n",
       "0        0   133        0\n",
       "1        0     5        0\n",
       "2        0    10        0\n",
       "3        0   396        0\n",
       "4        0    14        0"
      ]
     },
     "execution_count": 17,
     "metadata": {},
     "output_type": "execute_result"
    }
   ],
   "source": [
    "res.head()"
   ]
  },
  {
   "cell_type": "code",
   "execution_count": 18,
   "id": "76d391cb-f8e9-4ea2-91cf-290deeeedad1",
   "metadata": {},
   "outputs": [],
   "source": [
    "res = to_required_df(res)"
   ]
  },
  {
   "cell_type": "code",
   "execution_count": 19,
   "id": "ad4f63c3-0f9a-444e-89dd-76dbe9d8920c",
   "metadata": {},
   "outputs": [
    {
     "data": {
      "text/html": [
       "<div>\n",
       "<style scoped>\n",
       "    .dataframe tbody tr th:only-of-type {\n",
       "        vertical-align: middle;\n",
       "    }\n",
       "\n",
       "    .dataframe tbody tr th {\n",
       "        vertical-align: top;\n",
       "    }\n",
       "\n",
       "    .dataframe thead th {\n",
       "        text-align: right;\n",
       "    }\n",
       "</style>\n",
       "<table border=\"1\" class=\"dataframe\">\n",
       "  <thead>\n",
       "    <tr style=\"text-align: right;\">\n",
       "      <th></th>\n",
       "      <th>id</th>\n",
       "      <th>target</th>\n",
       "    </tr>\n",
       "  </thead>\n",
       "  <tbody>\n",
       "    <tr>\n",
       "      <th>0</th>\n",
       "      <td>0;133</td>\n",
       "      <td>0</td>\n",
       "    </tr>\n",
       "    <tr>\n",
       "      <th>1</th>\n",
       "      <td>0;5</td>\n",
       "      <td>0</td>\n",
       "    </tr>\n",
       "    <tr>\n",
       "      <th>2</th>\n",
       "      <td>0;10</td>\n",
       "      <td>0</td>\n",
       "    </tr>\n",
       "    <tr>\n",
       "      <th>3</th>\n",
       "      <td>0;396</td>\n",
       "      <td>0</td>\n",
       "    </tr>\n",
       "    <tr>\n",
       "      <th>4</th>\n",
       "      <td>0;14</td>\n",
       "      <td>0</td>\n",
       "    </tr>\n",
       "  </tbody>\n",
       "</table>\n",
       "</div>"
      ],
      "text/plain": [
       "      id  target\n",
       "0  0;133       0\n",
       "1    0;5       0\n",
       "2   0;10       0\n",
       "3  0;396       0\n",
       "4   0;14       0"
      ]
     },
     "execution_count": 19,
     "metadata": {},
     "output_type": "execute_result"
    }
   ],
   "source": [
    "res.head()"
   ]
  },
  {
   "cell_type": "code",
   "execution_count": 20,
   "id": "775fdad8-bf2e-4be9-b37a-7e70182b0545",
   "metadata": {},
   "outputs": [],
   "source": [
    "res.to_csv(\"last_order_baseline.csv\", index=False)"
   ]
  },
  {
   "cell_type": "code",
   "execution_count": 21,
   "id": "2432ed8b-9ac0-4102-addb-d690ae79b339",
   "metadata": {},
   "outputs": [],
   "source": [
    "# Local score: 0.40049\n",
    "# Public score: 0.39830"
   ]
  },
  {
   "cell_type": "markdown",
   "id": "cbd8179d-76e9-4c92-80ab-9f054815cce6",
   "metadata": {},
   "source": [
    "### User's top personal recommendations"
   ]
  },
  {
   "cell_type": "code",
   "execution_count": 22,
   "id": "7f62831a-b728-4692-9f9c-1f89737e1758",
   "metadata": {},
   "outputs": [],
   "source": [
    "def user_top_k_personal_rec_baseline(t, skeleton, k=10):\n",
    "    g = count_to_duplicates(t).groupby(\"user_id\")[\"cart\"].value_counts().to_frame().rename(columns={\"cart\":\"count\"})\\\n",
    "        .groupby(\"user_id\")[\"count\"].head(k).to_frame().reset_index().drop(columns=[\"count\"])\\\n",
    "        .groupby(\"user_id\")[\"cart\"].agg([lambda x: x.tolist()]).rename(columns={\"<lambda>\":\"user_top_\"+str(k)+\"_carts\"}).reset_index()\n",
    "    res = pd.merge(skeleton, g, on=[\"user_id\"], how=\"left\")\n",
    "    arr = []\n",
    "    for index, row in tqdm(res.iterrows(), total=res.shape[0]):\n",
    "        if row[\"cart\"] in row[\"user_top_\"+str(k)+\"_carts\"]:\n",
    "            arr.append(1)\n",
    "        else:\n",
    "            arr.append(0)\n",
    "    res[\"predict\"] = arr\n",
    "    res.drop(columns=[\"user_top_10_carts\"], inplace=True)\n",
    "    return res"
   ]
  },
  {
   "cell_type": "code",
   "execution_count": 23,
   "id": "1739af9f-daba-40e0-a697-d5bdb5997e01",
   "metadata": {},
   "outputs": [
    {
     "name": "stderr",
     "output_type": "stream",
     "text": [
      "100%|████████████████████████████████████████████████████████████████████| 1032983/1032983 [00:01<00:00, 869690.44it/s]\n"
     ]
    }
   ],
   "source": [
    "train, targets = make_train_targets(df)"
   ]
  },
  {
   "cell_type": "code",
   "execution_count": 24,
   "id": "051258af-62f8-46ea-8ae3-2f2652574a59",
   "metadata": {},
   "outputs": [
    {
     "name": "stderr",
     "output_type": "stream",
     "text": [
      "100%|█████████████████████████████████████████████████████████████████████| 1032983/1032983 [00:41<00:00, 24674.92it/s]\n"
     ]
    }
   ],
   "source": [
    "train_res = user_top_k_personal_rec_baseline(train, make_skeleton(train))"
   ]
  },
  {
   "cell_type": "code",
   "execution_count": 25,
   "id": "b2a38888-852a-48e3-b26b-eacc961bcf9f",
   "metadata": {},
   "outputs": [],
   "source": [
    "train_res = pd.merge(train_res, targets, on=[\"user_id\", \"cart\"], how=\"left\")"
   ]
  },
  {
   "cell_type": "code",
   "execution_count": 26,
   "id": "b54fba41-30f9-4222-8a4d-8879feb9e53c",
   "metadata": {},
   "outputs": [
    {
     "data": {
      "text/plain": [
       "0.4184343601859459"
      ]
     },
     "execution_count": 26,
     "metadata": {},
     "output_type": "execute_result"
    }
   ],
   "source": [
    "f1_score(train_res[\"target\"], train_res[\"predict\"])"
   ]
  },
  {
   "cell_type": "code",
   "execution_count": null,
   "id": "06e60b0c-b9fb-495f-b134-1d3d2d5ab9c1",
   "metadata": {},
   "outputs": [],
   "source": []
  },
  {
   "cell_type": "code",
   "execution_count": 27,
   "id": "c6b39398-7779-4488-9a8b-6cf7b172b42f",
   "metadata": {},
   "outputs": [
    {
     "name": "stderr",
     "output_type": "stream",
     "text": [
      "100%|███████████████████████████████████████████████████████████████████████| 790449/790449 [00:33<00:00, 23784.56it/s]\n"
     ]
    }
   ],
   "source": [
    "res = user_top_k_personal_rec_baseline(df, ss[[\"user_id\",\"cart\"]])"
   ]
  },
  {
   "cell_type": "code",
   "execution_count": 28,
   "id": "647090f0-a1b5-4b92-9a06-223bddcee961",
   "metadata": {},
   "outputs": [
    {
     "data": {
      "text/html": [
       "<div>\n",
       "<style scoped>\n",
       "    .dataframe tbody tr th:only-of-type {\n",
       "        vertical-align: middle;\n",
       "    }\n",
       "\n",
       "    .dataframe tbody tr th {\n",
       "        vertical-align: top;\n",
       "    }\n",
       "\n",
       "    .dataframe thead th {\n",
       "        text-align: right;\n",
       "    }\n",
       "</style>\n",
       "<table border=\"1\" class=\"dataframe\">\n",
       "  <thead>\n",
       "    <tr style=\"text-align: right;\">\n",
       "      <th></th>\n",
       "      <th>user_id</th>\n",
       "      <th>cart</th>\n",
       "      <th>predict</th>\n",
       "    </tr>\n",
       "  </thead>\n",
       "  <tbody>\n",
       "    <tr>\n",
       "      <th>0</th>\n",
       "      <td>0</td>\n",
       "      <td>133</td>\n",
       "      <td>0</td>\n",
       "    </tr>\n",
       "    <tr>\n",
       "      <th>1</th>\n",
       "      <td>0</td>\n",
       "      <td>5</td>\n",
       "      <td>1</td>\n",
       "    </tr>\n",
       "    <tr>\n",
       "      <th>2</th>\n",
       "      <td>0</td>\n",
       "      <td>10</td>\n",
       "      <td>1</td>\n",
       "    </tr>\n",
       "    <tr>\n",
       "      <th>3</th>\n",
       "      <td>0</td>\n",
       "      <td>396</td>\n",
       "      <td>0</td>\n",
       "    </tr>\n",
       "    <tr>\n",
       "      <th>4</th>\n",
       "      <td>0</td>\n",
       "      <td>14</td>\n",
       "      <td>1</td>\n",
       "    </tr>\n",
       "  </tbody>\n",
       "</table>\n",
       "</div>"
      ],
      "text/plain": [
       "   user_id  cart  predict\n",
       "0        0   133        0\n",
       "1        0     5        1\n",
       "2        0    10        1\n",
       "3        0   396        0\n",
       "4        0    14        1"
      ]
     },
     "execution_count": 28,
     "metadata": {},
     "output_type": "execute_result"
    }
   ],
   "source": [
    "res.head()"
   ]
  },
  {
   "cell_type": "code",
   "execution_count": 29,
   "id": "411ebe16-f51f-4912-b430-b02afe56e711",
   "metadata": {},
   "outputs": [],
   "source": [
    "res = to_required_df(res)"
   ]
  },
  {
   "cell_type": "code",
   "execution_count": 30,
   "id": "f745d147-e483-4433-bc9e-651c178bf780",
   "metadata": {},
   "outputs": [],
   "source": [
    "res.to_csv(\"user_top_10_rec_baseline.csv\", index=False)"
   ]
  },
  {
   "cell_type": "code",
   "execution_count": 31,
   "id": "9c74f431-8e9b-4f35-acf6-6d30c409baa6",
   "metadata": {},
   "outputs": [],
   "source": [
    "# Local score: 0.41843\n",
    "# Public score: 0.42430"
   ]
  },
  {
   "cell_type": "markdown",
   "id": "ab943647-0aaf-44af-a40c-ceea4f38f48d",
   "metadata": {},
   "source": [
    "### Top popular items"
   ]
  },
  {
   "cell_type": "code",
   "execution_count": 32,
   "id": "225db017-030f-4e3d-8067-1506759af079",
   "metadata": {},
   "outputs": [],
   "source": [
    "def top_k_popular_baseline(t, skeleton, k=15):\n",
    "    top_k_items = t.groupby(\"cart\")[\"count\"].sum().to_frame().reset_index().sort_values(\"count\", ascending=False).head(k)[\"cart\"].tolist()\n",
    "    g = pd.DataFrame()\n",
    "    g[\"user_id\"] = [i for i in range(20000)]\n",
    "    g[\"top_\"+str(k)+\"_items\"] = [top_k_items for i in range(20000)]\n",
    "    \n",
    "    res = pd.merge(skeleton, g, on=[\"user_id\"], how=\"left\")\n",
    "    \n",
    "    arr = []\n",
    "    for index, row in tqdm(res.iterrows(), total=res.shape[0]):\n",
    "        if row[\"cart\"] in row[\"top_\"+str(k)+\"_items\"]:\n",
    "            arr.append(1)\n",
    "        else:\n",
    "            arr.append(0)\n",
    "    res[\"predict\"] = arr\n",
    "#     res.drop(columns=[\"top_15_items\"], inplace=True)\n",
    "    return res"
   ]
  },
  {
   "cell_type": "code",
   "execution_count": 33,
   "id": "6ad93412-7c3a-4b91-895a-7e2f96951ba3",
   "metadata": {},
   "outputs": [
    {
     "name": "stderr",
     "output_type": "stream",
     "text": [
      "100%|████████████████████████████████████████████████████████████████████| 1032983/1032983 [00:01<00:00, 972454.75it/s]\n"
     ]
    }
   ],
   "source": [
    "train, targets = make_train_targets(df)"
   ]
  },
  {
   "cell_type": "code",
   "execution_count": 34,
   "id": "c3355a63-8886-48b4-b935-0641e6c204ce",
   "metadata": {},
   "outputs": [
    {
     "name": "stderr",
     "output_type": "stream",
     "text": [
      "100%|█████████████████████████████████████████████████████████████████████| 1032983/1032983 [00:46<00:00, 22091.11it/s]\n"
     ]
    }
   ],
   "source": [
    "train_res = top_k_popular_baseline(train, make_skeleton(train))"
   ]
  },
  {
   "cell_type": "code",
   "execution_count": 35,
   "id": "d0343921-41e3-4a96-826f-49b7f797b305",
   "metadata": {},
   "outputs": [],
   "source": [
    "train_res = pd.merge(train_res, targets, on=[\"user_id\", \"cart\"], how=\"left\")"
   ]
  },
  {
   "cell_type": "code",
   "execution_count": 36,
   "id": "dc8b63af-6a79-43ca-b0ae-39551824517a",
   "metadata": {},
   "outputs": [
    {
     "data": {
      "text/plain": [
       "0.39849435127911614"
      ]
     },
     "execution_count": 36,
     "metadata": {},
     "output_type": "execute_result"
    }
   ],
   "source": [
    "f1_score(train_res[\"target\"], train_res[\"predict\"])"
   ]
  },
  {
   "cell_type": "code",
   "execution_count": null,
   "id": "15f18f8b-5dac-4b21-9100-3dfeeb0b617a",
   "metadata": {},
   "outputs": [],
   "source": []
  },
  {
   "cell_type": "code",
   "execution_count": 37,
   "id": "6b3b423d-8d41-4d66-82f7-5ef9084a01c5",
   "metadata": {},
   "outputs": [
    {
     "name": "stderr",
     "output_type": "stream",
     "text": [
      "100%|███████████████████████████████████████████████████████████████████████| 790449/790449 [00:33<00:00, 23299.45it/s]\n"
     ]
    }
   ],
   "source": [
    "res = user_top_k_personal_rec_baseline(df, ss[[\"user_id\",\"cart\"]])"
   ]
  },
  {
   "cell_type": "code",
   "execution_count": 38,
   "id": "261754b6-8f73-4d78-96d7-c73e2e28149b",
   "metadata": {},
   "outputs": [],
   "source": [
    "res = to_required_df(res)"
   ]
  },
  {
   "cell_type": "code",
   "execution_count": 39,
   "id": "4a24eee4-e035-4f0b-8d3f-24ec7e079c3d",
   "metadata": {},
   "outputs": [],
   "source": [
    "res.to_csv(\"user_top_10_rec_baseline.csv\", index=False)"
   ]
  },
  {
   "cell_type": "code",
   "execution_count": 40,
   "id": "485cce0f-fddd-4615-a4ac-595abd7f159f",
   "metadata": {},
   "outputs": [],
   "source": [
    "# Local score: 0.39849\n",
    "# Public score: 0.38834"
   ]
  }
 ],
 "metadata": {
  "kernelspec": {
   "display_name": "Python 3",
   "language": "python",
   "name": "python3"
  },
  "language_info": {
   "codemirror_mode": {
    "name": "ipython",
    "version": 3
   },
   "file_extension": ".py",
   "mimetype": "text/x-python",
   "name": "python",
   "nbconvert_exporter": "python",
   "pygments_lexer": "ipython3",
   "version": "3.8.10"
  }
 },
 "nbformat": 4,
 "nbformat_minor": 5
}
