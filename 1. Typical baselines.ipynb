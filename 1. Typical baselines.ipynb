{
 "cells": [
  {
   "cell_type": "markdown",
   "metadata": {},
   "source": [
    "## Typical baselines\n",
    "Проверим три основных идеи:\n",
    "* Порекомендуем пользователю его посленюю покупку\n",
    "    - Score: 0.32772 (mean) - 0.33847 (level=1), 0.33623 (level=2), 0.30845 (level=3), \n",
    "* Для каждого пользователя найдем самые часто покупаемые товары и порекомендуем их\n",
    "    - Score: 0.32311 (mean) - 0.34178 (level=1), 0.33146 (level=2), 0.29609 (level=3)\n",
    "* Каждому пользователю порекомендуем просто топ популярных товаров\n",
    "    - Score: 0.37599 (mean) - 0.36759 (level=1), 0.37323 (level=2), 0.38714 (level=3)\n",
    "    \n",
    "! Можно использовать режим \"Run all\""
   ]
  },
  {
   "cell_type": "code",
   "execution_count": 1,
   "metadata": {},
   "outputs": [
    {
     "name": "stdout",
     "output_type": "stream",
     "text": [
      "Populating the interactive namespace from numpy and matplotlib\n",
      "Wall time: 2.62 s\n"
     ]
    },
    {
     "name": "stderr",
     "output_type": "stream",
     "text": [
      "c:\\envs\\kate\\lib\\site-packages\\tqdm\\std.py:703: FutureWarning: The Panel class is removed from pandas. Accessing it from the top-level namespace will also be removed in the next version\n",
      "  from pandas import Panel\n"
     ]
    }
   ],
   "source": [
    "%%time\n",
    "%pylab inline\n",
    "import pandas as pd\n",
    "import numpy as np\n",
    "from tqdm import tqdm\n",
    "from sklearn.metrics import f1_score\n",
    "tqdm.pandas()"
   ]
  },
  {
   "cell_type": "code",
   "execution_count": 2,
   "metadata": {},
   "outputs": [],
   "source": [
    "df = pd.read_csv(\"data/main.csv\")"
   ]
  },
  {
   "cell_type": "code",
   "execution_count": 4,
   "metadata": {},
   "outputs": [],
   "source": [
    "df.rename(columns={\"order_completed_at\":\"time\"}, inplace=True) # rename \"order_completed_at\" column to \"time\"\n",
    "df[\"time\"] = pd.to_datetime(df[\"time\"], format=\"%Y-%m-%d %H:%M:%S\") # \"time\" column to datetime type"
   ]
  },
  {
   "cell_type": "code",
   "execution_count": 9,
   "metadata": {},
   "outputs": [
    {
     "data": {
      "text/plain": [
       "1245"
      ]
     },
     "execution_count": 9,
     "metadata": {},
     "output_type": "execute_result"
    }
   ],
   "source": [
    "# в одно и то же время покупку могли совершить несколько клиентов, поэтому в функции duplicates_to_count\n",
    "# стоит сделать группировку по user_id и time\n",
    "\n",
    "sum(df.groupby('time').agg(unique_users = ('user_id', 'nunique')).unique_users > 1)"
   ]
  },
  {
   "cell_type": "code",
   "execution_count": 12,
   "metadata": {},
   "outputs": [
    {
     "data": {
      "text/html": [
       "<div>\n",
       "<style scoped>\n",
       "    .dataframe tbody tr th:only-of-type {\n",
       "        vertical-align: middle;\n",
       "    }\n",
       "\n",
       "    .dataframe tbody tr th {\n",
       "        vertical-align: top;\n",
       "    }\n",
       "\n",
       "    .dataframe thead th {\n",
       "        text-align: right;\n",
       "    }\n",
       "</style>\n",
       "<table border=\"1\" class=\"dataframe\">\n",
       "  <thead>\n",
       "    <tr style=\"text-align: right;\">\n",
       "      <th></th>\n",
       "      <th>user_id</th>\n",
       "      <th>time</th>\n",
       "      <th>cart</th>\n",
       "    </tr>\n",
       "  </thead>\n",
       "  <tbody>\n",
       "    <tr>\n",
       "      <th>1278147</th>\n",
       "      <td>687</td>\n",
       "      <td>2020-04-22 07:13:56</td>\n",
       "      <td>432</td>\n",
       "    </tr>\n",
       "    <tr>\n",
       "      <th>1278148</th>\n",
       "      <td>12124</td>\n",
       "      <td>2020-04-22 07:13:56</td>\n",
       "      <td>422</td>\n",
       "    </tr>\n",
       "    <tr>\n",
       "      <th>1278149</th>\n",
       "      <td>687</td>\n",
       "      <td>2020-04-22 07:13:56</td>\n",
       "      <td>84</td>\n",
       "    </tr>\n",
       "    <tr>\n",
       "      <th>1278150</th>\n",
       "      <td>687</td>\n",
       "      <td>2020-04-22 07:13:56</td>\n",
       "      <td>427</td>\n",
       "    </tr>\n",
       "    <tr>\n",
       "      <th>1278151</th>\n",
       "      <td>6815</td>\n",
       "      <td>2020-04-22 07:13:56</td>\n",
       "      <td>440</td>\n",
       "    </tr>\n",
       "    <tr>\n",
       "      <th>...</th>\n",
       "      <td>...</td>\n",
       "      <td>...</td>\n",
       "      <td>...</td>\n",
       "    </tr>\n",
       "    <tr>\n",
       "      <th>1278215</th>\n",
       "      <td>687</td>\n",
       "      <td>2020-04-22 07:13:56</td>\n",
       "      <td>398</td>\n",
       "    </tr>\n",
       "    <tr>\n",
       "      <th>1278216</th>\n",
       "      <td>6815</td>\n",
       "      <td>2020-04-22 07:13:56</td>\n",
       "      <td>377</td>\n",
       "    </tr>\n",
       "    <tr>\n",
       "      <th>1278217</th>\n",
       "      <td>6815</td>\n",
       "      <td>2020-04-22 07:13:56</td>\n",
       "      <td>229</td>\n",
       "    </tr>\n",
       "    <tr>\n",
       "      <th>1278218</th>\n",
       "      <td>687</td>\n",
       "      <td>2020-04-22 07:13:56</td>\n",
       "      <td>413</td>\n",
       "    </tr>\n",
       "    <tr>\n",
       "      <th>1278219</th>\n",
       "      <td>6815</td>\n",
       "      <td>2020-04-22 07:13:56</td>\n",
       "      <td>57</td>\n",
       "    </tr>\n",
       "  </tbody>\n",
       "</table>\n",
       "<p>73 rows × 3 columns</p>\n",
       "</div>"
      ],
      "text/plain": [
       "         user_id                time  cart\n",
       "1278147      687 2020-04-22 07:13:56   432\n",
       "1278148    12124 2020-04-22 07:13:56   422\n",
       "1278149      687 2020-04-22 07:13:56    84\n",
       "1278150      687 2020-04-22 07:13:56   427\n",
       "1278151     6815 2020-04-22 07:13:56   440\n",
       "...          ...                 ...   ...\n",
       "1278215      687 2020-04-22 07:13:56   398\n",
       "1278216     6815 2020-04-22 07:13:56   377\n",
       "1278217     6815 2020-04-22 07:13:56   229\n",
       "1278218      687 2020-04-22 07:13:56   413\n",
       "1278219     6815 2020-04-22 07:13:56    57\n",
       "\n",
       "[73 rows x 3 columns]"
      ]
     },
     "execution_count": 12,
     "metadata": {},
     "output_type": "execute_result"
    }
   ],
   "source": [
    "# например..\n",
    "\n",
    "df[df.time == '2020-04-22 07:13:56']"
   ]
  },
  {
   "cell_type": "markdown",
   "metadata": {},
   "source": [
    "Изменила группировку в функции duplicates_to_count, внесла маленькую корректировку в функцию count_to_duplicates. В функции make_train_targets поменяла last() на max() при выборке времени последней покупки (на случай, если данные не отсортированы), подправила мердж user_last_time и df (соединение должно происходить ко колонкам user_id и time)."
   ]
  },
  {
   "cell_type": "code",
   "execution_count": 17,
   "metadata": {},
   "outputs": [],
   "source": [
    "def duplicates_to_count(t): #Заменяет повторяющиеся товары в корзине на одну запись с указанием количества\n",
    "    return t.groupby(['user_id', 'time'])['cart'].value_counts() \\\n",
    "                                                  .to_frame() \\\n",
    "                                                  .rename(columns={\"cart\":\"count\"}) \\\n",
    "                                                  .reset_index()\n",
    "\n",
    "def count_to_duplicates(t): #Обратная операция\n",
    "    g = t.copy()\n",
    "    g[\"to_explode\"] = g[\"count\"].apply(lambda x: [i for i in range(x)])\n",
    "    g = g.explode(\"to_explode\") \\\n",
    "         .drop(columns=[\"count\", \"to_explode\"])\n",
    "    return g\n",
    "\n",
    "# Создает train датасет и ответы для него\n",
    "# lvevel=1 означает, что для формирования ответов берётся последняя покупка, level=2 - предпоследняя и так далее \n",
    "def make_train_targets(t, level=1): \n",
    "    user_last_time = t.groupby([\"user_id\"])[\"time\"].max().to_frame().reset_index()\n",
    "    user_last_time[\"last_buy\"] = 1\n",
    "    \n",
    "    train = pd.merge(t, user_last_time, on=[\"time\", \"user_id\"], how=\"left\")\n",
    "    train = train[train[\"last_buy\"] != 1]\n",
    "    train.drop(columns=[\"last_buy\"], inplace=True)\n",
    "    \n",
    "    if level >= 2:\n",
    "        return make_train_targets(train, level-1)\n",
    "    \n",
    "    user_last_time.drop(columns=[\"last_buy\"], inplace=True)\n",
    "    \n",
    "    user_last_carts = pd.merge(user_last_time, t, on=[\"user_id\", \"time\"], how=\"left\")\n",
    "    \n",
    "    skeleton = make_skeleton(t)\n",
    "    targets = pd.merge(skeleton, user_last_carts.drop(columns=[\"time\"]), on=[\"user_id\",\"cart\"], how=\"left\")\n",
    "    targets.fillna(0, inplace=True)\n",
    "    targets[\"count\"] = targets[\"count\"].apply(lambda x: x if x <= 1 else 1).astype(int)\n",
    "    targets.rename(columns={\"count\":\"target\"}, inplace=True)\n",
    "    return train, targets\n",
    "\n",
    "def make_skeleton(t): # Создает все комбинации user_id и cart, которые пользователь когда-либо покупал\n",
    "    return t.groupby(\"user_id\")[\"cart\"].unique().to_frame().reset_index().explode(\"cart\")\n",
    "    "
   ]
  },
  {
   "cell_type": "code",
   "execution_count": 18,
   "metadata": {},
   "outputs": [],
   "source": [
    "df = duplicates_to_count(df)"
   ]
  },
  {
   "cell_type": "code",
   "execution_count": 19,
   "metadata": {},
   "outputs": [
    {
     "data": {
      "text/html": [
       "<div>\n",
       "<style scoped>\n",
       "    .dataframe tbody tr th:only-of-type {\n",
       "        vertical-align: middle;\n",
       "    }\n",
       "\n",
       "    .dataframe tbody tr th {\n",
       "        vertical-align: top;\n",
       "    }\n",
       "\n",
       "    .dataframe thead th {\n",
       "        text-align: right;\n",
       "    }\n",
       "</style>\n",
       "<table border=\"1\" class=\"dataframe\">\n",
       "  <thead>\n",
       "    <tr style=\"text-align: right;\">\n",
       "      <th></th>\n",
       "      <th>user_id</th>\n",
       "      <th>time</th>\n",
       "      <th>cart</th>\n",
       "      <th>count</th>\n",
       "    </tr>\n",
       "  </thead>\n",
       "  <tbody>\n",
       "    <tr>\n",
       "      <th>0</th>\n",
       "      <td>0</td>\n",
       "      <td>2020-07-19 09:59:17</td>\n",
       "      <td>14</td>\n",
       "      <td>1</td>\n",
       "    </tr>\n",
       "    <tr>\n",
       "      <th>1</th>\n",
       "      <td>0</td>\n",
       "      <td>2020-07-19 09:59:17</td>\n",
       "      <td>20</td>\n",
       "      <td>1</td>\n",
       "    </tr>\n",
       "    <tr>\n",
       "      <th>2</th>\n",
       "      <td>0</td>\n",
       "      <td>2020-07-19 09:59:17</td>\n",
       "      <td>57</td>\n",
       "      <td>1</td>\n",
       "    </tr>\n",
       "    <tr>\n",
       "      <th>3</th>\n",
       "      <td>0</td>\n",
       "      <td>2020-07-19 09:59:17</td>\n",
       "      <td>82</td>\n",
       "      <td>1</td>\n",
       "    </tr>\n",
       "    <tr>\n",
       "      <th>4</th>\n",
       "      <td>0</td>\n",
       "      <td>2020-07-19 09:59:17</td>\n",
       "      <td>379</td>\n",
       "      <td>1</td>\n",
       "    </tr>\n",
       "  </tbody>\n",
       "</table>\n",
       "</div>"
      ],
      "text/plain": [
       "   user_id                time  cart  count\n",
       "0        0 2020-07-19 09:59:17    14      1\n",
       "1        0 2020-07-19 09:59:17    20      1\n",
       "2        0 2020-07-19 09:59:17    57      1\n",
       "3        0 2020-07-19 09:59:17    82      1\n",
       "4        0 2020-07-19 09:59:17   379      1"
      ]
     },
     "execution_count": 19,
     "metadata": {},
     "output_type": "execute_result"
    }
   ],
   "source": [
    "df.head()"
   ]
  },
  {
   "cell_type": "markdown",
   "metadata": {},
   "source": [
    "### User's last cart"
   ]
  },
  {
   "cell_type": "markdown",
   "metadata": {},
   "source": [
    "В функцию user_last_cart_baseline внесла аналогичные правки, что и в make_train_targets."
   ]
  },
  {
   "cell_type": "code",
   "execution_count": 20,
   "metadata": {},
   "outputs": [],
   "source": [
    "def user_last_cart_baseline(t, skeleton):\n",
    "    user_last_time = t.groupby([\"user_id\"])[\"time\"].max().to_frame().reset_index()\n",
    "    user_last_carts = pd.merge(user_last_time, t, on=[\"user_id\", \"time\"], how=\"left\") \n",
    "    res = pd.merge(skeleton, user_last_carts.drop(columns=[\"time\"]), on=[\"user_id\",\"cart\"], how=\"left\")\\\n",
    "        .fillna(0).rename(columns={\"count\":\"predict\"})\n",
    "    res[\"predict\"] = res[\"predict\"].progress_apply(lambda x: x if x <= 1 else 1).astype(int)\n",
    "    return res"
   ]
  },
  {
   "cell_type": "code",
   "execution_count": 21,
   "metadata": {},
   "outputs": [],
   "source": [
    "train, targets = make_train_targets(df, level=1)"
   ]
  },
  {
   "cell_type": "code",
   "execution_count": 22,
   "metadata": {},
   "outputs": [
    {
     "data": {
      "text/html": [
       "<div>\n",
       "<style scoped>\n",
       "    .dataframe tbody tr th:only-of-type {\n",
       "        vertical-align: middle;\n",
       "    }\n",
       "\n",
       "    .dataframe tbody tr th {\n",
       "        vertical-align: top;\n",
       "    }\n",
       "\n",
       "    .dataframe thead th {\n",
       "        text-align: right;\n",
       "    }\n",
       "</style>\n",
       "<table border=\"1\" class=\"dataframe\">\n",
       "  <thead>\n",
       "    <tr style=\"text-align: right;\">\n",
       "      <th></th>\n",
       "      <th>user_id</th>\n",
       "      <th>time</th>\n",
       "      <th>cart</th>\n",
       "      <th>count</th>\n",
       "    </tr>\n",
       "  </thead>\n",
       "  <tbody>\n",
       "    <tr>\n",
       "      <th>0</th>\n",
       "      <td>0</td>\n",
       "      <td>2020-07-19 09:59:17</td>\n",
       "      <td>14</td>\n",
       "      <td>1</td>\n",
       "    </tr>\n",
       "    <tr>\n",
       "      <th>1</th>\n",
       "      <td>0</td>\n",
       "      <td>2020-07-19 09:59:17</td>\n",
       "      <td>20</td>\n",
       "      <td>1</td>\n",
       "    </tr>\n",
       "    <tr>\n",
       "      <th>2</th>\n",
       "      <td>0</td>\n",
       "      <td>2020-07-19 09:59:17</td>\n",
       "      <td>57</td>\n",
       "      <td>1</td>\n",
       "    </tr>\n",
       "    <tr>\n",
       "      <th>3</th>\n",
       "      <td>0</td>\n",
       "      <td>2020-07-19 09:59:17</td>\n",
       "      <td>82</td>\n",
       "      <td>1</td>\n",
       "    </tr>\n",
       "    <tr>\n",
       "      <th>4</th>\n",
       "      <td>0</td>\n",
       "      <td>2020-07-19 09:59:17</td>\n",
       "      <td>379</td>\n",
       "      <td>1</td>\n",
       "    </tr>\n",
       "  </tbody>\n",
       "</table>\n",
       "</div>"
      ],
      "text/plain": [
       "   user_id                time  cart  count\n",
       "0        0 2020-07-19 09:59:17    14      1\n",
       "1        0 2020-07-19 09:59:17    20      1\n",
       "2        0 2020-07-19 09:59:17    57      1\n",
       "3        0 2020-07-19 09:59:17    82      1\n",
       "4        0 2020-07-19 09:59:17   379      1"
      ]
     },
     "execution_count": 22,
     "metadata": {},
     "output_type": "execute_result"
    }
   ],
   "source": [
    "train.head()"
   ]
  },
  {
   "cell_type": "code",
   "execution_count": 23,
   "metadata": {},
   "outputs": [
    {
     "data": {
      "text/html": [
       "<div>\n",
       "<style scoped>\n",
       "    .dataframe tbody tr th:only-of-type {\n",
       "        vertical-align: middle;\n",
       "    }\n",
       "\n",
       "    .dataframe tbody tr th {\n",
       "        vertical-align: top;\n",
       "    }\n",
       "\n",
       "    .dataframe thead th {\n",
       "        text-align: right;\n",
       "    }\n",
       "</style>\n",
       "<table border=\"1\" class=\"dataframe\">\n",
       "  <thead>\n",
       "    <tr style=\"text-align: right;\">\n",
       "      <th></th>\n",
       "      <th>user_id</th>\n",
       "      <th>cart</th>\n",
       "      <th>target</th>\n",
       "    </tr>\n",
       "  </thead>\n",
       "  <tbody>\n",
       "    <tr>\n",
       "      <th>0</th>\n",
       "      <td>0</td>\n",
       "      <td>14</td>\n",
       "      <td>0</td>\n",
       "    </tr>\n",
       "    <tr>\n",
       "      <th>1</th>\n",
       "      <td>0</td>\n",
       "      <td>20</td>\n",
       "      <td>0</td>\n",
       "    </tr>\n",
       "    <tr>\n",
       "      <th>2</th>\n",
       "      <td>0</td>\n",
       "      <td>57</td>\n",
       "      <td>1</td>\n",
       "    </tr>\n",
       "    <tr>\n",
       "      <th>3</th>\n",
       "      <td>0</td>\n",
       "      <td>82</td>\n",
       "      <td>0</td>\n",
       "    </tr>\n",
       "    <tr>\n",
       "      <th>4</th>\n",
       "      <td>0</td>\n",
       "      <td>379</td>\n",
       "      <td>0</td>\n",
       "    </tr>\n",
       "  </tbody>\n",
       "</table>\n",
       "</div>"
      ],
      "text/plain": [
       "   user_id  cart  target\n",
       "0        0    14       0\n",
       "1        0    20       0\n",
       "2        0    57       1\n",
       "3        0    82       0\n",
       "4        0   379       0"
      ]
     },
     "execution_count": 23,
     "metadata": {},
     "output_type": "execute_result"
    }
   ],
   "source": [
    "targets.head()"
   ]
  },
  {
   "cell_type": "code",
   "execution_count": 24,
   "metadata": {},
   "outputs": [
    {
     "name": "stderr",
     "output_type": "stream",
     "text": [
      "100%|███████████████████████████████████████████████████████████████████| 1117600/1117600 [00:00<00:00, 1248222.99it/s]\n"
     ]
    }
   ],
   "source": [
    "train_res = user_last_cart_baseline(train, targets)"
   ]
  },
  {
   "cell_type": "code",
   "execution_count": 25,
   "metadata": {},
   "outputs": [
    {
     "data": {
      "text/html": [
       "<div>\n",
       "<style scoped>\n",
       "    .dataframe tbody tr th:only-of-type {\n",
       "        vertical-align: middle;\n",
       "    }\n",
       "\n",
       "    .dataframe tbody tr th {\n",
       "        vertical-align: top;\n",
       "    }\n",
       "\n",
       "    .dataframe thead th {\n",
       "        text-align: right;\n",
       "    }\n",
       "</style>\n",
       "<table border=\"1\" class=\"dataframe\">\n",
       "  <thead>\n",
       "    <tr style=\"text-align: right;\">\n",
       "      <th></th>\n",
       "      <th>user_id</th>\n",
       "      <th>cart</th>\n",
       "      <th>target</th>\n",
       "      <th>predict</th>\n",
       "    </tr>\n",
       "  </thead>\n",
       "  <tbody>\n",
       "    <tr>\n",
       "      <th>0</th>\n",
       "      <td>0</td>\n",
       "      <td>14</td>\n",
       "      <td>0</td>\n",
       "      <td>1</td>\n",
       "    </tr>\n",
       "    <tr>\n",
       "      <th>1</th>\n",
       "      <td>0</td>\n",
       "      <td>20</td>\n",
       "      <td>0</td>\n",
       "      <td>0</td>\n",
       "    </tr>\n",
       "    <tr>\n",
       "      <th>2</th>\n",
       "      <td>0</td>\n",
       "      <td>57</td>\n",
       "      <td>1</td>\n",
       "      <td>1</td>\n",
       "    </tr>\n",
       "    <tr>\n",
       "      <th>3</th>\n",
       "      <td>0</td>\n",
       "      <td>82</td>\n",
       "      <td>0</td>\n",
       "      <td>1</td>\n",
       "    </tr>\n",
       "    <tr>\n",
       "      <th>4</th>\n",
       "      <td>0</td>\n",
       "      <td>379</td>\n",
       "      <td>0</td>\n",
       "      <td>1</td>\n",
       "    </tr>\n",
       "  </tbody>\n",
       "</table>\n",
       "</div>"
      ],
      "text/plain": [
       "   user_id  cart  target  predict\n",
       "0        0    14       0        1\n",
       "1        0    20       0        0\n",
       "2        0    57       1        1\n",
       "3        0    82       0        1\n",
       "4        0   379       0        1"
      ]
     },
     "execution_count": 25,
     "metadata": {},
     "output_type": "execute_result"
    }
   ],
   "source": [
    "train_res.head()"
   ]
  },
  {
   "cell_type": "code",
   "execution_count": 26,
   "metadata": {},
   "outputs": [
    {
     "data": {
      "text/plain": [
       "0.3393176623703617"
      ]
     },
     "execution_count": 26,
     "metadata": {},
     "output_type": "execute_result"
    }
   ],
   "source": [
    "f1_score(train_res[\"target\"], train_res[\"predict\"])"
   ]
  },
  {
   "cell_type": "code",
   "execution_count": null,
   "metadata": {},
   "outputs": [],
   "source": []
  },
  {
   "cell_type": "markdown",
   "metadata": {},
   "source": [
    "### User's top personal recommendations"
   ]
  },
  {
   "cell_type": "markdown",
   "metadata": {},
   "source": [
    "Упростила функцию."
   ]
  },
  {
   "cell_type": "code",
   "execution_count": 85,
   "metadata": {},
   "outputs": [],
   "source": [
    "def user_top_k_personal_rec_baseline(t, skeleton, k=10):\n",
    "    g = count_to_duplicates(t).groupby(\"user_id\")[\"cart\"].value_counts().to_frame().rename(columns={\"cart\":\"count\"})\\\n",
    "        .groupby(\"user_id\")[\"count\"].head(10).to_frame().reset_index().drop(columns=[\"count\"])\n",
    "    g['predict'] = 1\n",
    "    res = skeleton.copy()\n",
    "    res = res.merge(g, how='left', on=['user_id', 'cart'])\n",
    "    res['predict'] = res['predict'].fillna(0).astype(int)\n",
    "    \n",
    "    return res"
   ]
  },
  {
   "cell_type": "code",
   "execution_count": 86,
   "metadata": {},
   "outputs": [],
   "source": [
    "train, targets = make_train_targets(df, level=1)"
   ]
  },
  {
   "cell_type": "code",
   "execution_count": 87,
   "metadata": {},
   "outputs": [],
   "source": [
    "train_res = user_top_k_personal_rec_baseline(train, targets)"
   ]
  },
  {
   "cell_type": "code",
   "execution_count": 88,
   "metadata": {},
   "outputs": [
    {
     "data": {
      "text/html": [
       "<div>\n",
       "<style scoped>\n",
       "    .dataframe tbody tr th:only-of-type {\n",
       "        vertical-align: middle;\n",
       "    }\n",
       "\n",
       "    .dataframe tbody tr th {\n",
       "        vertical-align: top;\n",
       "    }\n",
       "\n",
       "    .dataframe thead th {\n",
       "        text-align: right;\n",
       "    }\n",
       "</style>\n",
       "<table border=\"1\" class=\"dataframe\">\n",
       "  <thead>\n",
       "    <tr style=\"text-align: right;\">\n",
       "      <th></th>\n",
       "      <th>user_id</th>\n",
       "      <th>cart</th>\n",
       "      <th>target</th>\n",
       "      <th>predict</th>\n",
       "    </tr>\n",
       "  </thead>\n",
       "  <tbody>\n",
       "    <tr>\n",
       "      <th>0</th>\n",
       "      <td>0</td>\n",
       "      <td>14</td>\n",
       "      <td>0</td>\n",
       "      <td>1</td>\n",
       "    </tr>\n",
       "    <tr>\n",
       "      <th>1</th>\n",
       "      <td>0</td>\n",
       "      <td>20</td>\n",
       "      <td>0</td>\n",
       "      <td>1</td>\n",
       "    </tr>\n",
       "    <tr>\n",
       "      <th>2</th>\n",
       "      <td>0</td>\n",
       "      <td>57</td>\n",
       "      <td>1</td>\n",
       "      <td>1</td>\n",
       "    </tr>\n",
       "    <tr>\n",
       "      <th>3</th>\n",
       "      <td>0</td>\n",
       "      <td>82</td>\n",
       "      <td>0</td>\n",
       "      <td>1</td>\n",
       "    </tr>\n",
       "    <tr>\n",
       "      <th>4</th>\n",
       "      <td>0</td>\n",
       "      <td>379</td>\n",
       "      <td>0</td>\n",
       "      <td>1</td>\n",
       "    </tr>\n",
       "  </tbody>\n",
       "</table>\n",
       "</div>"
      ],
      "text/plain": [
       "   user_id  cart  target  predict\n",
       "0        0    14       0        1\n",
       "1        0    20       0        1\n",
       "2        0    57       1        1\n",
       "3        0    82       0        1\n",
       "4        0   379       0        1"
      ]
     },
     "execution_count": 88,
     "metadata": {},
     "output_type": "execute_result"
    }
   ],
   "source": [
    "train_res.head()"
   ]
  },
  {
   "cell_type": "code",
   "execution_count": 89,
   "metadata": {},
   "outputs": [
    {
     "data": {
      "text/plain": [
       "0.34319546434025816"
      ]
     },
     "execution_count": 89,
     "metadata": {},
     "output_type": "execute_result"
    }
   ],
   "source": [
    "f1_score(train_res[\"target\"], train_res[\"predict\"])"
   ]
  },
  {
   "cell_type": "code",
   "execution_count": null,
   "metadata": {},
   "outputs": [],
   "source": []
  },
  {
   "cell_type": "markdown",
   "metadata": {},
   "source": [
    "### Top popular items"
   ]
  },
  {
   "cell_type": "markdown",
   "metadata": {},
   "source": [
    "Упростила функцию."
   ]
  },
  {
   "cell_type": "code",
   "execution_count": 65,
   "metadata": {},
   "outputs": [],
   "source": [
    "def top_k_popular_baseline(t, skeleton, k=15):\n",
    "    top_k_items = t.groupby(\"cart\")[\"count\"].sum().to_frame().reset_index() \\\n",
    "                   .sort_values(\"count\", ascending=False).head(k)[\"cart\"].tolist()\n",
    "    \n",
    "    res = skeleton.copy()\n",
    "    res['predict'] = np.where(res.cart.isin(top_k_items), 1, 0)\n",
    "    \n",
    "    return res"
   ]
  },
  {
   "cell_type": "code",
   "execution_count": 66,
   "metadata": {},
   "outputs": [],
   "source": [
    "train, targets = make_train_targets(df, level=1)"
   ]
  },
  {
   "cell_type": "code",
   "execution_count": 67,
   "metadata": {},
   "outputs": [],
   "source": [
    "train_res = top_k_popular_baseline(train, targets)"
   ]
  },
  {
   "cell_type": "code",
   "execution_count": 68,
   "metadata": {},
   "outputs": [
    {
     "data": {
      "text/plain": [
       "0.36758787992167213"
      ]
     },
     "execution_count": 68,
     "metadata": {},
     "output_type": "execute_result"
    }
   ],
   "source": [
    "f1_score(train_res[\"target\"], train_res[\"predict\"])"
   ]
  },
  {
   "cell_type": "code",
   "execution_count": null,
   "metadata": {},
   "outputs": [],
   "source": []
  }
 ],
 "metadata": {
  "kernelspec": {
   "display_name": "Python 3",
   "language": "python",
   "name": "python3"
  },
  "language_info": {
   "codemirror_mode": {
    "name": "ipython",
    "version": 3
   },
   "file_extension": ".py",
   "mimetype": "text/x-python",
   "name": "python",
   "nbconvert_exporter": "python",
   "pygments_lexer": "ipython3",
   "version": "3.8.6"
  }
 },
 "nbformat": 4,
 "nbformat_minor": 5
}
