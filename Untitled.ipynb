{
 "cells": [
  {
   "cell_type": "code",
   "execution_count": 7,
   "metadata": {
    "scrolled": true
   },
   "outputs": [],
   "source": [
    "import json\n",
    "filepath = 'C:/Users/Asya/Desktop/CODING/GitHub_projects/mts-teta-nbr/data/item_mapping.json'"
   ]
  },
  {
   "cell_type": "code",
   "execution_count": 3,
   "metadata": {},
   "outputs": [],
   "source": [
    "def get_items_mapping(filepath):\n",
    "    \"\"\"Decode JSON w/ items mapping\"\"\"\n",
    "    mapping = {}\n",
    "    with open(filepath, \"r\") as fp:\n",
    "        mapping = json.load(fp)\n",
    "\n",
    "    return mapping\n",
    "\n",
    "def itemtitle_to_itemdict(filepath, basket_todisp):\n",
    "    \"\"\"Decode list if item id to catalogue items (dict), in analogue as we extracted from json\"\"\"\n",
    "    mapping = {}\n",
    "    \n",
    "    with open(filepath, \"r\") as fp:\n",
    "        mapping0 = json.load(fp)    #know the whole dictionary \n",
    "        #itemlist_id = list(mapping0.keys())[list(mapping0.values()).index(i for i in basket_todisp)]\n",
    "        itemlist_id = []\n",
    "        for i in range(len(basket_todisp)):\n",
    "          itemlist_id = itemlist_id.append((mapping0.keys())[list(mapping0.values()).index(basket_todisp[i])])\n",
    "        #dict_you_want = { your_key: old_dict[your_key] for your_key in your_keys }\n",
    "        mapping = {my_key: mapping0[my_key] for my_key in itemlist_id}\n",
    "        return mapping\n",
    "    \n",
    "    "
   ]
  },
  {
   "cell_type": "code",
   "execution_count": 8,
   "metadata": {},
   "outputs": [],
   "source": [
    "mapping = {}\n",
    "    \n",
    "with open(filepath, \"r\") as fp:\n",
    "        mapping0 = json.load(fp)"
   ]
  },
  {
   "cell_type": "code",
   "execution_count": 65,
   "metadata": {
    "scrolled": false
   },
   "outputs": [
    {
     "name": "stdout",
     "output_type": "stream",
     "text": [
      "['0', '100', '14', '15', '16', '169', '17', '170', '19', '198', '21', '22', '23', '25', '26', '27', '29', '30', '31', '376', '379', '380', '382', '383', '384', '388', '395', '396', '398', '400', '402', '409', '41', '411', '412', '42', '420', '425', '43', '430', '431', '432', '437', '440', '5', '54', '55', '57', '61', '712', '798', '804', '82', '84', '85', '86', '88', '89', '9', '92']\n"
     ]
    }
   ],
   "source": [
    "keys_list = list(mapping0.keys())\n",
    "keys_list.sort()\n",
    "print(keys_list)"
   ]
  },
  {
   "cell_type": "code",
   "execution_count": 51,
   "metadata": {},
   "outputs": [
    {
     "data": {
      "text/plain": [
       "{'57': {'title': 'Fresh Strawberries, 1 lb',\n",
       "  'img': 'https://i5.walmartimages.com/asr/4e7dab6a-c54b-48f7-9bd2-57f5d211501d_1.3ba50bfdf1c7f082056c0f5022edf182.jpeg?odnHeight=200&odnWidth=200&odnBg=ffffff'},\n",
       " '100': {'title': 'Zucchini, each',\n",
       "  'img': 'https://i5.walmartimages.com/asr/33be66a0-cbfc-4d37-bd3f-38b06cfe39d6_1.a3a9085102f3a8f794f5965143a363c1.jpeg?odnHeight=200&odnWidth=200&odnBg=ffffff'}}"
      ]
     },
     "execution_count": 51,
     "metadata": {},
     "output_type": "execute_result"
    }
   ],
   "source": [
    "import pandas as pd\n",
    "df0 = pd.DataFrame(mapping0).transpose()\n",
    "df0.loc['57']\n",
    "itemlist = df0[df0['title'].isin(basket_todisp)]\n",
    "itemlist_id = itemlist.index\n",
    "mapping = {my_key: mapping0[my_key] for my_key in itemlist_id}\n",
    "mapping"
   ]
  },
  {
   "cell_type": "code",
   "execution_count": 29,
   "metadata": {},
   "outputs": [
    {
     "data": {
      "text/plain": [
       "{'title': 'Fresh Strawberries, 1 lb',\n",
       " 'img': 'https://i5.walmartimages.com/asr/4e7dab6a-c54b-48f7-9bd2-57f5d211501d_1.3ba50bfdf1c7f082056c0f5022edf182.jpeg?odnHeight=200&odnWidth=200&odnBg=ffffff'}"
      ]
     },
     "execution_count": 29,
     "metadata": {},
     "output_type": "execute_result"
    }
   ],
   "source": [
    "basket_todisp = ['Fresh Strawberries, 1 lb','Zucchini, each']\n",
    "aa = list(mapping0.values())\n",
    "aa[0]"
   ]
  },
  {
   "cell_type": "code",
   "execution_count": null,
   "metadata": {},
   "outputs": [],
   "source": []
  },
  {
   "cell_type": "code",
   "execution_count": null,
   "metadata": {},
   "outputs": [],
   "source": [
    "itemlist_id = []\n",
    "i = 'Fresh Strawberries, 1 lb'\n",
    "itemlist_id = itemlist_id.append((mapping0.keys())[list(mapping0.values()).index(basket_todisp[i])])"
   ]
  },
  {
   "cell_type": "code",
   "execution_count": 33,
   "metadata": {},
   "outputs": [],
   "source": [
    "filtered = dict(zip(basket_todisp, [mapping0['57'] for k in basket_todisp]))"
   ]
  },
  {
   "cell_type": "code",
   "execution_count": 34,
   "metadata": {},
   "outputs": [
    {
     "ename": "AttributeError",
     "evalue": "'dict' object has no attribute 'title'",
     "output_type": "error",
     "traceback": [
      "\u001b[1;31m---------------------------------------------------------------------------\u001b[0m",
      "\u001b[1;31mAttributeError\u001b[0m                            Traceback (most recent call last)",
      "\u001b[1;32m<ipython-input-34-6ba2569a080e>\u001b[0m in \u001b[0;36m<module>\u001b[1;34m\u001b[0m\n\u001b[1;32m----> 1\u001b[1;33m \u001b[0mmapping0\u001b[0m\u001b[1;33m.\u001b[0m\u001b[0mtitle\u001b[0m\u001b[1;33m\u001b[0m\u001b[1;33m\u001b[0m\u001b[0m\n\u001b[0m",
      "\u001b[1;31mAttributeError\u001b[0m: 'dict' object has no attribute 'title'"
     ]
    }
   ],
   "source": [
    "mapping0.title"
   ]
  },
  {
   "cell_type": "code",
   "execution_count": null,
   "metadata": {},
   "outputs": [],
   "source": []
  },
  {
   "cell_type": "code",
   "execution_count": 26,
   "metadata": {},
   "outputs": [
    {
     "data": {
      "text/plain": [
       "{}"
      ]
     },
     "execution_count": 26,
     "metadata": {},
     "output_type": "execute_result"
    }
   ],
   "source": [
    "dictfilt = lambda x, y: dict([ (i,x[i]) for i in x if i in set(y) ])\n",
    "\n",
    "my_dict = {\"a\":1,\"b\":2,\"c\":3,\"d\":4}\n",
    "wanted_keys = (1,1)\n",
    "\n",
    "# run it\n",
    "dictfilt(my_dict, wanted_keys)\n"
   ]
  }
 ],
 "metadata": {
  "kernelspec": {
   "display_name": "Python 3",
   "language": "python",
   "name": "python3"
  },
  "language_info": {
   "codemirror_mode": {
    "name": "ipython",
    "version": 3
   },
   "file_extension": ".py",
   "mimetype": "text/x-python",
   "name": "python",
   "nbconvert_exporter": "python",
   "pygments_lexer": "ipython3",
   "version": "3.8.5"
  }
 },
 "nbformat": 4,
 "nbformat_minor": 4
}
