{
 "cells": [
  {
   "cell_type": "markdown",
   "id": "24a56e6d-cebf-41bf-9e24-17e7502b9c6f",
   "metadata": {},
   "source": [
    "# Apriori\n",
    "В этом ноутбуке рассматривается вспомогательный метод, который можно применять в дополнение к другим подходам.  \n",
    "При помощи алгоритма apriori можно находить закономерности в покупках из датасета. Например, определить какой товар покупают часто с другим определенным товаром.  \n",
    "В дальнейшем этим можно пробовать расширять список рекоммендаций для пользователя.  \n",
    "Здесь можно найти пояснения для всех параметров и результатов использования этого алгоритма:  \n",
    "https://stackabuse.com/association-rule-mining-via-apriori-algorithm-in-python\n",
    "\n",
    "! Ноутбук можно запускать в режиме \"Run all\""
   ]
  },
  {
   "cell_type": "markdown",
   "id": "63a4190b-d183-4efb-80ac-edf42bc1435a",
   "metadata": {},
   "source": [
    "## Загрузка библиотек"
   ]
  },
  {
   "cell_type": "code",
   "execution_count": 1,
   "id": "28ca8711-9139-485a-913b-017cbfcc2974",
   "metadata": {
    "tags": []
   },
   "outputs": [],
   "source": [
    "%matplotlib inline\n",
    "\n",
    "import pandas as pd\n",
    "import numpy as np\n",
    "from tqdm.auto import tqdm\n",
    "from efficient_apriori import apriori\n",
    "tqdm.pandas()"
   ]
  },
  {
   "cell_type": "markdown",
   "id": "33ea6e8c-3c8a-4fd0-ae87-a6659ad3f253",
   "metadata": {
    "tags": []
   },
   "source": [
    "## Подготовка данных"
   ]
  },
  {
   "cell_type": "code",
   "execution_count": 2,
   "id": "f45d78f5-e8ce-43ef-b60f-ebdd258ce0ee",
   "metadata": {
    "tags": []
   },
   "outputs": [],
   "source": [
    "df = pd.read_csv(\"data/main.csv\")"
   ]
  },
  {
   "cell_type": "code",
   "execution_count": 3,
   "id": "483bf335-cd8d-4bd4-b5d1-819efa3e8336",
   "metadata": {
    "tags": []
   },
   "outputs": [],
   "source": [
    "df.rename(columns={\"order_completed_at\":\"time\"}, inplace=True) # переименуем колонку для удобства\n",
    "df[\"time\"] = pd.to_datetime(df[\"time\"], format=\"%Y-%m-%d %H:%M:%S\") # изменим тип колонки для дальнейшей работы"
   ]
  },
  {
   "cell_type": "code",
   "execution_count": 4,
   "id": "46b07f4e-1daa-43e7-9457-1755f2b079cf",
   "metadata": {
    "tags": []
   },
   "outputs": [
    {
     "data": {
      "text/html": [
       "<div>\n",
       "<style scoped>\n",
       "    .dataframe tbody tr th:only-of-type {\n",
       "        vertical-align: middle;\n",
       "    }\n",
       "\n",
       "    .dataframe tbody tr th {\n",
       "        vertical-align: top;\n",
       "    }\n",
       "\n",
       "    .dataframe thead th {\n",
       "        text-align: right;\n",
       "    }\n",
       "</style>\n",
       "<table border=\"1\" class=\"dataframe\">\n",
       "  <thead>\n",
       "    <tr style=\"text-align: right;\">\n",
       "      <th></th>\n",
       "      <th>user_id</th>\n",
       "      <th>time</th>\n",
       "      <th>cart</th>\n",
       "    </tr>\n",
       "  </thead>\n",
       "  <tbody>\n",
       "    <tr>\n",
       "      <th>0</th>\n",
       "      <td>2</td>\n",
       "      <td>2015-03-22 09:25:46</td>\n",
       "      <td>399</td>\n",
       "    </tr>\n",
       "    <tr>\n",
       "      <th>1</th>\n",
       "      <td>2</td>\n",
       "      <td>2015-03-22 09:25:46</td>\n",
       "      <td>14</td>\n",
       "    </tr>\n",
       "    <tr>\n",
       "      <th>2</th>\n",
       "      <td>2</td>\n",
       "      <td>2015-03-22 09:25:46</td>\n",
       "      <td>198</td>\n",
       "    </tr>\n",
       "    <tr>\n",
       "      <th>3</th>\n",
       "      <td>2</td>\n",
       "      <td>2015-03-22 09:25:46</td>\n",
       "      <td>88</td>\n",
       "    </tr>\n",
       "    <tr>\n",
       "      <th>4</th>\n",
       "      <td>2</td>\n",
       "      <td>2015-03-22 09:25:46</td>\n",
       "      <td>157</td>\n",
       "    </tr>\n",
       "  </tbody>\n",
       "</table>\n",
       "</div>"
      ],
      "text/plain": [
       "   user_id                time  cart\n",
       "0        2 2015-03-22 09:25:46   399\n",
       "1        2 2015-03-22 09:25:46    14\n",
       "2        2 2015-03-22 09:25:46   198\n",
       "3        2 2015-03-22 09:25:46    88\n",
       "4        2 2015-03-22 09:25:46   157"
      ]
     },
     "execution_count": 4,
     "metadata": {},
     "output_type": "execute_result"
    }
   ],
   "source": [
    "df.head()"
   ]
  },
  {
   "cell_type": "markdown",
   "id": "97976574-059f-4467-8bef-3b68d283ab72",
   "metadata": {},
   "source": [
    "Для пирменения алгоритма необходимо преобразовать корзины в кортежи"
   ]
  },
  {
   "cell_type": "code",
   "execution_count": 5,
   "id": "5497a3d5-6dc8-44ac-a844-9c1e26592608",
   "metadata": {
    "tags": []
   },
   "outputs": [
    {
     "data": {
      "application/vnd.jupyter.widget-view+json": {
       "model_id": "be1fd37758df452493b023bc457cdfc2",
       "version_major": 2,
       "version_minor": 0
      },
      "text/plain": [
       "  0%|          | 0/209406 [00:00<?, ?it/s]"
      ]
     },
     "metadata": {},
     "output_type": "display_data"
    }
   ],
   "source": [
    "carts = df.groupby([\"user_id\", \"time\"])[\"cart\"].progress_apply(lambda x: tuple(x)).tolist()"
   ]
  },
  {
   "cell_type": "markdown",
   "id": "1ba40bdc-d3b0-47a4-9a3d-a7a960bd65d3",
   "metadata": {},
   "source": [
    "Далее найдем закономерности (комплиментарные товары) в покупках"
   ]
  },
  {
   "cell_type": "markdown",
   "id": "0887b765-7129-4cbc-b322-17aba5a6b94c",
   "metadata": {},
   "source": [
    "## Поиск закономерностей"
   ]
  },
  {
   "cell_type": "code",
   "execution_count": 6,
   "id": "f50d7776-64b9-4d4b-b6c8-244088938931",
   "metadata": {
    "tags": []
   },
   "outputs": [],
   "source": [
    "itemsets, rules = apriori(carts, min_support=0.1,  min_confidence=0.5)"
   ]
  },
  {
   "cell_type": "code",
   "execution_count": 7,
   "id": "542b58fb-dd42-4218-87ca-0a82ef25507e",
   "metadata": {
    "tags": []
   },
   "outputs": [
    {
     "name": "stdout",
     "output_type": "stream",
     "text": [
      "{9} -> {57} (conf: 0.615, supp: 0.106, lift: 1.182, conv: 1.246)\n",
      "{16} -> {14} (conf: 0.640, supp: 0.119, lift: 1.426, conv: 1.531)\n",
      "{17} -> {14} (conf: 0.636, supp: 0.179, lift: 1.416, conv: 1.513)\n",
      "{19} -> {14} (conf: 0.609, supp: 0.132, lift: 1.358, conv: 1.412)\n",
      "{22} -> {14} (conf: 0.587, supp: 0.192, lift: 1.309, conv: 1.335)\n",
      "{23} -> {14} (conf: 0.550, supp: 0.189, lift: 1.226, conv: 1.226)\n",
      "{41} -> {14} (conf: 0.518, supp: 0.109, lift: 1.154, conv: 1.143)\n",
      "{57} -> {14} (conf: 0.516, supp: 0.268, lift: 1.151, conv: 1.140)\n",
      "{14} -> {57} (conf: 0.598, supp: 0.268, lift: 1.151, conv: 1.195)\n",
      "{61} -> {14} (conf: 0.526, supp: 0.230, lift: 1.171, conv: 1.162)\n",
      "{14} -> {61} (conf: 0.512, supp: 0.230, lift: 1.171, conv: 1.154)\n",
      "{84} -> {14} (conf: 0.538, supp: 0.176, lift: 1.199, conv: 1.193)\n",
      "{382} -> {14} (conf: 0.543, supp: 0.122, lift: 1.210, conv: 1.206)\n",
      "{383} -> {14} (conf: 0.545, supp: 0.127, lift: 1.215, conv: 1.212)\n",
      "{398} -> {14} (conf: 0.556, supp: 0.217, lift: 1.238, conv: 1.241)\n",
      "{402} -> {14} (conf: 0.550, supp: 0.131, lift: 1.227, conv: 1.226)\n",
      "{409} -> {14} (conf: 0.606, supp: 0.174, lift: 1.352, conv: 1.401)\n",
      "{420} -> {14} (conf: 0.510, supp: 0.117, lift: 1.136, conv: 1.125)\n",
      "{430} -> {14} (conf: 0.513, supp: 0.108, lift: 1.143, conv: 1.131)\n",
      "{16} -> {57} (conf: 0.633, supp: 0.117, lift: 1.218, conv: 1.309)\n",
      "{16} -> {61} (conf: 0.570, supp: 0.106, lift: 1.304, conv: 1.309)\n",
      "{17} -> {57} (conf: 0.660, supp: 0.185, lift: 1.269, conv: 1.411)\n",
      "{17} -> {61} (conf: 0.555, supp: 0.156, lift: 1.269, conv: 1.264)\n",
      "{17} -> {398} (conf: 0.521, supp: 0.146, lift: 1.335, conv: 1.273)\n",
      "{19} -> {57} (conf: 0.625, supp: 0.135, lift: 1.202, conv: 1.279)\n",
      "{19} -> {61} (conf: 0.525, supp: 0.113, lift: 1.201, conv: 1.185)\n",
      "{22} -> {57} (conf: 0.672, supp: 0.220, lift: 1.293, conv: 1.464)\n",
      "{22} -> {61} (conf: 0.549, supp: 0.179, lift: 1.255, conv: 1.247)\n",
      "{22} -> {398} (conf: 0.509, supp: 0.167, lift: 1.305, conv: 1.243)\n",
      "{23} -> {57} (conf: 0.630, supp: 0.216, lift: 1.212, conv: 1.297)\n",
      "{23} -> {61} (conf: 0.529, supp: 0.181, lift: 1.209, conv: 1.194)\n",
      "{23} -> {398} (conf: 0.510, supp: 0.175, lift: 1.308, conv: 1.246)\n",
      "{41} -> {57} (conf: 0.557, supp: 0.117, lift: 1.070, conv: 1.083)\n",
      "{41} -> {61} (conf: 0.504, supp: 0.106, lift: 1.152, conv: 1.134)\n",
      "{55} -> {57} (conf: 0.539, supp: 0.128, lift: 1.037, conv: 1.042)\n",
      "{61} -> {57} (conf: 0.711, supp: 0.311, lift: 1.367, conv: 1.660)\n",
      "{57} -> {61} (conf: 0.598, supp: 0.311, lift: 1.367, conv: 1.399)\n",
      "{84} -> {57} (conf: 0.671, supp: 0.220, lift: 1.291, conv: 1.459)\n",
      "{169} -> {57} (conf: 0.556, supp: 0.106, lift: 1.070, conv: 1.082)\n",
      "{382} -> {57} (conf: 0.618, supp: 0.138, lift: 1.189, conv: 1.257)\n",
      "{383} -> {57} (conf: 0.605, supp: 0.141, lift: 1.164, conv: 1.216)\n",
      "{398} -> {57} (conf: 0.646, supp: 0.252, lift: 1.242, conv: 1.356)\n",
      "{402} -> {57} (conf: 0.584, supp: 0.139, lift: 1.124, conv: 1.155)\n",
      "{409} -> {57} (conf: 0.627, supp: 0.180, lift: 1.207, conv: 1.289)\n",
      "{420} -> {57} (conf: 0.646, supp: 0.148, lift: 1.243, conv: 1.357)\n",
      "{425} -> {57} (conf: 0.573, supp: 0.107, lift: 1.103, conv: 1.125)\n",
      "{430} -> {57} (conf: 0.826, supp: 0.174, lift: 1.588, conv: 2.753)\n",
      "{84} -> {61} (conf: 0.535, supp: 0.176, lift: 1.224, conv: 1.211)\n",
      "{382} -> {61} (conf: 0.505, supp: 0.113, lift: 1.156, conv: 1.138)\n",
      "{398} -> {61} (conf: 0.551, supp: 0.215, lift: 1.261, conv: 1.254)\n",
      "{402} -> {61} (conf: 0.534, supp: 0.127, lift: 1.221, conv: 1.208)\n",
      "{409} -> {61} (conf: 0.563, supp: 0.161, lift: 1.289, conv: 1.289)\n",
      "{420} -> {61} (conf: 0.511, supp: 0.117, lift: 1.169, conv: 1.151)\n",
      "{430} -> {61} (conf: 0.626, supp: 0.132, lift: 1.432, conv: 1.504)\n",
      "{402} -> {398} (conf: 0.518, supp: 0.124, lift: 1.328, conv: 1.266)\n",
      "{409} -> {398} (conf: 0.500, supp: 0.143, lift: 1.282, conv: 1.220)\n",
      "{430} -> {398} (conf: 0.502, supp: 0.106, lift: 1.287, conv: 1.225)\n",
      "{17, 57} -> {14} (conf: 0.647, supp: 0.120, lift: 1.441, conv: 1.560)\n",
      "{14, 17} -> {57} (conf: 0.671, supp: 0.120, lift: 1.291, conv: 1.460)\n",
      "{17, 61} -> {14} (conf: 0.659, supp: 0.103, lift: 1.468, conv: 1.616)\n",
      "{14, 17} -> {61} (conf: 0.575, supp: 0.103, lift: 1.315, conv: 1.324)\n",
      "{22, 57} -> {14} (conf: 0.605, supp: 0.133, lift: 1.348, conv: 1.395)\n",
      "{14, 22} -> {57} (conf: 0.692, supp: 0.133, lift: 1.332, conv: 1.560)\n",
      "{22, 61} -> {14} (conf: 0.619, supp: 0.111, lift: 1.380, conv: 1.448)\n",
      "{14, 22} -> {61} (conf: 0.579, supp: 0.111, lift: 1.324, conv: 1.336)\n",
      "{22, 398} -> {14} (conf: 0.641, supp: 0.107, lift: 1.428, conv: 1.534)\n",
      "{14, 22} -> {398} (conf: 0.556, supp: 0.107, lift: 1.425, conv: 1.373)\n",
      "{23, 57} -> {14} (conf: 0.582, supp: 0.126, lift: 1.298, conv: 1.320)\n",
      "{14, 23} -> {57} (conf: 0.667, supp: 0.126, lift: 1.282, conv: 1.440)\n",
      "{23, 61} -> {14} (conf: 0.594, supp: 0.108, lift: 1.324, conv: 1.358)\n",
      "{14, 23} -> {61} (conf: 0.571, supp: 0.108, lift: 1.306, conv: 1.312)\n",
      "{23, 398} -> {14} (conf: 0.611, supp: 0.107, lift: 1.362, conv: 1.418)\n",
      "{14, 23} -> {398} (conf: 0.567, supp: 0.107, lift: 1.453, conv: 1.408)\n",
      "{57, 61} -> {14} (conf: 0.551, supp: 0.171, lift: 1.228, conv: 1.227)\n",
      "{14, 61} -> {57} (conf: 0.745, supp: 0.171, lift: 1.433, conv: 1.882)\n",
      "{14, 57} -> {61} (conf: 0.638, supp: 0.171, lift: 1.458, conv: 1.553)\n",
      "{57, 84} -> {14} (conf: 0.565, supp: 0.124, lift: 1.259, conv: 1.267)\n",
      "{14, 84} -> {57} (conf: 0.705, supp: 0.124, lift: 1.356, conv: 1.627)\n",
      "{57, 398} -> {14} (conf: 0.582, supp: 0.147, lift: 1.297, conv: 1.319)\n",
      "{14, 398} -> {57} (conf: 0.677, supp: 0.147, lift: 1.301, conv: 1.484)\n",
      "{14, 57} -> {398} (conf: 0.546, supp: 0.147, lift: 1.400, conv: 1.344)\n",
      "{57, 409} -> {14} (conf: 0.631, supp: 0.113, lift: 1.407, conv: 1.496)\n",
      "{14, 409} -> {57} (conf: 0.653, supp: 0.113, lift: 1.257, conv: 1.385)\n",
      "{61, 84} -> {14} (conf: 0.586, supp: 0.103, lift: 1.306, conv: 1.331)\n",
      "{14, 84} -> {61} (conf: 0.583, supp: 0.103, lift: 1.334, conv: 1.350)\n",
      "{61, 398} -> {14} (conf: 0.592, supp: 0.127, lift: 1.320, conv: 1.352)\n",
      "{14, 398} -> {61} (conf: 0.587, supp: 0.127, lift: 1.344, conv: 1.364)\n",
      "{14, 61} -> {398} (conf: 0.554, supp: 0.127, lift: 1.420, conv: 1.368)\n",
      "{61, 409} -> {14} (conf: 0.637, supp: 0.103, lift: 1.419, conv: 1.518)\n",
      "{14, 409} -> {61} (conf: 0.592, supp: 0.103, lift: 1.353, conv: 1.378)\n",
      "{17, 61} -> {57} (conf: 0.787, supp: 0.123, lift: 1.513, conv: 2.250)\n",
      "{17, 57} -> {61} (conf: 0.661, supp: 0.123, lift: 1.513, conv: 1.663)\n",
      "{17, 398} -> {57} (conf: 0.718, supp: 0.105, lift: 1.381, conv: 1.704)\n",
      "{17, 57} -> {398} (conf: 0.567, supp: 0.105, lift: 1.453, conv: 1.408)\n",
      "{23, 57} -> {22} (conf: 0.500, supp: 0.108, lift: 1.529, conv: 1.346)\n",
      "{22, 23} -> {57} (conf: 0.722, supp: 0.108, lift: 1.388, conv: 1.726)\n",
      "{22, 61} -> {57} (conf: 0.791, supp: 0.142, lift: 1.521, conv: 2.293)\n",
      "{22, 57} -> {61} (conf: 0.646, supp: 0.142, lift: 1.477, conv: 1.588)\n",
      "{57, 84} -> {22} (conf: 0.501, supp: 0.110, lift: 1.531, conv: 1.348)\n",
      "{22, 84} -> {57} (conf: 0.751, supp: 0.110, lift: 1.444, conv: 1.926)\n",
      "{22, 57} -> {84} (conf: 0.502, supp: 0.110, lift: 1.529, conv: 1.348)\n",
      "{22, 398} -> {57} (conf: 0.731, supp: 0.122, lift: 1.405, conv: 1.782)\n",
      "{22, 57} -> {398} (conf: 0.554, supp: 0.122, lift: 1.419, conv: 1.366)\n",
      "{22, 398} -> {61} (conf: 0.613, supp: 0.102, lift: 1.401, conv: 1.453)\n",
      "{22, 61} -> {398} (conf: 0.568, supp: 0.102, lift: 1.457, conv: 1.413)\n",
      "{23, 61} -> {57} (conf: 0.769, supp: 0.139, lift: 1.478, conv: 2.076)\n",
      "{23, 57} -> {61} (conf: 0.645, supp: 0.139, lift: 1.476, conv: 1.586)\n",
      "{23, 84} -> {57} (conf: 0.723, supp: 0.105, lift: 1.390, conv: 1.733)\n",
      "{23, 398} -> {57} (conf: 0.695, supp: 0.122, lift: 1.337, conv: 1.576)\n",
      "{23, 57} -> {398} (conf: 0.563, supp: 0.122, lift: 1.444, conv: 1.397)\n",
      "{23, 398} -> {61} (conf: 0.595, supp: 0.104, lift: 1.361, conv: 1.389)\n",
      "{23, 61} -> {398} (conf: 0.574, supp: 0.104, lift: 1.472, conv: 1.433)\n",
      "{61, 84} -> {57} (conf: 0.794, supp: 0.140, lift: 1.528, conv: 2.334)\n",
      "{57, 84} -> {61} (conf: 0.634, supp: 0.140, lift: 1.450, conv: 1.536)\n",
      "{61, 398} -> {57} (conf: 0.758, supp: 0.163, lift: 1.457, conv: 1.980)\n",
      "{57, 398} -> {61} (conf: 0.646, supp: 0.163, lift: 1.479, conv: 1.592)\n",
      "{57, 61} -> {398} (conf: 0.524, supp: 0.163, lift: 1.344, conv: 1.282)\n",
      "{61, 409} -> {57} (conf: 0.759, supp: 0.122, lift: 1.459, conv: 1.989)\n",
      "{57, 409} -> {61} (conf: 0.681, supp: 0.122, lift: 1.558, conv: 1.765)\n",
      "{61, 430} -> {57} (conf: 0.881, supp: 0.117, lift: 1.695, conv: 4.039)\n",
      "{57, 430} -> {61} (conf: 0.668, supp: 0.117, lift: 1.528, conv: 1.695)\n",
      "{430} -> {57, 61} (conf: 0.551, supp: 0.117, lift: 1.775, conv: 1.537)\n",
      "{84, 398} -> {57} (conf: 0.735, supp: 0.116, lift: 1.413, conv: 1.810)\n",
      "{57, 84} -> {398} (conf: 0.527, supp: 0.116, lift: 1.351, conv: 1.290)\n"
     ]
    }
   ],
   "source": [
    "arr_first = []\n",
    "arr_second = []\n",
    "arr_conf = []\n",
    "arr_supp = []\n",
    "arr_lift = []\n",
    "\n",
    "for rule in rules:\n",
    "    arr_first.append(list(rule.lhs))\n",
    "    arr_second.append(list(rule.rhs))\n",
    "    arr_conf.append(rule.confidence)\n",
    "    arr_supp.append(rule.support)\n",
    "    arr_lift.append(rule.lift)\n",
    "    print(rule)"
   ]
  },
  {
   "cell_type": "markdown",
   "id": "a469dc61-4065-4e8a-b637-59c2d55856fc",
   "metadata": {},
   "source": [
    "В выведенных закономерностях мы видим конкретные товары, являющиеся предпосылками и следствиями, а также вспомогательную информацию, которая позволяет оценить \"уверенность\" в правиле.  \n",
    "Например, `supp` (_support_) - доля покупок, где эти товары были вместе, а `conf (x -> y)` (_confidence_) - вероятность покупки товара `y`, при покупке товара `x`"
   ]
  },
  {
   "cell_type": "code",
   "execution_count": 8,
   "id": "eeeff7e9-3f56-4ffb-a3b0-314a785aed66",
   "metadata": {},
   "outputs": [
    {
     "data": {
      "text/plain": [
       "[[9], [16], [17]]"
      ]
     },
     "execution_count": 8,
     "metadata": {},
     "output_type": "execute_result"
    }
   ],
   "source": [
    "arr_first[:3]"
   ]
  },
  {
   "cell_type": "markdown",
   "id": "03d30a3d-aa67-4262-9262-f22b023927d0",
   "metadata": {},
   "source": [
    "## Выгрузка результатов"
   ]
  },
  {
   "cell_type": "markdown",
   "id": "7f077019-6de8-4326-880b-475c85f7f4ba",
   "metadata": {},
   "source": [
    "Реструктурируем данные в удобный формат и сохраним основные наблюдения"
   ]
  },
  {
   "cell_type": "code",
   "execution_count": 9,
   "id": "de906b70-1def-4a82-b9e9-db489df16ff9",
   "metadata": {},
   "outputs": [],
   "source": [
    "ap = pd.DataFrame()\n",
    "ap[\"from\"] = arr_first\n",
    "ap[\"to\"] = arr_second\n",
    "ap[\"conf\"] = arr_conf\n",
    "ap[\"supp\"] = arr_supp\n",
    "ap[\"lift\"] = arr_lift"
   ]
  },
  {
   "cell_type": "code",
   "execution_count": 10,
   "id": "bef767fb-c9a1-4a36-831e-092c896a9f26",
   "metadata": {},
   "outputs": [],
   "source": [
    "ap = ap.sort_values([\"supp\",\"conf\"], ascending=False).head(20)"
   ]
  },
  {
   "cell_type": "code",
   "execution_count": 11,
   "id": "39858bc1-d044-4fd9-a207-8edd1c816453",
   "metadata": {},
   "outputs": [],
   "source": [
    "ap[\"from\"] = ap[\"from\"].apply(lambda x: x[0])\n",
    "ap[\"to\"] = ap[\"to\"].apply(lambda x: x[0])"
   ]
  },
  {
   "cell_type": "code",
   "execution_count": 12,
   "id": "bfdb991b-f46b-40b8-bc79-5eb2b91a9d84",
   "metadata": {},
   "outputs": [
    {
     "data": {
      "text/html": [
       "<div>\n",
       "<style scoped>\n",
       "    .dataframe tbody tr th:only-of-type {\n",
       "        vertical-align: middle;\n",
       "    }\n",
       "\n",
       "    .dataframe tbody tr th {\n",
       "        vertical-align: top;\n",
       "    }\n",
       "\n",
       "    .dataframe thead th {\n",
       "        text-align: right;\n",
       "    }\n",
       "</style>\n",
       "<table border=\"1\" class=\"dataframe\">\n",
       "  <thead>\n",
       "    <tr style=\"text-align: right;\">\n",
       "      <th></th>\n",
       "      <th>from</th>\n",
       "      <th>to</th>\n",
       "      <th>conf</th>\n",
       "      <th>supp</th>\n",
       "      <th>lift</th>\n",
       "    </tr>\n",
       "  </thead>\n",
       "  <tbody>\n",
       "    <tr>\n",
       "      <th>35</th>\n",
       "      <td>61</td>\n",
       "      <td>57</td>\n",
       "      <td>0.710759</td>\n",
       "      <td>0.310712</td>\n",
       "      <td>1.367021</td>\n",
       "    </tr>\n",
       "    <tr>\n",
       "      <th>36</th>\n",
       "      <td>57</td>\n",
       "      <td>61</td>\n",
       "      <td>0.597601</td>\n",
       "      <td>0.310712</td>\n",
       "      <td>1.367021</td>\n",
       "    </tr>\n",
       "    <tr>\n",
       "      <th>8</th>\n",
       "      <td>14</td>\n",
       "      <td>57</td>\n",
       "      <td>0.598316</td>\n",
       "      <td>0.268455</td>\n",
       "      <td>1.150757</td>\n",
       "    </tr>\n",
       "    <tr>\n",
       "      <th>7</th>\n",
       "      <td>57</td>\n",
       "      <td>14</td>\n",
       "      <td>0.516326</td>\n",
       "      <td>0.268455</td>\n",
       "      <td>1.150757</td>\n",
       "    </tr>\n",
       "    <tr>\n",
       "      <th>41</th>\n",
       "      <td>398</td>\n",
       "      <td>57</td>\n",
       "      <td>0.645935</td>\n",
       "      <td>0.251994</td>\n",
       "      <td>1.242343</td>\n",
       "    </tr>\n",
       "  </tbody>\n",
       "</table>\n",
       "</div>"
      ],
      "text/plain": [
       "    from  to      conf      supp      lift\n",
       "35    61  57  0.710759  0.310712  1.367021\n",
       "36    57  61  0.597601  0.310712  1.367021\n",
       "8     14  57  0.598316  0.268455  1.150757\n",
       "7     57  14  0.516326  0.268455  1.150757\n",
       "41   398  57  0.645935  0.251994  1.242343"
      ]
     },
     "execution_count": 12,
     "metadata": {},
     "output_type": "execute_result"
    }
   ],
   "source": [
    "ap.head()"
   ]
  },
  {
   "cell_type": "code",
   "execution_count": 13,
   "id": "6743f477-f2dd-493c-b174-e7404c5c3520",
   "metadata": {
    "tags": []
   },
   "outputs": [],
   "source": [
    "ap.to_csv(\"data/apriori_top_20.csv\", index=False)"
   ]
  }
 ],
 "metadata": {
  "kernelspec": {
   "display_name": "Python 3 (ipykernel)",
   "language": "python",
   "name": "python3"
  },
  "language_info": {
   "codemirror_mode": {
    "name": "ipython",
    "version": 3
   },
   "file_extension": ".py",
   "mimetype": "text/x-python",
   "name": "python",
   "nbconvert_exporter": "python",
   "pygments_lexer": "ipython3",
   "version": "3.8.10"
  }
 },
 "nbformat": 4,
 "nbformat_minor": 5
}
