{
 "cells": [
  {
   "cell_type": "markdown",
   "id": "e845f5b6",
   "metadata": {},
   "source": [
    "# ML Solution\n",
    "В этом ноутбуке рассматривается обычный ML подход, при котором мы предсказываем будет ли товар добавлен в следующую покупку пользователя. Суть решения в том, чтобы собрать статистики по пользователю и по предмету и к каждой комбинации этих статистик предсказывать 0 или 1.  \n",
    "Основная библиотека - CatBoost - градиентный бустинг над решающими деревьями.  \n",
    "Также к рекомендациям добавлялись результаты от TIFU KNN, что дало хороший прирост +0.08 к метрике и итоговый результат результат около 0.40, как в случае и с TIFU KNN.\n",
    "\n",
    "! Ноутбук можно запускать в режиме \"Run all\""
   ]
  },
  {
   "cell_type": "markdown",
   "id": "8a031e9f-9b62-46e4-97c7-76f317edbf62",
   "metadata": {},
   "source": [
    "## Загрузка библиотек"
   ]
  },
  {
   "cell_type": "code",
   "execution_count": 1,
   "id": "b4ee3132",
   "metadata": {
    "tags": []
   },
   "outputs": [],
   "source": [
    "import pandas as pd\n",
    "import numpy as np\n",
    "from catboost import CatBoostClassifier\n",
    "from sklearn.model_selection import train_test_split\n",
    "from tqdm.auto import tqdm\n",
    "tqdm.pandas()"
   ]
  },
  {
   "cell_type": "markdown",
   "id": "a66c2a80-3fca-4028-a638-6fb5dfb20ce6",
   "metadata": {
    "tags": []
   },
   "source": [
    "## Подготовка данных"
   ]
  },
  {
   "cell_type": "code",
   "execution_count": 2,
   "id": "13f0deef",
   "metadata": {},
   "outputs": [],
   "source": [
    "df = pd.read_csv(\"data/main.csv\")"
   ]
  },
  {
   "cell_type": "code",
   "execution_count": 3,
   "id": "8f1a9239",
   "metadata": {},
   "outputs": [],
   "source": [
    "df.rename(columns={\"order_completed_at\":\"time\"}, inplace=True) # переименуем колонку для удобства\n",
    "df[\"time\"] = pd.to_datetime(df[\"time\"], format=\"%Y-%m-%d %H:%M:%S\") # изменим тип колонки для дальнейшей работы"
   ]
  },
  {
   "cell_type": "code",
   "execution_count": 4,
   "id": "9ee3601b",
   "metadata": {
    "tags": []
   },
   "outputs": [],
   "source": [
    "# Заменяет повторяющиеся товары в корзине на одну запись с указанием количества\n",
    "def duplicates_to_count(t):\n",
    "    return (\n",
    "        t.groupby(['user_id', 'time'])['cart']\n",
    "            .value_counts()\n",
    "            .to_frame()\n",
    "            .rename(columns={\"cart\":\"count\"})\n",
    "            .reset_index()\n",
    "    )\n",
    "\n",
    "# Производит обратную операцию\n",
    "def count_to_duplicates(t): \n",
    "    g = t.copy()\n",
    "    g[\"to_explode\"] = g[\"count\"].apply(lambda x: [i for i in range(x)])\n",
    "    g = g.explode(\"to_explode\").drop(columns=[\"count\", \"to_explode\"])\n",
    "    return g\n",
    "\n",
    "# Создает все комбинации user_id (пользователя) и cart (товара), которые пользователь когда-либо покупал\n",
    "def make_skeleton(t):\n",
    "    return t.groupby(\"user_id\")[\"cart\"].unique().to_frame().reset_index().explode(\"cart\")\n",
    "\n",
    "# Создает train датасет и ответы для него\n",
    "# Ответы формируются на основе последней корзины каждого пользователя\n",
    "# lvevel=1 означает, что для формирования ответов берётся последняя покупка, level=2 - предпоследняя и так далее \n",
    "def make_train_targets(t, level=1): \n",
    "    user_last_time = t.groupby([\"user_id\"])[\"time\"].max().to_frame().reset_index()\n",
    "    user_last_time[\"last_buy\"] = 1\n",
    "    \n",
    "    train = pd.merge(t, user_last_time, on=[\"time\", \"user_id\"], how=\"left\")\n",
    "    train = train[train[\"last_buy\"] != 1]\n",
    "    train.drop(columns=[\"last_buy\"], inplace=True)\n",
    "    \n",
    "    if level >= 2:\n",
    "        return make_train_targets(train, level-1)\n",
    "    \n",
    "    user_last_time.drop(columns=[\"last_buy\"], inplace=True)\n",
    "    \n",
    "    user_last_carts = pd.merge(user_last_time, t, on=[\"user_id\", \"time\"], how=\"left\")\n",
    "    \n",
    "    skeleton = make_skeleton(t)\n",
    "    targets = pd.merge(skeleton, user_last_carts.drop(columns=[\"time\"]), on=[\"user_id\",\"cart\"], how=\"left\")\n",
    "    targets.fillna(0, inplace=True)\n",
    "    targets[\"count\"] = targets[\"count\"].apply(lambda x: x if x <= 1 else 1).astype(int)\n",
    "    targets.rename(columns={\"count\":\"target\"}, inplace=True)\n",
    "    return train, targets"
   ]
  },
  {
   "cell_type": "code",
   "execution_count": 5,
   "id": "f11e3430-6d1d-4ab0-9a22-b0a5a438a996",
   "metadata": {
    "tags": []
   },
   "outputs": [],
   "source": [
    "df = duplicates_to_count(df)\n",
    "train_1, targets_1 = make_train_targets(df, level=1)"
   ]
  },
  {
   "cell_type": "markdown",
   "id": "e8d57d75-fc5d-49cb-bfd5-ab71f4227f7a",
   "metadata": {},
   "source": [
    "## Генерация признаков"
   ]
  },
  {
   "cell_type": "code",
   "execution_count": 6,
   "id": "caea32cf",
   "metadata": {
    "tags": []
   },
   "outputs": [],
   "source": [
    "# Топ категорий пользователя\n",
    "def user_top_k_carts(t, k):\n",
    "    g = count_to_duplicates(t).groupby(\"user_id\")[\"cart\"].value_counts().to_frame().rename(columns={\"cart\":\"count\"})\\\n",
    "        .groupby(\"user_id\")[\"count\"].head(k).to_frame().reset_index().drop(columns=[\"count\"])\\\n",
    "        .groupby(\"user_id\")[\"cart\"].agg([lambda x: x.tolist()]).rename(columns={\"<lambda>\":\"user_top_\"+str(k)+\"_carts\"}).reset_index()\n",
    "    for i in tqdm(range(k)):\n",
    "        g[\"user_top_\"+str(i+1)+\"_cart\"] = g[\"user_top_\"+str(k)+\"_carts\"].apply(lambda x: x[i] if len(x) > i else -1)\n",
    "    return g.drop(columns=[\"user_top_\"+str(k)+\"_carts\"]) \n",
    "\n",
    "# Кол-во заказов пользователя\n",
    "def user_orders_count(t):\n",
    "    return t.groupby([\"user_id\"])[\"time\"].nunique().to_frame().reset_index().rename(columns={\"time\":\"orders_count\"})\n",
    "\n",
    "# Кол-во вещей пользователя по всем заказам\n",
    "def user_items_count(t):\n",
    "    return t.groupby(\"user_id\")[\"count\"].sum().to_frame().reset_index().rename(columns={\"count\":\"items_count\"})\n",
    "\n",
    "# Таблица как в TIFU KNN, сильно грузит память (около 30GB RAM), но прироста большого не дает\n",
    "def user_pivot_table(t):\n",
    "    g = pd.pivot_table(t, columns=\"cart\", index=\"user_id\", values=\"count\", aggfunc=np.sum, fill_value=0)\n",
    "    for cart in list(set(df[\"cart\"].unique()).difference(set(t[\"cart\"].unique()))):\n",
    "        g[cart] = 0\n",
    "    return g\n",
    "\n",
    "# Количество уникальных категорий, в которых покупал пользователь\n",
    "def user_carts_count(t):\n",
    "    return t.groupby(\"user_id\")[\"cart\"].nunique().to_frame().reset_index().rename(columns={\"cart\":\"carts_count\"})\n",
    "\n",
    "# Кол-во заказов каждой категории\n",
    "def cart_orders_count(t):\n",
    "    return t.groupby(\"cart\")[\"count\"].agg([\"sum\"]).reset_index().rename(columns={\"sum\":\"cart_orders_count\"})\n",
    "\n",
    "# Кол-во пользователей, которые заказали товар из категории\n",
    "def cart_unique_users_count(t):\n",
    "    return t.groupby(\"cart\")[\"user_id\"].nunique().to_frame().reset_index().rename(columns={\"user_id\":\"cart_unique_users_count\"})\n",
    "\n",
    "# Среднее, мин., макс. и медиана количества товаров каждой категории в корзине (бесполезная)\n",
    "def cart_mean_count(t):\n",
    "    return t.groupby(\"cart\")[\"count\"].agg([(\"cart_mean_count\",\"mean\"),\n",
    "                                           (\"cart_min_count\", \"min\"),\n",
    "                                           (\"cart_max_count\", \"max\"),\n",
    "                                           (\"cart_median_count\", \"median\")]).reset_index()\n",
    "\n",
    "# Среднее, мин., макс. и медиана размера корзины пользователя за все заказы\n",
    "def user_mean_cart_in_order_count(t):\n",
    "    return t.groupby([\"user_id\",\"time\"])[\"count\"].sum().to_frame() \\\n",
    "                                                 .groupby([\"user_id\"]) \\\n",
    "                                                 .agg(user_mean_cart_in_order_count = ('count', 'mean'),\n",
    "                                                      user_min_cart_in_order_count = ('count', 'min'),\n",
    "                                                      user_max_cart_in_order_count = ('count', 'max'),\n",
    "                                                      user_median_cart_in_order_count = ('count', 'median')).reset_index()\n",
    "# Сбор признаков для всего датасета\n",
    "def make(df, skeleton):\n",
    "    main = skeleton.copy()\n",
    "    \n",
    "    main = pd.merge(main, user_orders_count(df), on=\"user_id\", how=\"left\")\n",
    "    main.fillna(0, inplace=True)\n",
    "    main[\"orders_count\"] = main[\"orders_count\"].astype(int)\n",
    "    \n",
    "    main = pd.merge(main, user_items_count(df), on=\"user_id\", how=\"left\")\n",
    "    main.fillna(0, inplace=True)\n",
    "    main[\"items_count\"] = main[\"items_count\"].astype(int)\n",
    "    \n",
    "    main = pd.merge(main, user_carts_count(df), on=\"user_id\", how=\"left\")\n",
    "    main.fillna(0, inplace=True)\n",
    "    main[\"carts_count\"] = main[\"carts_count\"].astype(int)\n",
    "    \n",
    "    main = pd.merge(main, cart_orders_count(df), on=\"cart\", how=\"left\")\n",
    "    main.fillna(0, inplace=True)\n",
    "    main[\"cart_orders_count\"] = main[\"cart_orders_count\"].astype(int)\n",
    "    \n",
    "    main = pd.merge(main, cart_unique_users_count(df), on=\"cart\", how=\"left\")\n",
    "    main.fillna(0, inplace=True)\n",
    "    main[\"cart_unique_users_count\"] = main[\"cart_unique_users_count\"].astype(int)\n",
    "    \n",
    "    main = pd.merge(main, user_mean_cart_in_order_count(df), on=\"user_id\", how=\"left\")\n",
    "    main.fillna(0, inplace=True)\n",
    "    \n",
    "    main = pd.merge(main, cart_mean_count(df), on=\"cart\", how=\"left\")\n",
    "    main.fillna(0, inplace=True)\n",
    "    \n",
    "    top_k = 5\n",
    "    main = pd.merge(main, user_top_k_carts(df, top_k), on=\"user_id\", how=\"left\")\n",
    "    main.fillna(-1, inplace=True)\n",
    "    for i in range(top_k):\n",
    "        main[\"user_top_\"+str(i+1)+\"_cart\"] = main[\"user_top_\"+str(i+1)+\"_cart\"].astype(int)\n",
    "    \n",
    "\n",
    "    return main"
   ]
  },
  {
   "cell_type": "markdown",
   "id": "35f1f7ec-1399-43cc-a60c-111467c34a9f",
   "metadata": {},
   "source": [
    "## Сбор датасета"
   ]
  },
  {
   "cell_type": "markdown",
   "id": "75522a06-ad51-4619-9fba-8bbec2a03357",
   "metadata": {},
   "source": [
    "Собираем датасет с признаками "
   ]
  },
  {
   "cell_type": "code",
   "execution_count": 7,
   "id": "72716b27",
   "metadata": {
    "tags": []
   },
   "outputs": [
    {
     "data": {
      "application/vnd.jupyter.widget-view+json": {
       "model_id": "39e1d543120549fc8c5bc5568bf3eb81",
       "version_major": 2,
       "version_minor": 0
      },
      "text/plain": [
       "  0%|          | 0/5 [00:00<?, ?it/s]"
      ]
     },
     "metadata": {},
     "output_type": "display_data"
    },
    {
     "data": {
      "text/html": [
       "<div>\n",
       "<style scoped>\n",
       "    .dataframe tbody tr th:only-of-type {\n",
       "        vertical-align: middle;\n",
       "    }\n",
       "\n",
       "    .dataframe tbody tr th {\n",
       "        vertical-align: top;\n",
       "    }\n",
       "\n",
       "    .dataframe thead th {\n",
       "        text-align: right;\n",
       "    }\n",
       "</style>\n",
       "<table border=\"1\" class=\"dataframe\">\n",
       "  <thead>\n",
       "    <tr style=\"text-align: right;\">\n",
       "      <th></th>\n",
       "      <th>user_id</th>\n",
       "      <th>cart</th>\n",
       "      <th>target</th>\n",
       "      <th>orders_count</th>\n",
       "      <th>items_count</th>\n",
       "      <th>carts_count</th>\n",
       "      <th>cart_orders_count</th>\n",
       "      <th>cart_unique_users_count</th>\n",
       "      <th>user_mean_cart_in_order_count</th>\n",
       "      <th>user_min_cart_in_order_count</th>\n",
       "      <th>...</th>\n",
       "      <th>user_median_cart_in_order_count</th>\n",
       "      <th>cart_mean_count</th>\n",
       "      <th>cart_min_count</th>\n",
       "      <th>cart_max_count</th>\n",
       "      <th>cart_median_count</th>\n",
       "      <th>user_top_1_cart</th>\n",
       "      <th>user_top_2_cart</th>\n",
       "      <th>user_top_3_cart</th>\n",
       "      <th>user_top_4_cart</th>\n",
       "      <th>user_top_5_cart</th>\n",
       "    </tr>\n",
       "  </thead>\n",
       "  <tbody>\n",
       "    <tr>\n",
       "      <th>0</th>\n",
       "      <td>0</td>\n",
       "      <td>14</td>\n",
       "      <td>0</td>\n",
       "      <td>2</td>\n",
       "      <td>33</td>\n",
       "      <td>27</td>\n",
       "      <td>85164</td>\n",
       "      <td>15273</td>\n",
       "      <td>16.5</td>\n",
       "      <td>8</td>\n",
       "      <td>...</td>\n",
       "      <td>16.5</td>\n",
       "      <td>1.0</td>\n",
       "      <td>1.0</td>\n",
       "      <td>1.0</td>\n",
       "      <td>1.0</td>\n",
       "      <td>14</td>\n",
       "      <td>57</td>\n",
       "      <td>82</td>\n",
       "      <td>379</td>\n",
       "      <td>405</td>\n",
       "    </tr>\n",
       "    <tr>\n",
       "      <th>1</th>\n",
       "      <td>0</td>\n",
       "      <td>20</td>\n",
       "      <td>0</td>\n",
       "      <td>2</td>\n",
       "      <td>33</td>\n",
       "      <td>27</td>\n",
       "      <td>13664</td>\n",
       "      <td>5906</td>\n",
       "      <td>16.5</td>\n",
       "      <td>8</td>\n",
       "      <td>...</td>\n",
       "      <td>16.5</td>\n",
       "      <td>1.0</td>\n",
       "      <td>1.0</td>\n",
       "      <td>1.0</td>\n",
       "      <td>1.0</td>\n",
       "      <td>14</td>\n",
       "      <td>57</td>\n",
       "      <td>82</td>\n",
       "      <td>379</td>\n",
       "      <td>405</td>\n",
       "    </tr>\n",
       "    <tr>\n",
       "      <th>2</th>\n",
       "      <td>0</td>\n",
       "      <td>57</td>\n",
       "      <td>1</td>\n",
       "      <td>2</td>\n",
       "      <td>33</td>\n",
       "      <td>27</td>\n",
       "      <td>98788</td>\n",
       "      <td>16336</td>\n",
       "      <td>16.5</td>\n",
       "      <td>8</td>\n",
       "      <td>...</td>\n",
       "      <td>16.5</td>\n",
       "      <td>1.0</td>\n",
       "      <td>1.0</td>\n",
       "      <td>1.0</td>\n",
       "      <td>1.0</td>\n",
       "      <td>14</td>\n",
       "      <td>57</td>\n",
       "      <td>82</td>\n",
       "      <td>379</td>\n",
       "      <td>405</td>\n",
       "    </tr>\n",
       "    <tr>\n",
       "      <th>3</th>\n",
       "      <td>0</td>\n",
       "      <td>82</td>\n",
       "      <td>0</td>\n",
       "      <td>2</td>\n",
       "      <td>33</td>\n",
       "      <td>27</td>\n",
       "      <td>24980</td>\n",
       "      <td>7493</td>\n",
       "      <td>16.5</td>\n",
       "      <td>8</td>\n",
       "      <td>...</td>\n",
       "      <td>16.5</td>\n",
       "      <td>1.0</td>\n",
       "      <td>1.0</td>\n",
       "      <td>1.0</td>\n",
       "      <td>1.0</td>\n",
       "      <td>14</td>\n",
       "      <td>57</td>\n",
       "      <td>82</td>\n",
       "      <td>379</td>\n",
       "      <td>405</td>\n",
       "    </tr>\n",
       "    <tr>\n",
       "      <th>4</th>\n",
       "      <td>0</td>\n",
       "      <td>379</td>\n",
       "      <td>0</td>\n",
       "      <td>2</td>\n",
       "      <td>33</td>\n",
       "      <td>27</td>\n",
       "      <td>19764</td>\n",
       "      <td>8470</td>\n",
       "      <td>16.5</td>\n",
       "      <td>8</td>\n",
       "      <td>...</td>\n",
       "      <td>16.5</td>\n",
       "      <td>1.0</td>\n",
       "      <td>1.0</td>\n",
       "      <td>1.0</td>\n",
       "      <td>1.0</td>\n",
       "      <td>14</td>\n",
       "      <td>57</td>\n",
       "      <td>82</td>\n",
       "      <td>379</td>\n",
       "      <td>405</td>\n",
       "    </tr>\n",
       "  </tbody>\n",
       "</table>\n",
       "<p>5 rows × 21 columns</p>\n",
       "</div>"
      ],
      "text/plain": [
       "   user_id  cart  target  orders_count  items_count  carts_count  \\\n",
       "0        0    14       0             2           33           27   \n",
       "1        0    20       0             2           33           27   \n",
       "2        0    57       1             2           33           27   \n",
       "3        0    82       0             2           33           27   \n",
       "4        0   379       0             2           33           27   \n",
       "\n",
       "   cart_orders_count  cart_unique_users_count  user_mean_cart_in_order_count  \\\n",
       "0              85164                    15273                           16.5   \n",
       "1              13664                     5906                           16.5   \n",
       "2              98788                    16336                           16.5   \n",
       "3              24980                     7493                           16.5   \n",
       "4              19764                     8470                           16.5   \n",
       "\n",
       "   user_min_cart_in_order_count  ...  user_median_cart_in_order_count  \\\n",
       "0                             8  ...                             16.5   \n",
       "1                             8  ...                             16.5   \n",
       "2                             8  ...                             16.5   \n",
       "3                             8  ...                             16.5   \n",
       "4                             8  ...                             16.5   \n",
       "\n",
       "   cart_mean_count  cart_min_count  cart_max_count  cart_median_count  \\\n",
       "0              1.0             1.0             1.0                1.0   \n",
       "1              1.0             1.0             1.0                1.0   \n",
       "2              1.0             1.0             1.0                1.0   \n",
       "3              1.0             1.0             1.0                1.0   \n",
       "4              1.0             1.0             1.0                1.0   \n",
       "\n",
       "   user_top_1_cart  user_top_2_cart  user_top_3_cart  user_top_4_cart  \\\n",
       "0               14               57               82              379   \n",
       "1               14               57               82              379   \n",
       "2               14               57               82              379   \n",
       "3               14               57               82              379   \n",
       "4               14               57               82              379   \n",
       "\n",
       "   user_top_5_cart  \n",
       "0              405  \n",
       "1              405  \n",
       "2              405  \n",
       "3              405  \n",
       "4              405  \n",
       "\n",
       "[5 rows x 21 columns]"
      ]
     },
     "execution_count": 7,
     "metadata": {},
     "output_type": "execute_result"
    }
   ],
   "source": [
    "main_1 = make(train_1, targets_1)\n",
    "\n",
    "main_1.head()"
   ]
  },
  {
   "cell_type": "markdown",
   "id": "e349d92a-310f-45df-b18a-4dfb4affddb7",
   "metadata": {},
   "source": [
    "Загружаем рекомендации, полученные алгоритмом TIFU KNN (см. `3. TIFU KNN.ipynb`)"
   ]
  },
  {
   "cell_type": "code",
   "execution_count": 8,
   "id": "c077f6f6",
   "metadata": {
    "tags": []
   },
   "outputs": [],
   "source": [
    "recs_1 = pd.read_csv(\"data/train_lvl_1_recs.csv\")"
   ]
  },
  {
   "cell_type": "code",
   "execution_count": 9,
   "id": "a24863f7",
   "metadata": {
    "tags": []
   },
   "outputs": [
    {
     "data": {
      "text/html": [
       "<div>\n",
       "<style scoped>\n",
       "    .dataframe tbody tr th:only-of-type {\n",
       "        vertical-align: middle;\n",
       "    }\n",
       "\n",
       "    .dataframe tbody tr th {\n",
       "        vertical-align: top;\n",
       "    }\n",
       "\n",
       "    .dataframe thead th {\n",
       "        text-align: right;\n",
       "    }\n",
       "</style>\n",
       "<table border=\"1\" class=\"dataframe\">\n",
       "  <thead>\n",
       "    <tr style=\"text-align: right;\">\n",
       "      <th></th>\n",
       "      <th>user_id</th>\n",
       "      <th>items</th>\n",
       "      <th>0</th>\n",
       "      <th>1</th>\n",
       "      <th>2</th>\n",
       "      <th>3</th>\n",
       "      <th>4</th>\n",
       "      <th>5</th>\n",
       "      <th>6</th>\n",
       "      <th>7</th>\n",
       "      <th>8</th>\n",
       "      <th>9</th>\n",
       "      <th>10</th>\n",
       "      <th>11</th>\n",
       "      <th>12</th>\n",
       "      <th>13</th>\n",
       "      <th>14</th>\n",
       "      <th>15</th>\n",
       "      <th>16</th>\n",
       "      <th>17</th>\n",
       "    </tr>\n",
       "  </thead>\n",
       "  <tbody>\n",
       "    <tr>\n",
       "      <th>0</th>\n",
       "      <td>0</td>\n",
       "      <td>[57, 14, 84, 22, 82, 383, 409, 432, 379, 382, ...</td>\n",
       "      <td>57</td>\n",
       "      <td>14</td>\n",
       "      <td>84</td>\n",
       "      <td>22</td>\n",
       "      <td>82</td>\n",
       "      <td>383</td>\n",
       "      <td>409</td>\n",
       "      <td>432</td>\n",
       "      <td>379</td>\n",
       "      <td>382</td>\n",
       "      <td>61</td>\n",
       "      <td>5</td>\n",
       "      <td>430</td>\n",
       "      <td>23</td>\n",
       "      <td>41</td>\n",
       "      <td>398</td>\n",
       "      <td>441</td>\n",
       "      <td>402</td>\n",
       "    </tr>\n",
       "    <tr>\n",
       "      <th>1</th>\n",
       "      <td>1</td>\n",
       "      <td>[55, 798, 169, 812, 171, 14, 170, 88, 198, 441...</td>\n",
       "      <td>55</td>\n",
       "      <td>798</td>\n",
       "      <td>169</td>\n",
       "      <td>812</td>\n",
       "      <td>171</td>\n",
       "      <td>14</td>\n",
       "      <td>170</td>\n",
       "      <td>88</td>\n",
       "      <td>198</td>\n",
       "      <td>441</td>\n",
       "      <td>104</td>\n",
       "      <td>806</td>\n",
       "      <td>57</td>\n",
       "      <td>61</td>\n",
       "      <td>172</td>\n",
       "      <td>808</td>\n",
       "      <td>304</td>\n",
       "      <td>63</td>\n",
       "    </tr>\n",
       "    <tr>\n",
       "      <th>2</th>\n",
       "      <td>2</td>\n",
       "      <td>[57, 61, 23, 382, 82, 84, 403, 398, 22, 17, 38...</td>\n",
       "      <td>57</td>\n",
       "      <td>61</td>\n",
       "      <td>23</td>\n",
       "      <td>382</td>\n",
       "      <td>82</td>\n",
       "      <td>84</td>\n",
       "      <td>403</td>\n",
       "      <td>398</td>\n",
       "      <td>22</td>\n",
       "      <td>17</td>\n",
       "      <td>383</td>\n",
       "      <td>14</td>\n",
       "      <td>15</td>\n",
       "      <td>430</td>\n",
       "      <td>19</td>\n",
       "      <td>420</td>\n",
       "      <td>431</td>\n",
       "      <td>409</td>\n",
       "    </tr>\n",
       "    <tr>\n",
       "      <th>3</th>\n",
       "      <td>3</td>\n",
       "      <td>[57, 61, 84, 398, 430, 382, 19, 41, 383, 22, 1...</td>\n",
       "      <td>57</td>\n",
       "      <td>61</td>\n",
       "      <td>84</td>\n",
       "      <td>398</td>\n",
       "      <td>430</td>\n",
       "      <td>382</td>\n",
       "      <td>19</td>\n",
       "      <td>41</td>\n",
       "      <td>383</td>\n",
       "      <td>22</td>\n",
       "      <td>14</td>\n",
       "      <td>16</td>\n",
       "      <td>42</td>\n",
       "      <td>43</td>\n",
       "      <td>402</td>\n",
       "      <td>23</td>\n",
       "      <td>15</td>\n",
       "      <td>17</td>\n",
       "    </tr>\n",
       "    <tr>\n",
       "      <th>4</th>\n",
       "      <td>4</td>\n",
       "      <td>[57, 398, 61, 84, 22, 420, 17, 14, 430, 388, 1...</td>\n",
       "      <td>57</td>\n",
       "      <td>398</td>\n",
       "      <td>61</td>\n",
       "      <td>84</td>\n",
       "      <td>22</td>\n",
       "      <td>420</td>\n",
       "      <td>17</td>\n",
       "      <td>14</td>\n",
       "      <td>430</td>\n",
       "      <td>388</td>\n",
       "      <td>16</td>\n",
       "      <td>712</td>\n",
       "      <td>100</td>\n",
       "      <td>29</td>\n",
       "      <td>54</td>\n",
       "      <td>23</td>\n",
       "      <td>425</td>\n",
       "      <td>169</td>\n",
       "    </tr>\n",
       "  </tbody>\n",
       "</table>\n",
       "</div>"
      ],
      "text/plain": [
       "   user_id                                              items   0    1    2  \\\n",
       "0        0  [57, 14, 84, 22, 82, 383, 409, 432, 379, 382, ...  57   14   84   \n",
       "1        1  [55, 798, 169, 812, 171, 14, 170, 88, 198, 441...  55  798  169   \n",
       "2        2  [57, 61, 23, 382, 82, 84, 403, 398, 22, 17, 38...  57   61   23   \n",
       "3        3  [57, 61, 84, 398, 430, 382, 19, 41, 383, 22, 1...  57   61   84   \n",
       "4        4  [57, 398, 61, 84, 22, 420, 17, 14, 430, 388, 1...  57  398   61   \n",
       "\n",
       "     3    4    5    6    7    8    9   10   11   12   13   14   15   16   17  \n",
       "0   22   82  383  409  432  379  382   61    5  430   23   41  398  441  402  \n",
       "1  812  171   14  170   88  198  441  104  806   57   61  172  808  304   63  \n",
       "2  382   82   84  403  398   22   17  383   14   15  430   19  420  431  409  \n",
       "3  398  430  382   19   41  383   22   14   16   42   43  402   23   15   17  \n",
       "4   84   22  420   17   14  430  388   16  712  100   29   54   23  425  169  "
      ]
     },
     "execution_count": 9,
     "metadata": {},
     "output_type": "execute_result"
    }
   ],
   "source": [
    "recs_1.head()"
   ]
  },
  {
   "cell_type": "code",
   "execution_count": 10,
   "id": "b1d8d565",
   "metadata": {
    "tags": []
   },
   "outputs": [],
   "source": [
    "main_1 = pd.merge(main_1, recs_1, on=\"user_id\", how=\"left\")"
   ]
  },
  {
   "cell_type": "markdown",
   "id": "d107477a-114f-410a-b3b8-c08e272a0218",
   "metadata": {},
   "source": [
    "Учтем эти рекомендации в виде таких признаков как наличие товара у пользователя в рекомендациях и его позиция там"
   ]
  },
  {
   "cell_type": "code",
   "execution_count": 11,
   "id": "eea2187a",
   "metadata": {
    "tags": []
   },
   "outputs": [
    {
     "data": {
      "application/vnd.jupyter.widget-view+json": {
       "model_id": "25bc8670385246e593e5de68e99bf376",
       "version_major": 2,
       "version_minor": 0
      },
      "text/plain": [
       "  0%|          | 0/1117600 [00:00<?, ?it/s]"
      ]
     },
     "metadata": {},
     "output_type": "display_data"
    }
   ],
   "source": [
    "main_array = main_1.to_numpy()\n",
    "arr_has = []\n",
    "arr_pos = []\n",
    "index_of_items = main_1.columns.tolist().index(\"items\")\n",
    "for row in tqdm(main_array):\n",
    "    v = row[index_of_items].replace(']','').replace('[','')\n",
    "    v = v.split(\", \")\n",
    "    for i in range(len(v)):\n",
    "        v[i] = int(v[i])\n",
    "    if row[1] in v:\n",
    "        arr_has.append(1)\n",
    "        arr_pos.append(v.index(row[1]))\n",
    "    else:\n",
    "        arr_has.append(0)\n",
    "        arr_pos.append(-1)\n",
    "        \n",
    "main_1[\"has_cart_in_recs\"] = arr_has\n",
    "main_1[\"pos_cart_in_recs\"] = arr_pos"
   ]
  },
  {
   "cell_type": "code",
   "execution_count": 12,
   "id": "328cb6a4",
   "metadata": {
    "tags": []
   },
   "outputs": [],
   "source": [
    "main_1.drop(columns=[\"items\"], inplace=True)"
   ]
  },
  {
   "cell_type": "markdown",
   "id": "7d9e503e",
   "metadata": {},
   "source": [
    "Далее можно расширить обучающую выборку, добавив к ней датасет в таком же формате, но собраный при level=2, например"
   ]
  },
  {
   "cell_type": "raw",
   "id": "d081acf7-7c69-4e00-9690-24e521741f81",
   "metadata": {},
   "source": [
    "train_2, targets_2 = make_train_targets(df, level=2)\n",
    "\n",
    "main_2 = make(train_2, targets_2)\n",
    "\n",
    "recs_2 = pd.read_csv(\"data/train_lvl_2_recs.csv\")\n",
    "\n",
    "main_2 = pd.merge(main_2, recs_2, on=\"user_id\", how=\"left\")\n",
    "\n",
    "main_array = main_2.to_numpy()\n",
    "arr_has = []\n",
    "arr_pos = []\n",
    "index_of_items = main_2.columns.tolist().index(\"items\")\n",
    "for row in tqdm(main_array):\n",
    "    v = row[index_of_items].replace(']','').replace('[','')\n",
    "    v = v.split(\", \")\n",
    "    for i in range(len(v)):\n",
    "        v[i] = int(v[i])\n",
    "    if row[1] in v:\n",
    "        arr_has.append(1)\n",
    "        arr_pos.append(v.index(row[1]))\n",
    "    else:\n",
    "        arr_has.append(0)\n",
    "        arr_pos.append(-1)\n",
    "        \n",
    "main_2[\"has_cart_in_recs\"] = arr_has\n",
    "main_2[\"pos_cart_in_recs\"] = arr_pos\n",
    "\n",
    "main_2.drop(columns=[\"items\"], inplace=True)"
   ]
  },
  {
   "cell_type": "code",
   "execution_count": 13,
   "id": "9fac7dca",
   "metadata": {
    "tags": []
   },
   "outputs": [],
   "source": [
    "main_final = main_1.copy() \n",
    "# или \n",
    "# main_final = pd.concat([main_1, main_2])"
   ]
  },
  {
   "cell_type": "code",
   "execution_count": 14,
   "id": "49a10de3",
   "metadata": {
    "tags": []
   },
   "outputs": [
    {
     "data": {
      "text/plain": [
       "(1117600, 41)"
      ]
     },
     "execution_count": 14,
     "metadata": {},
     "output_type": "execute_result"
    }
   ],
   "source": [
    "main_final.shape"
   ]
  },
  {
   "cell_type": "code",
   "execution_count": 15,
   "id": "8c509bab-86c7-4c1b-8310-5d5c1adc2bca",
   "metadata": {
    "tags": []
   },
   "outputs": [
    {
     "data": {
      "text/html": [
       "<div>\n",
       "<style scoped>\n",
       "    .dataframe tbody tr th:only-of-type {\n",
       "        vertical-align: middle;\n",
       "    }\n",
       "\n",
       "    .dataframe tbody tr th {\n",
       "        vertical-align: top;\n",
       "    }\n",
       "\n",
       "    .dataframe thead th {\n",
       "        text-align: right;\n",
       "    }\n",
       "</style>\n",
       "<table border=\"1\" class=\"dataframe\">\n",
       "  <thead>\n",
       "    <tr style=\"text-align: right;\">\n",
       "      <th></th>\n",
       "      <th>user_id</th>\n",
       "      <th>cart</th>\n",
       "      <th>target</th>\n",
       "      <th>orders_count</th>\n",
       "      <th>items_count</th>\n",
       "      <th>carts_count</th>\n",
       "      <th>cart_orders_count</th>\n",
       "      <th>cart_unique_users_count</th>\n",
       "      <th>user_mean_cart_in_order_count</th>\n",
       "      <th>user_min_cart_in_order_count</th>\n",
       "      <th>...</th>\n",
       "      <th>10</th>\n",
       "      <th>11</th>\n",
       "      <th>12</th>\n",
       "      <th>13</th>\n",
       "      <th>14</th>\n",
       "      <th>15</th>\n",
       "      <th>16</th>\n",
       "      <th>17</th>\n",
       "      <th>has_cart_in_recs</th>\n",
       "      <th>pos_cart_in_recs</th>\n",
       "    </tr>\n",
       "  </thead>\n",
       "  <tbody>\n",
       "    <tr>\n",
       "      <th>0</th>\n",
       "      <td>0</td>\n",
       "      <td>14</td>\n",
       "      <td>0</td>\n",
       "      <td>2</td>\n",
       "      <td>33</td>\n",
       "      <td>27</td>\n",
       "      <td>85164</td>\n",
       "      <td>15273</td>\n",
       "      <td>16.5</td>\n",
       "      <td>8</td>\n",
       "      <td>...</td>\n",
       "      <td>61</td>\n",
       "      <td>5</td>\n",
       "      <td>430</td>\n",
       "      <td>23</td>\n",
       "      <td>41</td>\n",
       "      <td>398</td>\n",
       "      <td>441</td>\n",
       "      <td>402</td>\n",
       "      <td>1</td>\n",
       "      <td>1</td>\n",
       "    </tr>\n",
       "    <tr>\n",
       "      <th>1</th>\n",
       "      <td>0</td>\n",
       "      <td>20</td>\n",
       "      <td>0</td>\n",
       "      <td>2</td>\n",
       "      <td>33</td>\n",
       "      <td>27</td>\n",
       "      <td>13664</td>\n",
       "      <td>5906</td>\n",
       "      <td>16.5</td>\n",
       "      <td>8</td>\n",
       "      <td>...</td>\n",
       "      <td>61</td>\n",
       "      <td>5</td>\n",
       "      <td>430</td>\n",
       "      <td>23</td>\n",
       "      <td>41</td>\n",
       "      <td>398</td>\n",
       "      <td>441</td>\n",
       "      <td>402</td>\n",
       "      <td>0</td>\n",
       "      <td>-1</td>\n",
       "    </tr>\n",
       "    <tr>\n",
       "      <th>2</th>\n",
       "      <td>0</td>\n",
       "      <td>57</td>\n",
       "      <td>1</td>\n",
       "      <td>2</td>\n",
       "      <td>33</td>\n",
       "      <td>27</td>\n",
       "      <td>98788</td>\n",
       "      <td>16336</td>\n",
       "      <td>16.5</td>\n",
       "      <td>8</td>\n",
       "      <td>...</td>\n",
       "      <td>61</td>\n",
       "      <td>5</td>\n",
       "      <td>430</td>\n",
       "      <td>23</td>\n",
       "      <td>41</td>\n",
       "      <td>398</td>\n",
       "      <td>441</td>\n",
       "      <td>402</td>\n",
       "      <td>1</td>\n",
       "      <td>0</td>\n",
       "    </tr>\n",
       "    <tr>\n",
       "      <th>3</th>\n",
       "      <td>0</td>\n",
       "      <td>82</td>\n",
       "      <td>0</td>\n",
       "      <td>2</td>\n",
       "      <td>33</td>\n",
       "      <td>27</td>\n",
       "      <td>24980</td>\n",
       "      <td>7493</td>\n",
       "      <td>16.5</td>\n",
       "      <td>8</td>\n",
       "      <td>...</td>\n",
       "      <td>61</td>\n",
       "      <td>5</td>\n",
       "      <td>430</td>\n",
       "      <td>23</td>\n",
       "      <td>41</td>\n",
       "      <td>398</td>\n",
       "      <td>441</td>\n",
       "      <td>402</td>\n",
       "      <td>1</td>\n",
       "      <td>4</td>\n",
       "    </tr>\n",
       "    <tr>\n",
       "      <th>4</th>\n",
       "      <td>0</td>\n",
       "      <td>379</td>\n",
       "      <td>0</td>\n",
       "      <td>2</td>\n",
       "      <td>33</td>\n",
       "      <td>27</td>\n",
       "      <td>19764</td>\n",
       "      <td>8470</td>\n",
       "      <td>16.5</td>\n",
       "      <td>8</td>\n",
       "      <td>...</td>\n",
       "      <td>61</td>\n",
       "      <td>5</td>\n",
       "      <td>430</td>\n",
       "      <td>23</td>\n",
       "      <td>41</td>\n",
       "      <td>398</td>\n",
       "      <td>441</td>\n",
       "      <td>402</td>\n",
       "      <td>1</td>\n",
       "      <td>8</td>\n",
       "    </tr>\n",
       "  </tbody>\n",
       "</table>\n",
       "<p>5 rows × 41 columns</p>\n",
       "</div>"
      ],
      "text/plain": [
       "   user_id  cart  target  orders_count  items_count  carts_count  \\\n",
       "0        0    14       0             2           33           27   \n",
       "1        0    20       0             2           33           27   \n",
       "2        0    57       1             2           33           27   \n",
       "3        0    82       0             2           33           27   \n",
       "4        0   379       0             2           33           27   \n",
       "\n",
       "   cart_orders_count  cart_unique_users_count  user_mean_cart_in_order_count  \\\n",
       "0              85164                    15273                           16.5   \n",
       "1              13664                     5906                           16.5   \n",
       "2              98788                    16336                           16.5   \n",
       "3              24980                     7493                           16.5   \n",
       "4              19764                     8470                           16.5   \n",
       "\n",
       "   user_min_cart_in_order_count  ...  10  11   12  13  14   15   16   17  \\\n",
       "0                             8  ...  61   5  430  23  41  398  441  402   \n",
       "1                             8  ...  61   5  430  23  41  398  441  402   \n",
       "2                             8  ...  61   5  430  23  41  398  441  402   \n",
       "3                             8  ...  61   5  430  23  41  398  441  402   \n",
       "4                             8  ...  61   5  430  23  41  398  441  402   \n",
       "\n",
       "   has_cart_in_recs  pos_cart_in_recs  \n",
       "0                 1                 1  \n",
       "1                 0                -1  \n",
       "2                 1                 0  \n",
       "3                 1                 4  \n",
       "4                 1                 8  \n",
       "\n",
       "[5 rows x 41 columns]"
      ]
     },
     "execution_count": 15,
     "metadata": {},
     "output_type": "execute_result"
    }
   ],
   "source": [
    "main_final.head()"
   ]
  },
  {
   "cell_type": "markdown",
   "id": "aba3d126-3bf6-4e8e-b3fc-49341fc352da",
   "metadata": {},
   "source": [
    "## Подготовка к обучению"
   ]
  },
  {
   "cell_type": "markdown",
   "id": "c382f53e-25ee-4347-9250-74ef93969a10",
   "metadata": {},
   "source": [
    "Зафиксируем категориальные признаки"
   ]
  },
  {
   "cell_type": "code",
   "execution_count": 16,
   "id": "a72a901f",
   "metadata": {
    "tags": []
   },
   "outputs": [
    {
     "data": {
      "text/plain": [
       "['cart',\n",
       " 'has_cart_in_recs',\n",
       " 'user_top_1_cart',\n",
       " 'user_top_2_cart',\n",
       " 'user_top_3_cart',\n",
       " 'user_top_4_cart',\n",
       " 'user_top_5_cart',\n",
       " '0',\n",
       " '1',\n",
       " '2',\n",
       " '3',\n",
       " '4',\n",
       " '5',\n",
       " '6',\n",
       " '7',\n",
       " '8',\n",
       " '9',\n",
       " '10',\n",
       " '11',\n",
       " '12',\n",
       " '13',\n",
       " '14']"
      ]
     },
     "execution_count": 16,
     "metadata": {},
     "output_type": "execute_result"
    }
   ],
   "source": [
    "top_k = 5\n",
    "cat_features = ['cart'] + [\"has_cart_in_recs\"] + [\"user_top_\"+str(i+1)+\"_cart\" for i in range(top_k)] + [str(i) for i in range(15)]\n",
    "cat_features"
   ]
  },
  {
   "cell_type": "markdown",
   "id": "cd5f4e1b-003d-4de6-be16-ff13b6a10a3f",
   "metadata": {
    "tags": []
   },
   "source": [
    "Разделим датасет на обучающую и валидационную выборку для автоматической оценки в процессе обучения"
   ]
  },
  {
   "cell_type": "code",
   "execution_count": 17,
   "id": "05a3a1e8",
   "metadata": {
    "tags": []
   },
   "outputs": [],
   "source": [
    "(\n",
    "    x_train, \n",
    "    x_validation, \n",
    "    y_train, \n",
    "    y_validation\n",
    ") = train_test_split(\n",
    "    main_final.drop(columns=[\"user_id\", \"target\"]), \n",
    "    main_final[\"target\"], \n",
    "    stratify=main_final[\"target\"],\n",
    "    test_size=0.33, \n",
    "    random_state=42\n",
    ")"
   ]
  },
  {
   "cell_type": "markdown",
   "id": "ac44d6f2-a2a1-4860-96f3-099c307e93ef",
   "metadata": {},
   "source": [
    "Проинициализируем модель"
   ]
  },
  {
   "cell_type": "code",
   "execution_count": 18,
   "id": "1ade389b",
   "metadata": {
    "tags": []
   },
   "outputs": [],
   "source": [
    "model = CatBoostClassifier(iterations=300,\n",
    "                            # depth = 6,\n",
    "                            learning_rate = 0.35,\n",
    "                            # l2_leaf_reg = 4,\n",
    "                            eval_metric=\"F1\",\n",
    "                            loss_function=\"Logloss\",\n",
    "                            # task_type=\"GPU\",\n",
    "                            # fold_permutation_block = 2,\n",
    "                            # fold_len_multiplier = 1.5,\n",
    "                            # leaf_estimation_iterations = 10,\n",
    "                            # max_ctr_complexity = 1,\n",
    "                            random_seed=127,\n",
    "                            cat_features=cat_features\n",
    "                           )"
   ]
  },
  {
   "cell_type": "markdown",
   "id": "9d813d1b-c2b6-4046-b72d-7693a72ed22f",
   "metadata": {},
   "source": [
    "## Обучение"
   ]
  },
  {
   "cell_type": "code",
   "execution_count": 19,
   "id": "fb0d2641",
   "metadata": {
    "tags": []
   },
   "outputs": [
    {
     "data": {
      "application/vnd.jupyter.widget-view+json": {
       "model_id": "cbf32527c539493d8eeb0d476359924b",
       "version_major": 2,
       "version_minor": 0
      },
      "text/plain": [
       "MetricVisualizer(layout=Layout(align_self='stretch', height='500px'))"
      ]
     },
     "metadata": {},
     "output_type": "display_data"
    },
    {
     "name": "stdout",
     "output_type": "stream",
     "text": [
      "0:\tlearn: 0.2314231\ttest: 0.2312432\tbest: 0.2312432 (0)\ttotal: 653ms\tremaining: 3m 15s\n",
      "50:\tlearn: 0.3728573\ttest: 0.3738903\tbest: 0.3738903 (50)\ttotal: 27.6s\tremaining: 2m 14s\n",
      "100:\tlearn: 0.3853754\ttest: 0.3811638\tbest: 0.3811638 (100)\ttotal: 55.1s\tremaining: 1m 48s\n",
      "150:\tlearn: 0.3905459\ttest: 0.3846682\tbest: 0.3846682 (150)\ttotal: 1m 23s\tremaining: 1m 22s\n",
      "200:\tlearn: 0.3958179\ttest: 0.3885656\tbest: 0.3885656 (200)\ttotal: 1m 50s\tremaining: 54.6s\n",
      "250:\tlearn: 0.3986408\ttest: 0.3896969\tbest: 0.3899727 (248)\ttotal: 2m 19s\tremaining: 27.3s\n",
      "299:\tlearn: 0.4020763\ttest: 0.3908609\tbest: 0.3909603 (274)\ttotal: 2m 48s\tremaining: 0us\n",
      "\n",
      "bestTest = 0.3909603492\n",
      "bestIteration = 274\n",
      "\n",
      "Shrink model to first 275 iterations.\n"
     ]
    },
    {
     "data": {
      "text/plain": [
       "<catboost.core.CatBoostClassifier at 0x7fbb47adb610>"
      ]
     },
     "execution_count": 19,
     "metadata": {},
     "output_type": "execute_result"
    }
   ],
   "source": [
    "model.fit(x_train, \n",
    "          y_train, \n",
    "          eval_set=(x_validation, y_validation), \n",
    "          use_best_model=True, \n",
    "          early_stopping_rounds=50,  \n",
    "          plot=True, \n",
    "          verbose=50\n",
    "          )"
   ]
  },
  {
   "cell_type": "code",
   "execution_count": 20,
   "id": "4d6a2781",
   "metadata": {
    "tags": []
   },
   "outputs": [],
   "source": [
    "# Score: 0.37822 (level=1), 0.47373 (level=2), 0.58814 (level=3) - mean=0.48086"
   ]
  },
  {
   "cell_type": "markdown",
   "id": "c4ba3c9f-f20d-4e26-a8a8-fd5b224c94b8",
   "metadata": {},
   "source": [
    "Посмотрим на важность признаков"
   ]
  },
  {
   "cell_type": "code",
   "execution_count": 21,
   "id": "4d20fd80",
   "metadata": {
    "tags": []
   },
   "outputs": [
    {
     "data": {
      "text/html": [
       "<div>\n",
       "<style scoped>\n",
       "    .dataframe tbody tr th:only-of-type {\n",
       "        vertical-align: middle;\n",
       "    }\n",
       "\n",
       "    .dataframe tbody tr th {\n",
       "        vertical-align: top;\n",
       "    }\n",
       "\n",
       "    .dataframe thead th {\n",
       "        text-align: right;\n",
       "    }\n",
       "</style>\n",
       "<table border=\"1\" class=\"dataframe\">\n",
       "  <thead>\n",
       "    <tr style=\"text-align: right;\">\n",
       "      <th></th>\n",
       "      <th>Feature Id</th>\n",
       "      <th>Importances</th>\n",
       "    </tr>\n",
       "  </thead>\n",
       "  <tbody>\n",
       "    <tr>\n",
       "      <th>0</th>\n",
       "      <td>orders_count</td>\n",
       "      <td>21.047687</td>\n",
       "    </tr>\n",
       "    <tr>\n",
       "      <th>1</th>\n",
       "      <td>pos_cart_in_recs</td>\n",
       "      <td>13.834446</td>\n",
       "    </tr>\n",
       "    <tr>\n",
       "      <th>2</th>\n",
       "      <td>cart_orders_count</td>\n",
       "      <td>12.002317</td>\n",
       "    </tr>\n",
       "    <tr>\n",
       "      <th>3</th>\n",
       "      <td>carts_count</td>\n",
       "      <td>6.545027</td>\n",
       "    </tr>\n",
       "    <tr>\n",
       "      <th>4</th>\n",
       "      <td>has_cart_in_recs</td>\n",
       "      <td>6.233831</td>\n",
       "    </tr>\n",
       "    <tr>\n",
       "      <th>5</th>\n",
       "      <td>user_mean_cart_in_order_count</td>\n",
       "      <td>5.293726</td>\n",
       "    </tr>\n",
       "    <tr>\n",
       "      <th>6</th>\n",
       "      <td>cart_unique_users_count</td>\n",
       "      <td>4.101945</td>\n",
       "    </tr>\n",
       "    <tr>\n",
       "      <th>7</th>\n",
       "      <td>cart</td>\n",
       "      <td>4.045810</td>\n",
       "    </tr>\n",
       "    <tr>\n",
       "      <th>8</th>\n",
       "      <td>items_count</td>\n",
       "      <td>3.483095</td>\n",
       "    </tr>\n",
       "    <tr>\n",
       "      <th>9</th>\n",
       "      <td>user_top_5_cart</td>\n",
       "      <td>2.078928</td>\n",
       "    </tr>\n",
       "  </tbody>\n",
       "</table>\n",
       "</div>"
      ],
      "text/plain": [
       "                      Feature Id  Importances\n",
       "0                   orders_count    21.047687\n",
       "1               pos_cart_in_recs    13.834446\n",
       "2              cart_orders_count    12.002317\n",
       "3                    carts_count     6.545027\n",
       "4               has_cart_in_recs     6.233831\n",
       "5  user_mean_cart_in_order_count     5.293726\n",
       "6        cart_unique_users_count     4.101945\n",
       "7                           cart     4.045810\n",
       "8                    items_count     3.483095\n",
       "9                user_top_5_cart     2.078928"
      ]
     },
     "execution_count": 21,
     "metadata": {},
     "output_type": "execute_result"
    }
   ],
   "source": [
    "model.get_feature_importance(prettified=True).head(10)"
   ]
  },
  {
   "cell_type": "markdown",
   "id": "ee94e0c4-c2f8-4b64-8ae1-444f944759ca",
   "metadata": {},
   "source": [
    "Можем выделить наименее важные признаки"
   ]
  },
  {
   "cell_type": "code",
   "execution_count": 22,
   "id": "169ea63e",
   "metadata": {
    "tags": []
   },
   "outputs": [],
   "source": [
    "useless_features = model.get_feature_importance(prettified=True).query(\"Importances==0\")[\"Feature Id\"].tolist()"
   ]
  },
  {
   "cell_type": "code",
   "execution_count": 23,
   "id": "68f5b2e5",
   "metadata": {
    "tags": []
   },
   "outputs": [
    {
     "data": {
      "text/plain": [
       "['cart_min_count', 'cart_median_count']"
      ]
     },
     "execution_count": 23,
     "metadata": {},
     "output_type": "execute_result"
    }
   ],
   "source": [
    "useless_features"
   ]
  },
  {
   "cell_type": "markdown",
   "id": "98fdd4fd",
   "metadata": {},
   "source": [
    "## Что дальше\n",
    "Что еще можно попробовать в дальнейшем (*TODO*):\n",
    "1. Кластеризовать пользователей и обучать модели отдельно для каждого кластера\n",
    "2. Кластеризовать товары, используя в качестве фичей эмбеддинги, построенные по корзинам покупателей. Это позволит делать рекомендации товаров, которые ранее не покупались данным клиентом\n",
    "3. Поработать над признаками, которые отражают взаимодействие конкретного пользователя и конкретного товара\n",
    "4. Попробовать использовать датасет при level=2 в качестве обучающей выборки, а датасет при level=1 - в качестве тестовой. (Но необходимо будет решить проблему с категориальными признаками, т.к. catboost не будет делать предсказание, если появятся новые значения у категориального признака)"
   ]
  }
 ],
 "metadata": {
  "kernelspec": {
   "display_name": "Python 3 (ipykernel)",
   "language": "python",
   "name": "python3"
  },
  "language_info": {
   "codemirror_mode": {
    "name": "ipython",
    "version": 3
   },
   "file_extension": ".py",
   "mimetype": "text/x-python",
   "name": "python",
   "nbconvert_exporter": "python",
   "pygments_lexer": "ipython3",
   "version": "3.8.10"
  }
 },
 "nbformat": 4,
 "nbformat_minor": 5
}
