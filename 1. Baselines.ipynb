{
 "cells": [
  {
   "cell_type": "markdown",
   "id": "2199eb09",
   "metadata": {},
   "source": [
    "# Baselines\n",
    "В ноутбуке рассматриваются базовые подходы к решению задачи. Они просто реализуются, и их можно использовать для дальнейшего внедрения более комплексных подходов, сравнивая метркики с бейзлайнами.  \n",
    "\n",
    "Проверим три основных идеи:\n",
    "* Порекомендуем пользователю его посленюю покупку\n",
    "    - Score: **0.32841** (mean) - 0.33932 (level = 1), 0.33752 (level = 2), 0.30838 (level = 3), \n",
    "* Для каждого пользователя найдем самые часто покупаемые товары и порекомендуем их\n",
    "    - Фиксированный размер корзины (k = 10) - Score: **0.32415** (mean) - 0.34320 (level = 1), 0.33291 (level = 2), 0.29633 (level = 3)\n",
    "    - Нефиксированный размер корзины - Score: **0.37277** (mean) - 0.38993 (level = 1), 0.38031 (level = 2), 0.34807 (level = 3)\n",
    "* Каждому пользователю порекомендуем общий топ популярных товаров\n",
    "    - Фиксированный размер корзины (k = 15) - Score: **0.37593** (mean) - 0.36759 (level = 1), 0.37293 (level = 2), 0.38727 (level = 3)\n",
    "    - Нефиксированный размер корзины - Score: **0.36432** (mean) - 0.37505 (level = 1), 0.38073 (level = 2), 0.33718 (level = 3)\n",
    "    \n",
    "! Ноутбук можно запускать в режиме \"Run all\""
   ]
  },
  {
   "cell_type": "markdown",
   "id": "c4c00506-24ca-4e53-ae6b-b002c82be799",
   "metadata": {},
   "source": [
    "## Загрузка библиотек"
   ]
  },
  {
   "cell_type": "code",
   "execution_count": 1,
   "id": "5308d382",
   "metadata": {
    "tags": []
   },
   "outputs": [],
   "source": [
    "import pandas as pd\n",
    "import numpy as np\n",
    "from tqdm.auto import tqdm\n",
    "from sklearn.metrics import f1_score\n",
    "tqdm.pandas()"
   ]
  },
  {
   "cell_type": "markdown",
   "id": "6d1756bd-f396-4810-a9d8-8533d9f74ecc",
   "metadata": {
    "tags": []
   },
   "source": [
    "## Подготовка данных"
   ]
  },
  {
   "cell_type": "markdown",
   "id": "bb23d925-d572-49e6-a97b-d624fe0cdbd3",
   "metadata": {},
   "source": [
    "### Загрузка"
   ]
  },
  {
   "cell_type": "code",
   "execution_count": 2,
   "id": "13f0deef",
   "metadata": {},
   "outputs": [],
   "source": [
    "df = pd.read_csv(\"data/main.csv\")"
   ]
  },
  {
   "cell_type": "code",
   "execution_count": 3,
   "id": "8f1a9239",
   "metadata": {},
   "outputs": [],
   "source": [
    "df.rename(columns={\"order_completed_at\":\"time\"}, inplace=True) # переименуем колонку для удобства\n",
    "df[\"time\"] = pd.to_datetime(df[\"time\"], format=\"%Y-%m-%d %H:%M:%S\") # изменим тип колонки для дальнейшей работы"
   ]
  },
  {
   "cell_type": "markdown",
   "id": "4fc685ca-6929-4fa9-a775-93c18e515dcf",
   "metadata": {},
   "source": [
    "### Исследование"
   ]
  },
  {
   "cell_type": "code",
   "execution_count": 4,
   "id": "39b1b095-1af4-4390-803b-d5bc252517c7",
   "metadata": {
    "tags": []
   },
   "outputs": [
    {
     "data": {
      "text/html": [
       "<div>\n",
       "<style scoped>\n",
       "    .dataframe tbody tr th:only-of-type {\n",
       "        vertical-align: middle;\n",
       "    }\n",
       "\n",
       "    .dataframe tbody tr th {\n",
       "        vertical-align: top;\n",
       "    }\n",
       "\n",
       "    .dataframe thead th {\n",
       "        text-align: right;\n",
       "    }\n",
       "</style>\n",
       "<table border=\"1\" class=\"dataframe\">\n",
       "  <thead>\n",
       "    <tr style=\"text-align: right;\">\n",
       "      <th></th>\n",
       "      <th>user_id</th>\n",
       "      <th>time</th>\n",
       "      <th>cart</th>\n",
       "    </tr>\n",
       "  </thead>\n",
       "  <tbody>\n",
       "    <tr>\n",
       "      <th>0</th>\n",
       "      <td>2</td>\n",
       "      <td>2015-03-22 09:25:46</td>\n",
       "      <td>399</td>\n",
       "    </tr>\n",
       "    <tr>\n",
       "      <th>1</th>\n",
       "      <td>2</td>\n",
       "      <td>2015-03-22 09:25:46</td>\n",
       "      <td>14</td>\n",
       "    </tr>\n",
       "    <tr>\n",
       "      <th>2</th>\n",
       "      <td>2</td>\n",
       "      <td>2015-03-22 09:25:46</td>\n",
       "      <td>198</td>\n",
       "    </tr>\n",
       "    <tr>\n",
       "      <th>3</th>\n",
       "      <td>2</td>\n",
       "      <td>2015-03-22 09:25:46</td>\n",
       "      <td>88</td>\n",
       "    </tr>\n",
       "    <tr>\n",
       "      <th>4</th>\n",
       "      <td>2</td>\n",
       "      <td>2015-03-22 09:25:46</td>\n",
       "      <td>157</td>\n",
       "    </tr>\n",
       "  </tbody>\n",
       "</table>\n",
       "</div>"
      ],
      "text/plain": [
       "   user_id                time  cart\n",
       "0        2 2015-03-22 09:25:46   399\n",
       "1        2 2015-03-22 09:25:46    14\n",
       "2        2 2015-03-22 09:25:46   198\n",
       "3        2 2015-03-22 09:25:46    88\n",
       "4        2 2015-03-22 09:25:46   157"
      ]
     },
     "execution_count": 4,
     "metadata": {},
     "output_type": "execute_result"
    }
   ],
   "source": [
    "df.head()"
   ]
  },
  {
   "cell_type": "markdown",
   "id": "a9be74fc-9a2e-4787-80e1-e4ac90c7c3f3",
   "metadata": {},
   "source": [
    "Пользователи"
   ]
  },
  {
   "cell_type": "code",
   "execution_count": 5,
   "id": "a4361cce-4020-44ab-a08f-5e9b4a266222",
   "metadata": {
    "tags": []
   },
   "outputs": [
    {
     "data": {
      "text/plain": [
       "nunique    20000\n",
       "min            0\n",
       "max        19999\n",
       "Name: user_id, dtype: int64"
      ]
     },
     "execution_count": 5,
     "metadata": {},
     "output_type": "execute_result"
    }
   ],
   "source": [
    "df[\"user_id\"].agg([\"nunique\", \"min\", \"max\"])"
   ]
  },
  {
   "cell_type": "markdown",
   "id": "bd483caa-3312-46fe-bbf1-0b942e402483",
   "metadata": {},
   "source": [
    "Товары"
   ]
  },
  {
   "cell_type": "code",
   "execution_count": 6,
   "id": "01981070-5a01-4691-9bf6-4e6dab37e0d2",
   "metadata": {
    "tags": []
   },
   "outputs": [
    {
     "data": {
      "text/plain": [
       "nunique    881\n",
       "min          0\n",
       "max        880\n",
       "Name: cart, dtype: int64"
      ]
     },
     "execution_count": 6,
     "metadata": {},
     "output_type": "execute_result"
    }
   ],
   "source": [
    "df[\"cart\"].agg([\"nunique\", \"min\", \"max\"])"
   ]
  },
  {
   "cell_type": "markdown",
   "id": "c5006ac6-bd51-4c51-8e1b-7c238f63637f",
   "metadata": {},
   "source": [
    "Время покупок"
   ]
  },
  {
   "cell_type": "code",
   "execution_count": 7,
   "id": "58de54e3-72e8-4aac-b799-166b3a697855",
   "metadata": {
    "tags": []
   },
   "outputs": [
    {
     "data": {
      "text/plain": [
       "count                          3123064\n",
       "mean     2020-04-09 01:17:00.182836992\n",
       "min                2015-03-22 09:25:46\n",
       "25%                2020-02-03 06:03:43\n",
       "50%                2020-05-19 06:35:20\n",
       "75%                2020-07-14 04:50:22\n",
       "max                2020-09-03 23:45:45\n",
       "Name: time, dtype: object"
      ]
     },
     "execution_count": 7,
     "metadata": {},
     "output_type": "execute_result"
    }
   ],
   "source": [
    "df[\"time\"].describe(datetime_is_numeric=True)"
   ]
  },
  {
   "cell_type": "markdown",
   "id": "2fd4ee03-1701-4ab6-9b35-5746280960bb",
   "metadata": {},
   "source": [
    "Длина корзины"
   ]
  },
  {
   "cell_type": "code",
   "execution_count": 8,
   "id": "7c8fc630-543d-4993-b688-fef2d7b10a6b",
   "metadata": {
    "tags": []
   },
   "outputs": [
    {
     "data": {
      "text/plain": [
       "count    208155.000000\n",
       "mean         15.003550\n",
       "std           8.892248\n",
       "min           1.000000\n",
       "25%           9.000000\n",
       "50%          14.000000\n",
       "75%          20.000000\n",
       "max         120.000000\n",
       "Name: cart, dtype: float64"
      ]
     },
     "execution_count": 8,
     "metadata": {},
     "output_type": "execute_result"
    },
    {
     "data": {
      "image/png": "[encoded data removed]",
      "text/plain": [
       "<Figure size 432x288 with 1 Axes>"
      ]
     },
     "metadata": {
      "needs_background": "light"
     },
     "output_type": "display_data"
    }
   ],
   "source": [
    "df.groupby(\"time\")[\"cart\"].count().hist(bins=50)\n",
    "df.groupby(\"time\")[\"cart\"].count().describe()"
   ]
  },
  {
   "cell_type": "markdown",
   "id": "f62df066-430a-4195-a139-44adac190880",
   "metadata": {},
   "source": [
    "### Формирование датасета"
   ]
  },
  {
   "cell_type": "code",
   "execution_count": 9,
   "id": "71b159fa",
   "metadata": {},
   "outputs": [],
   "source": [
    "# Заменяет повторяющиеся товары в корзине на одну запись с указанием количества\n",
    "def duplicates_to_count(t):\n",
    "    return (\n",
    "        t.groupby(['user_id', 'time'])['cart']\n",
    "            .value_counts()\n",
    "            .to_frame()\n",
    "            .rename(columns={\"cart\":\"count\"})\n",
    "            .reset_index()\n",
    "    )\n",
    "\n",
    "# Производит обратную операцию\n",
    "def count_to_duplicates(t): \n",
    "    g = t.copy()\n",
    "    g[\"to_explode\"] = g[\"count\"].apply(lambda x: [i for i in range(x)])\n",
    "    g = g.explode(\"to_explode\").drop(columns=[\"count\", \"to_explode\"])\n",
    "    return g\n",
    "\n",
    "# Создает все комбинации user_id (пользователя) и cart (товара), которые пользователь когда-либо покупал\n",
    "def make_skeleton(t):\n",
    "    return t.groupby(\"user_id\")[\"cart\"].unique().to_frame().reset_index().explode(\"cart\")\n",
    "\n",
    "# Создает train датасет и ответы для него\n",
    "# Ответы формируются на основе последней корзины каждого пользователя\n",
    "# lvevel=1 означает, что для формирования ответов берётся последняя покупка, level=2 - предпоследняя и так далее \n",
    "def make_train_targets(t, level=1): \n",
    "    user_last_time = t.groupby([\"user_id\"])[\"time\"].max().to_frame().reset_index()\n",
    "    user_last_time[\"last_buy\"] = 1\n",
    "    \n",
    "    train = pd.merge(t, user_last_time, on=[\"time\", \"user_id\"], how=\"left\")\n",
    "    train = train[train[\"last_buy\"] != 1]\n",
    "    train.drop(columns=[\"last_buy\"], inplace=True)\n",
    "    \n",
    "    if level >= 2:\n",
    "        return make_train_targets(train, level-1)\n",
    "    \n",
    "    user_last_time.drop(columns=[\"last_buy\"], inplace=True)\n",
    "    \n",
    "    user_last_carts = pd.merge(user_last_time, t, on=[\"user_id\", \"time\"], how=\"left\")\n",
    "    \n",
    "    skeleton = make_skeleton(t)\n",
    "    targets = pd.merge(skeleton, user_last_carts.drop(columns=[\"time\"]), on=[\"user_id\",\"cart\"], how=\"left\")\n",
    "    targets.fillna(0, inplace=True)\n",
    "    targets[\"count\"] = targets[\"count\"].apply(lambda x: x if x <= 1 else 1).astype(int)\n",
    "    targets.rename(columns={\"count\":\"target\"}, inplace=True)\n",
    "    return train, targets"
   ]
  },
  {
   "cell_type": "code",
   "execution_count": 10,
   "id": "fbd09faf",
   "metadata": {},
   "outputs": [],
   "source": [
    "df = duplicates_to_count(df)"
   ]
  },
  {
   "cell_type": "code",
   "execution_count": 11,
   "id": "94a047a3",
   "metadata": {},
   "outputs": [
    {
     "data": {
      "text/html": [
       "<div>\n",
       "<style scoped>\n",
       "    .dataframe tbody tr th:only-of-type {\n",
       "        vertical-align: middle;\n",
       "    }\n",
       "\n",
       "    .dataframe tbody tr th {\n",
       "        vertical-align: top;\n",
       "    }\n",
       "\n",
       "    .dataframe thead th {\n",
       "        text-align: right;\n",
       "    }\n",
       "</style>\n",
       "<table border=\"1\" class=\"dataframe\">\n",
       "  <thead>\n",
       "    <tr style=\"text-align: right;\">\n",
       "      <th></th>\n",
       "      <th>user_id</th>\n",
       "      <th>time</th>\n",
       "      <th>cart</th>\n",
       "      <th>count</th>\n",
       "    </tr>\n",
       "  </thead>\n",
       "  <tbody>\n",
       "    <tr>\n",
       "      <th>0</th>\n",
       "      <td>0</td>\n",
       "      <td>2020-07-19 09:59:17</td>\n",
       "      <td>14</td>\n",
       "      <td>1</td>\n",
       "    </tr>\n",
       "    <tr>\n",
       "      <th>1</th>\n",
       "      <td>0</td>\n",
       "      <td>2020-07-19 09:59:17</td>\n",
       "      <td>20</td>\n",
       "      <td>1</td>\n",
       "    </tr>\n",
       "    <tr>\n",
       "      <th>2</th>\n",
       "      <td>0</td>\n",
       "      <td>2020-07-19 09:59:17</td>\n",
       "      <td>57</td>\n",
       "      <td>1</td>\n",
       "    </tr>\n",
       "    <tr>\n",
       "      <th>3</th>\n",
       "      <td>0</td>\n",
       "      <td>2020-07-19 09:59:17</td>\n",
       "      <td>82</td>\n",
       "      <td>1</td>\n",
       "    </tr>\n",
       "    <tr>\n",
       "      <th>4</th>\n",
       "      <td>0</td>\n",
       "      <td>2020-07-19 09:59:17</td>\n",
       "      <td>379</td>\n",
       "      <td>1</td>\n",
       "    </tr>\n",
       "  </tbody>\n",
       "</table>\n",
       "</div>"
      ],
      "text/plain": [
       "   user_id                time  cart  count\n",
       "0        0 2020-07-19 09:59:17    14      1\n",
       "1        0 2020-07-19 09:59:17    20      1\n",
       "2        0 2020-07-19 09:59:17    57      1\n",
       "3        0 2020-07-19 09:59:17    82      1\n",
       "4        0 2020-07-19 09:59:17   379      1"
      ]
     },
     "execution_count": 11,
     "metadata": {},
     "output_type": "execute_result"
    }
   ],
   "source": [
    "df.head()"
   ]
  },
  {
   "cell_type": "code",
   "execution_count": 12,
   "id": "5f2ba27d-3bea-4036-a7c6-94d675405741",
   "metadata": {},
   "outputs": [],
   "source": [
    "train, targets = make_train_targets(df, level=1)"
   ]
  },
  {
   "cell_type": "code",
   "execution_count": 13,
   "id": "73a7b299",
   "metadata": {},
   "outputs": [
    {
     "data": {
      "text/html": [
       "<div>\n",
       "<style scoped>\n",
       "    .dataframe tbody tr th:only-of-type {\n",
       "        vertical-align: middle;\n",
       "    }\n",
       "\n",
       "    .dataframe tbody tr th {\n",
       "        vertical-align: top;\n",
       "    }\n",
       "\n",
       "    .dataframe thead th {\n",
       "        text-align: right;\n",
       "    }\n",
       "</style>\n",
       "<table border=\"1\" class=\"dataframe\">\n",
       "  <thead>\n",
       "    <tr style=\"text-align: right;\">\n",
       "      <th></th>\n",
       "      <th>user_id</th>\n",
       "      <th>time</th>\n",
       "      <th>cart</th>\n",
       "      <th>count</th>\n",
       "    </tr>\n",
       "  </thead>\n",
       "  <tbody>\n",
       "    <tr>\n",
       "      <th>0</th>\n",
       "      <td>0</td>\n",
       "      <td>2020-07-19 09:59:17</td>\n",
       "      <td>14</td>\n",
       "      <td>1</td>\n",
       "    </tr>\n",
       "    <tr>\n",
       "      <th>1</th>\n",
       "      <td>0</td>\n",
       "      <td>2020-07-19 09:59:17</td>\n",
       "      <td>20</td>\n",
       "      <td>1</td>\n",
       "    </tr>\n",
       "    <tr>\n",
       "      <th>2</th>\n",
       "      <td>0</td>\n",
       "      <td>2020-07-19 09:59:17</td>\n",
       "      <td>57</td>\n",
       "      <td>1</td>\n",
       "    </tr>\n",
       "    <tr>\n",
       "      <th>3</th>\n",
       "      <td>0</td>\n",
       "      <td>2020-07-19 09:59:17</td>\n",
       "      <td>82</td>\n",
       "      <td>1</td>\n",
       "    </tr>\n",
       "    <tr>\n",
       "      <th>4</th>\n",
       "      <td>0</td>\n",
       "      <td>2020-07-19 09:59:17</td>\n",
       "      <td>379</td>\n",
       "      <td>1</td>\n",
       "    </tr>\n",
       "  </tbody>\n",
       "</table>\n",
       "</div>"
      ],
      "text/plain": [
       "   user_id                time  cart  count\n",
       "0        0 2020-07-19 09:59:17    14      1\n",
       "1        0 2020-07-19 09:59:17    20      1\n",
       "2        0 2020-07-19 09:59:17    57      1\n",
       "3        0 2020-07-19 09:59:17    82      1\n",
       "4        0 2020-07-19 09:59:17   379      1"
      ]
     },
     "execution_count": 13,
     "metadata": {},
     "output_type": "execute_result"
    }
   ],
   "source": [
    "train.head()"
   ]
  },
  {
   "cell_type": "code",
   "execution_count": 14,
   "id": "9be94077",
   "metadata": {},
   "outputs": [
    {
     "data": {
      "text/html": [
       "<div>\n",
       "<style scoped>\n",
       "    .dataframe tbody tr th:only-of-type {\n",
       "        vertical-align: middle;\n",
       "    }\n",
       "\n",
       "    .dataframe tbody tr th {\n",
       "        vertical-align: top;\n",
       "    }\n",
       "\n",
       "    .dataframe thead th {\n",
       "        text-align: right;\n",
       "    }\n",
       "</style>\n",
       "<table border=\"1\" class=\"dataframe\">\n",
       "  <thead>\n",
       "    <tr style=\"text-align: right;\">\n",
       "      <th></th>\n",
       "      <th>user_id</th>\n",
       "      <th>cart</th>\n",
       "      <th>target</th>\n",
       "    </tr>\n",
       "  </thead>\n",
       "  <tbody>\n",
       "    <tr>\n",
       "      <th>0</th>\n",
       "      <td>0</td>\n",
       "      <td>14</td>\n",
       "      <td>0</td>\n",
       "    </tr>\n",
       "    <tr>\n",
       "      <th>1</th>\n",
       "      <td>0</td>\n",
       "      <td>20</td>\n",
       "      <td>0</td>\n",
       "    </tr>\n",
       "    <tr>\n",
       "      <th>2</th>\n",
       "      <td>0</td>\n",
       "      <td>57</td>\n",
       "      <td>1</td>\n",
       "    </tr>\n",
       "    <tr>\n",
       "      <th>3</th>\n",
       "      <td>0</td>\n",
       "      <td>82</td>\n",
       "      <td>0</td>\n",
       "    </tr>\n",
       "    <tr>\n",
       "      <th>4</th>\n",
       "      <td>0</td>\n",
       "      <td>379</td>\n",
       "      <td>0</td>\n",
       "    </tr>\n",
       "  </tbody>\n",
       "</table>\n",
       "</div>"
      ],
      "text/plain": [
       "   user_id  cart  target\n",
       "0        0    14       0\n",
       "1        0    20       0\n",
       "2        0    57       1\n",
       "3        0    82       0\n",
       "4        0   379       0"
      ]
     },
     "execution_count": 14,
     "metadata": {},
     "output_type": "execute_result"
    }
   ],
   "source": [
    "targets.head()"
   ]
  },
  {
   "cell_type": "markdown",
   "id": "e9bcd454-255c-4359-be8e-11db4d090ef3",
   "metadata": {},
   "source": [
    "## Подходы"
   ]
  },
  {
   "cell_type": "markdown",
   "id": "efa068e1",
   "metadata": {},
   "source": [
    "### Последняя корзина пользователя\n",
    "Возьмем последнюю корзину пользователя и порекомендуем все товары из неё в качестве следующей корзины"
   ]
  },
  {
   "cell_type": "code",
   "execution_count": 15,
   "id": "22918030",
   "metadata": {},
   "outputs": [],
   "source": [
    "def user_last_cart_baseline(t, skeleton):\n",
    "    user_last_time = t.groupby([\"user_id\"])[\"time\"].max().to_frame().reset_index()\n",
    "    user_last_carts = pd.merge(user_last_time, t, on=[\"user_id\", \"time\"], how=\"left\") \n",
    "    res = pd.merge(skeleton, user_last_carts.drop(columns=[\"time\"]), on=[\"user_id\",\"cart\"], how=\"left\")\\\n",
    "        .fillna(0).rename(columns={\"count\":\"predict\"})\n",
    "    res[\"predict\"] = res[\"predict\"].progress_apply(lambda x: x if x <= 1 else 1).astype(int)\n",
    "    return res"
   ]
  },
  {
   "cell_type": "code",
   "execution_count": 16,
   "id": "7193b26a",
   "metadata": {},
   "outputs": [
    {
     "data": {
      "application/vnd.jupyter.widget-view+json": {
       "model_id": "5583ac37d4bd4d02aed767aa6803ff8e",
       "version_major": 2,
       "version_minor": 0
      },
      "text/plain": [
       "  0%|          | 0/1117600 [00:00<?, ?it/s]"
      ]
     },
     "metadata": {},
     "output_type": "display_data"
    }
   ],
   "source": [
    "train_res = user_last_cart_baseline(train, targets)"
   ]
  },
  {
   "cell_type": "code",
   "execution_count": 17,
   "id": "abc5f578",
   "metadata": {},
   "outputs": [
    {
     "data": {
      "text/html": [
       "<div>\n",
       "<style scoped>\n",
       "    .dataframe tbody tr th:only-of-type {\n",
       "        vertical-align: middle;\n",
       "    }\n",
       "\n",
       "    .dataframe tbody tr th {\n",
       "        vertical-align: top;\n",
       "    }\n",
       "\n",
       "    .dataframe thead th {\n",
       "        text-align: right;\n",
       "    }\n",
       "</style>\n",
       "<table border=\"1\" class=\"dataframe\">\n",
       "  <thead>\n",
       "    <tr style=\"text-align: right;\">\n",
       "      <th></th>\n",
       "      <th>user_id</th>\n",
       "      <th>cart</th>\n",
       "      <th>target</th>\n",
       "      <th>predict</th>\n",
       "    </tr>\n",
       "  </thead>\n",
       "  <tbody>\n",
       "    <tr>\n",
       "      <th>0</th>\n",
       "      <td>0</td>\n",
       "      <td>14</td>\n",
       "      <td>0</td>\n",
       "      <td>1</td>\n",
       "    </tr>\n",
       "    <tr>\n",
       "      <th>1</th>\n",
       "      <td>0</td>\n",
       "      <td>20</td>\n",
       "      <td>0</td>\n",
       "      <td>0</td>\n",
       "    </tr>\n",
       "    <tr>\n",
       "      <th>2</th>\n",
       "      <td>0</td>\n",
       "      <td>57</td>\n",
       "      <td>1</td>\n",
       "      <td>1</td>\n",
       "    </tr>\n",
       "    <tr>\n",
       "      <th>3</th>\n",
       "      <td>0</td>\n",
       "      <td>82</td>\n",
       "      <td>0</td>\n",
       "      <td>1</td>\n",
       "    </tr>\n",
       "    <tr>\n",
       "      <th>4</th>\n",
       "      <td>0</td>\n",
       "      <td>379</td>\n",
       "      <td>0</td>\n",
       "      <td>1</td>\n",
       "    </tr>\n",
       "  </tbody>\n",
       "</table>\n",
       "</div>"
      ],
      "text/plain": [
       "   user_id  cart  target  predict\n",
       "0        0    14       0        1\n",
       "1        0    20       0        0\n",
       "2        0    57       1        1\n",
       "3        0    82       0        1\n",
       "4        0   379       0        1"
      ]
     },
     "execution_count": 17,
     "metadata": {},
     "output_type": "execute_result"
    }
   ],
   "source": [
    "train_res.head()"
   ]
  },
  {
   "cell_type": "code",
   "execution_count": 18,
   "id": "ca776400",
   "metadata": {},
   "outputs": [
    {
     "data": {
      "text/plain": [
       "0.3393176623703617"
      ]
     },
     "execution_count": 18,
     "metadata": {},
     "output_type": "execute_result"
    }
   ],
   "source": [
    "f1_score(train_res[\"target\"], train_res[\"predict\"])"
   ]
  },
  {
   "cell_type": "markdown",
   "id": "d5745316",
   "metadata": {},
   "source": [
    "### Топ товаров для каждого пользователя"
   ]
  },
  {
   "cell_type": "markdown",
   "id": "aff4529a-afdc-49ea-910f-1001751ebec9",
   "metadata": {},
   "source": [
    "#### Фиксированный размер корзины"
   ]
  },
  {
   "cell_type": "markdown",
   "id": "30ee5027-8a18-4885-b58c-378639644d60",
   "metadata": {},
   "source": [
    "Возьмем все известные корзины пользователей, составим для каждого из них персональный топ продуктов фиксированного размера и порекомендуем его"
   ]
  },
  {
   "cell_type": "code",
   "execution_count": 19,
   "id": "83ea8eca",
   "metadata": {},
   "outputs": [],
   "source": [
    "def user_top_k_personal_rec_baseline(t, skeleton, k=10):\n",
    "    g = (\n",
    "        count_to_duplicates(t)\n",
    "        .groupby(\"user_id\")[\"cart\"].value_counts()\n",
    "        .to_frame().rename(columns={\"cart\":\"count\"})\n",
    "        .groupby(\"user_id\")[\"count\"].head(k)\n",
    "        .to_frame().reset_index()\n",
    "        .drop(columns=[\"count\"])\n",
    "    )\n",
    "    g['predict'] = 1\n",
    "    res = skeleton.copy()\n",
    "    res = res.merge(g, how='left', on=['user_id', 'cart'])\n",
    "    res['predict'] = res['predict'].fillna(0).astype(int)\n",
    "    \n",
    "    return res"
   ]
  },
  {
   "cell_type": "code",
   "execution_count": 20,
   "id": "97d59a43",
   "metadata": {},
   "outputs": [],
   "source": [
    "train_res = user_top_k_personal_rec_baseline(train, targets)"
   ]
  },
  {
   "cell_type": "code",
   "execution_count": 21,
   "id": "c98a29a0",
   "metadata": {},
   "outputs": [
    {
     "data": {
      "text/html": [
       "<div>\n",
       "<style scoped>\n",
       "    .dataframe tbody tr th:only-of-type {\n",
       "        vertical-align: middle;\n",
       "    }\n",
       "\n",
       "    .dataframe tbody tr th {\n",
       "        vertical-align: top;\n",
       "    }\n",
       "\n",
       "    .dataframe thead th {\n",
       "        text-align: right;\n",
       "    }\n",
       "</style>\n",
       "<table border=\"1\" class=\"dataframe\">\n",
       "  <thead>\n",
       "    <tr style=\"text-align: right;\">\n",
       "      <th></th>\n",
       "      <th>user_id</th>\n",
       "      <th>cart</th>\n",
       "      <th>target</th>\n",
       "      <th>predict</th>\n",
       "    </tr>\n",
       "  </thead>\n",
       "  <tbody>\n",
       "    <tr>\n",
       "      <th>0</th>\n",
       "      <td>0</td>\n",
       "      <td>14</td>\n",
       "      <td>0</td>\n",
       "      <td>1</td>\n",
       "    </tr>\n",
       "    <tr>\n",
       "      <th>1</th>\n",
       "      <td>0</td>\n",
       "      <td>20</td>\n",
       "      <td>0</td>\n",
       "      <td>1</td>\n",
       "    </tr>\n",
       "    <tr>\n",
       "      <th>2</th>\n",
       "      <td>0</td>\n",
       "      <td>57</td>\n",
       "      <td>1</td>\n",
       "      <td>1</td>\n",
       "    </tr>\n",
       "    <tr>\n",
       "      <th>3</th>\n",
       "      <td>0</td>\n",
       "      <td>82</td>\n",
       "      <td>0</td>\n",
       "      <td>1</td>\n",
       "    </tr>\n",
       "    <tr>\n",
       "      <th>4</th>\n",
       "      <td>0</td>\n",
       "      <td>379</td>\n",
       "      <td>0</td>\n",
       "      <td>1</td>\n",
       "    </tr>\n",
       "  </tbody>\n",
       "</table>\n",
       "</div>"
      ],
      "text/plain": [
       "   user_id  cart  target  predict\n",
       "0        0    14       0        1\n",
       "1        0    20       0        1\n",
       "2        0    57       1        1\n",
       "3        0    82       0        1\n",
       "4        0   379       0        1"
      ]
     },
     "execution_count": 21,
     "metadata": {},
     "output_type": "execute_result"
    }
   ],
   "source": [
    "train_res.head()"
   ]
  },
  {
   "cell_type": "code",
   "execution_count": 22,
   "id": "deb0b82b",
   "metadata": {},
   "outputs": [
    {
     "data": {
      "text/plain": [
       "0.34319546434025816"
      ]
     },
     "execution_count": 22,
     "metadata": {},
     "output_type": "execute_result"
    }
   ],
   "source": [
    "f1_score(train_res[\"target\"], train_res[\"predict\"])"
   ]
  },
  {
   "cell_type": "markdown",
   "id": "7a624719-0243-4943-8dd0-b8307bbb764a",
   "metadata": {},
   "source": [
    "#### Нефиксированный размер корзины"
   ]
  },
  {
   "cell_type": "markdown",
   "id": "797a2648-e836-4d1d-aa65-573ec2210c3d",
   "metadata": {},
   "source": [
    "Для ухода от фиксированного размера корзины для всех пользователей можно брать среднее или медианное количество товаров в корзине для каждого пользователя. Это дает серьезный прирост в качестве."
   ]
  },
  {
   "cell_type": "code",
   "execution_count": 23,
   "id": "8c9e77f2-e7c5-41d4-b943-a93a1e9ab5e2",
   "metadata": {},
   "outputs": [],
   "source": [
    "def user_top_x_personal_rec_baseline(t, skeleton):\n",
    "    users_cart_len = (\n",
    "        t.groupby([\"user_id\", \"time\"])[\"count\"].sum()\n",
    "        .reset_index()\n",
    "        .groupby(\"user_id\")[\"count\"].median().round().astype(int)\n",
    "        .reset_index()\n",
    "        .rename(columns={\"count\": \"cart_len\"})\n",
    "    )\n",
    "    \n",
    "    g = (\n",
    "        count_to_duplicates(t)\n",
    "            .groupby(\"user_id\")[\"cart\"]\n",
    "            .value_counts()\n",
    "            .to_frame()\n",
    "            .rename(columns={\"cart\":\"count\"}).reset_index()\n",
    "        )\n",
    "    g = pd.merge(g, users_cart_len, on='user_id', how='left')\n",
    "    \n",
    "    g = (\n",
    "        g.groupby(\"user_id\").progress_apply(lambda x: x[\"cart\"][:x[\"cart_len\"].unique()[0]])\n",
    "        .to_frame().droplevel(level=1).reset_index()\n",
    "    )\n",
    "    \n",
    "    g['predict'] = 1\n",
    "    res = skeleton.copy()\n",
    "    res = res.merge(g, how='left', on=['user_id', 'cart'])\n",
    "    res['predict'] = res['predict'].fillna(0).astype(int)\n",
    "    \n",
    "    return res"
   ]
  },
  {
   "cell_type": "code",
   "execution_count": 24,
   "id": "8f5c7ec2-c7d1-4e4d-ba92-0d20764779fb",
   "metadata": {},
   "outputs": [
    {
     "data": {
      "application/vnd.jupyter.widget-view+json": {
       "model_id": "6db25305ff294c58a3753710bdc44a60",
       "version_major": 2,
       "version_minor": 0
      },
      "text/plain": [
       "  0%|          | 0/20000 [00:00<?, ?it/s]"
      ]
     },
     "metadata": {},
     "output_type": "display_data"
    }
   ],
   "source": [
    "train_res = user_top_x_personal_rec_baseline(train, targets)"
   ]
  },
  {
   "cell_type": "code",
   "execution_count": 25,
   "id": "88dfef4f-fb64-402d-8f45-b0456dba49db",
   "metadata": {},
   "outputs": [
    {
     "data": {
      "text/plain": [
       "0.38992994994398833"
      ]
     },
     "execution_count": 25,
     "metadata": {},
     "output_type": "execute_result"
    }
   ],
   "source": [
    "f1_score(train_res[\"target\"], train_res[\"predict\"])"
   ]
  },
  {
   "cell_type": "markdown",
   "id": "ddafd984",
   "metadata": {},
   "source": [
    "### Tоп популярных товаров"
   ]
  },
  {
   "cell_type": "markdown",
   "id": "7985f08e-35c1-45f8-9278-d71f3187772d",
   "metadata": {},
   "source": [
    "#### Фиксированный размер корзины"
   ]
  },
  {
   "cell_type": "markdown",
   "id": "dd8ff033-1e26-4f15-8c3f-3715e2728a04",
   "metadata": {},
   "source": [
    "Возьмем все известные корзины пользователей, составим общий топ самых популярных товаров и порекомендуем его"
   ]
  },
  {
   "cell_type": "code",
   "execution_count": 26,
   "id": "aa71260a",
   "metadata": {},
   "outputs": [],
   "source": [
    "def top_k_popular_baseline(t, skeleton, k=15):\n",
    "    top_k_items = t.groupby(\"cart\")[\"count\"].sum().to_frame().reset_index() \\\n",
    "                   .sort_values(\"count\", ascending=False).head(k)[\"cart\"].tolist()\n",
    "    \n",
    "    res = skeleton.copy()\n",
    "    res['predict'] = np.where(res.cart.isin(top_k_items), 1, 0)\n",
    "    \n",
    "    return res"
   ]
  },
  {
   "cell_type": "code",
   "execution_count": 27,
   "id": "dfff0d1d",
   "metadata": {},
   "outputs": [],
   "source": [
    "train_res = top_k_popular_baseline(train, targets)"
   ]
  },
  {
   "cell_type": "code",
   "execution_count": 28,
   "id": "4c1dfc4e",
   "metadata": {},
   "outputs": [
    {
     "data": {
      "text/plain": [
       "0.36758787992167213"
      ]
     },
     "execution_count": 28,
     "metadata": {},
     "output_type": "execute_result"
    }
   ],
   "source": [
    "f1_score(train_res[\"target\"], train_res[\"predict\"])"
   ]
  },
  {
   "cell_type": "markdown",
   "id": "285f01d6-72c2-487f-9926-64c833b78b25",
   "metadata": {},
   "source": [
    "#### Нефиксированный размер корзины"
   ]
  },
  {
   "cell_type": "markdown",
   "id": "96169d1c-ccd3-4203-b66f-be2a651351ce",
   "metadata": {},
   "source": [
    "Здесь так же можно использовать нефиксированную длину рекомендуемой корзины"
   ]
  },
  {
   "cell_type": "code",
   "execution_count": 29,
   "id": "3ca772f3-fee4-4574-8f13-8c1fde9550d6",
   "metadata": {},
   "outputs": [],
   "source": [
    "def top_x_popular_baseline(t, skeleton):\n",
    "    \n",
    "    users_cart_len = (\n",
    "        train.groupby([\"user_id\", \"time\"])[\"count\"].sum()\n",
    "        .reset_index()\n",
    "        .groupby(\"user_id\")[\"count\"].median().round().astype(int)\n",
    "        .reset_index()\n",
    "        .rename(columns={\"count\": \"cart_len\"})\n",
    "    )\n",
    "    \n",
    "    top_x_max_items = t.groupby(\"cart\")[\"count\"].sum().to_frame().reset_index() \\\n",
    "                   .sort_values(\"count\", ascending=False)[\"cart\"].tolist()[:users_cart_len[\"cart_len\"].max()]\n",
    "    \n",
    "    users_cart_len[\"cart\"] = users_cart_len[\"cart_len\"].apply(lambda x: top_x_max_items[:x])\n",
    "    users_top_x = users_cart_len.drop(columns=[\"cart_len\"]).explode(\"cart\")\n",
    "    users_top_x[\"predict\"] = 1\n",
    "    \n",
    "    res = skeleton.copy()\n",
    "    res = res.merge(users_top_x, how='left', on=['user_id', 'cart'])\n",
    "    res['predict'] = res['predict'].fillna(0).astype(int)\n",
    "    \n",
    "    return res"
   ]
  },
  {
   "cell_type": "code",
   "execution_count": 30,
   "id": "fe59ac36-6251-48fa-a593-596c9c415f81",
   "metadata": {},
   "outputs": [],
   "source": [
    "train_res = top_x_popular_baseline(train, targets)"
   ]
  },
  {
   "cell_type": "code",
   "execution_count": 31,
   "id": "9b106e76-f65b-4610-80e4-f092583df5b3",
   "metadata": {
    "tags": []
   },
   "outputs": [
    {
     "data": {
      "text/plain": [
       "0.37505094485043405"
      ]
     },
     "execution_count": 31,
     "metadata": {},
     "output_type": "execute_result"
    }
   ],
   "source": [
    "f1_score(train_res[\"target\"], train_res[\"predict\"])"
   ]
  }
 ],
 "metadata": {
  "kernelspec": {
   "display_name": "Python (main_env)",
   "language": "python",
   "name": "main"
  },
  "language_info": {
   "codemirror_mode": {
    "name": "ipython",
    "version": 3
   },
   "file_extension": ".py",
   "mimetype": "text/x-python",
   "name": "python",
   "nbconvert_exporter": "python",
   "pygments_lexer": "ipython3",
   "version": "3.8.10"
  }
 },
 "nbformat": 4,
 "nbformat_minor": 5
}
