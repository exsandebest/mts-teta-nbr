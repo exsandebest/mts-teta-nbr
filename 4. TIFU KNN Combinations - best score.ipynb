{
 "cells": [
  {
   "cell_type": "markdown",
   "id": "23de3914-2da4-4bb6-ba14-5e0cf6646acb",
   "metadata": {},
   "source": [
    "Объединение топ-3 и топ-5 лучших сабмитов алгоритмом TIFU KNN при помощи голосования  \n",
    "Лучшая модель - объединение топ-3 - score: 0.45829 - 18-е место (public)"
   ]
  },
  {
   "cell_type": "code",
   "execution_count": 1,
   "id": "749cb9f7-b798-4b01-a5b8-17043c23fceb",
   "metadata": {},
   "outputs": [],
   "source": [
    "import pandas as pd\n",
    "import numpy as np\n",
    "from tqdm import tqdm"
   ]
  },
  {
   "cell_type": "code",
   "execution_count": 2,
   "id": "49f1cd11-80ca-4e66-9c59-93bfb29f42fb",
   "metadata": {},
   "outputs": [],
   "source": [
    "def diff(v1, v2):\n",
    "    assert len(v1) == len(v2)\n",
    "    k = 0\n",
    "    for i in range(len(v1)):\n",
    "        if v1[i] != v2[i]:\n",
    "            k+=1\n",
    "    return k/len(v1) * 100"
   ]
  },
  {
   "cell_type": "code",
   "execution_count": 3,
   "id": "9363fcb1-65ba-4cf3-8350-ce93da042eb3",
   "metadata": {},
   "outputs": [],
   "source": [
    "t1 = pd.read_csv(\"TIFU_KNN_k-20_r-0.8_aplha-0.85_topk-15_diff-12.74_train-0.54301.csv\")\n",
    "\n",
    "t2 = pd.read_csv(\"TIFU_KNN_k-30_r-0.75_aplha-0.95_topk-18_diff-15.89_train-0.45992.csv\")\n",
    "\n",
    "t3 = pd.read_csv(\"TIFU_KNN_k-26_r-0.85_aplha-0.91_topk-14_diff-12.16_train-0.45541.csv\")\n",
    "\n",
    "t4 = pd.read_csv(\"TIFU_KNN_k-15_r-0.73_aplha-0.79_topk-15_diff-13.01_train-0.45372.csv\")\n",
    "\n",
    "t5 = pd.read_csv(\"TIFU_KNN_k-5_r-0.8_aplha-0.75_diff-8.97_train-0.36508.csv\")"
   ]
  },
  {
   "cell_type": "code",
   "execution_count": 4,
   "id": "0a3d77ed-ed9e-4d3c-8540-2779269b5566",
   "metadata": {},
   "outputs": [],
   "source": [
    "targets = [t1[\"target\"], t2[\"target\"], t3[\"target\"], t4[\"target\"], t5[\"target\"]]"
   ]
  },
  {
   "cell_type": "code",
   "execution_count": 5,
   "id": "e115fb39-d6d5-4cfa-9071-011f4eac2e54",
   "metadata": {},
   "outputs": [],
   "source": [
    "target_top_3 = (targets[0] + targets[1] + targets[2]) / 3\n",
    "target_top_3 = target_top_3.apply(round)\n",
    "\n",
    "target_top_5 = (targets[0] + targets[1] + targets[2] + targets[3] + targets[4]) / 5\n",
    "target_top_5 = target_top_5.apply(round)"
   ]
  },
  {
   "cell_type": "code",
   "execution_count": 6,
   "id": "6bca2c86-3cb9-442e-9d62-0655e9ef0057",
   "metadata": {},
   "outputs": [
    {
     "name": "stdout",
     "output_type": "stream",
     "text": [
      "Difference top_3 and t1: 2.26946963055175\n",
      "Difference top_3 and t2: 6.6192758799112905\n",
      "Difference top_3 and t3: 1.5860605807585308\n"
     ]
    }
   ],
   "source": [
    "for i in range(3):\n",
    "    print(\"Difference top_3 and t\"+str(i+1)+\":\",  diff(target_top_3.tolist(), targets[i].tolist()))"
   ]
  },
  {
   "cell_type": "code",
   "execution_count": 7,
   "id": "173d0531-048f-4f44-8ef9-ef4e1f89d0a1",
   "metadata": {},
   "outputs": [
    {
     "name": "stdout",
     "output_type": "stream",
     "text": [
      "Difference top_5 and t1: 1.6033925022360709\n",
      "Difference top_5 and t2: 7.744585672193905\n",
      "Difference top_5 and t3: 2.7708302496429247\n",
      "Difference top_5 and t4: 4.2126690020482025\n",
      "Difference top_5 and t5: 6.076799388701865\n"
     ]
    }
   ],
   "source": [
    "for i in range(5):\n",
    "    print(\"Difference top_5 and t\"+str(i+1)+\":\",  diff(target_top_5.tolist(), targets[i].tolist()))"
   ]
  },
  {
   "cell_type": "code",
   "execution_count": 8,
   "id": "4fbe6bfb-16ee-4f5e-b12b-ed496a4db24e",
   "metadata": {},
   "outputs": [],
   "source": [
    "t1[\"target\"] = target_top_3\n",
    "t1.to_csv(\"combined_top_3_TIFU_KNN.csv\", index=False)"
   ]
  },
  {
   "cell_type": "code",
   "execution_count": 9,
   "id": "4cd4c2ab-f991-4f2a-a44e-2e7d04740659",
   "metadata": {},
   "outputs": [],
   "source": [
    "t1[\"target\"] = target_top_5\n",
    "t1.to_csv(\"combined_top_5_TIFU_KNN.csv\", index=False)"
   ]
  }
 ],
 "metadata": {
  "kernelspec": {
   "display_name": "Python 3",
   "language": "python",
   "name": "python3"
  },
  "language_info": {
   "codemirror_mode": {
    "name": "ipython",
    "version": 3
   },
   "file_extension": ".py",
   "mimetype": "text/x-python",
   "name": "python",
   "nbconvert_exporter": "python",
   "pygments_lexer": "ipython3",
   "version": "3.8.10"
  }
 },
 "nbformat": 4,
 "nbformat_minor": 5
}
